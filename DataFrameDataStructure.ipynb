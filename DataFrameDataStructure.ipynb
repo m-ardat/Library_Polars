{
 "cells": [
  {
   "cell_type": "markdown",
   "id": "78bb6170-ebc8-4c19-8ca2-8d2f4c329f34",
   "metadata": {},
   "source": [
    "# Структура данных DataFrame"
   ]
  },
  {
   "cell_type": "markdown",
   "id": "7d80f15b-221c-496b-bcfb-466725fe9d71",
   "metadata": {},
   "source": [
    "**Импорт библиотек**"
   ]
  },
  {
   "cell_type": "code",
   "execution_count": 1,
   "id": "884f145e-ce51-4f48-a651-7fd26aa28102",
   "metadata": {},
   "outputs": [],
   "source": [
    "import polars as pl\n",
    "import pandas as pd\n",
    "import numpy as np"
   ]
  },
  {
   "cell_type": "markdown",
   "id": "7783e7be-9d19-4ae1-a63d-87a4a2eb74b7",
   "metadata": {},
   "source": [
    "Объект `DataFrame` представляет структуру, состоящая из объектов `Series`. Объект `DataFrame` – это полноценная таблица с множеством строк и столбцов."
   ]
  },
  {
   "attachments": {
    "b570b2df-938f-426b-bb68-3c989ee9c7f3.png": {
     "image/png": "[encoded data removed]"
    }
   },
   "cell_type": "markdown",
   "id": "e9917aa3-c746-4037-9f1a-534ea701b054",
   "metadata": {},
   "source": [
    "![image.png](attachment:b570b2df-938f-426b-bb68-3c989ee9c7f3.png)"
   ]
  },
  {
   "cell_type": "markdown",
   "id": "d4e02bfe-9f67-4519-a2b6-2d44ca24321a",
   "metadata": {},
   "source": [
    "Объекты `Series` и `DataFrame` схожи, и многие операции, которые можно выполнять с одним из них, можно выполнять и с другим."
   ]
  },
  {
   "cell_type": "markdown",
   "id": "1dfb793c-77b8-4aa8-8671-88d8329df398",
   "metadata": {
    "jp-MarkdownHeadingCollapsed": true
   },
   "source": [
    "## Создание DataFrame"
   ]
  },
  {
   "cell_type": "markdown",
   "id": "eaa7dbdb-375d-4d56-b975-52f9a3448b81",
   "metadata": {},
   "source": [
    "Для создания датафрейма используют конструктор класса `DataFrame`, который выглядит следующим образом:"
   ]
  },
  {
   "cell_type": "markdown",
   "id": "5a65628c-2dc6-4a50-b026-29d42f7ea00b",
   "metadata": {},
   "source": [
    "`polars.DataFrame(data=None,schema=None,schema_override=None,strict=True,orient=None,infer_schema_length=100,nan_to_null=False)`"
   ]
  },
  {
   "cell_type": "markdown",
   "id": "a94bd9a0-45ce-4ccc-9f33-cf0e91c0f57a",
   "metadata": {},
   "source": [
    "| Параметр                | Тип / Возможные значения                         | Описание                                     |\n",
    "|-------------------------|--------------------------------------------------|----------------------------------------------|\n",
    "| **data**                | `Iterable`, `dict`, `DataFrame`, `numpy.ndarray`, `pandas.DataFrame` или `None` | Данные, на которых будет строиться DataFrame                                                                                                                   |\n",
    "| **schema**              | `Sequence[str]` или `Dict[str, Type]`            | Задаёт структуру выходного DataFrame: имена столбцов и (опционально) их типы. Пример: `{\"name\": str, \"age\": int}`.                                                                               |\n",
    "| **schema_override**     | `Dict[str, Type]` или `List[Type]`               | Используется при чтении несовместных источников (например, numpy-массивов), чтобы переопределить автоматически определённые типы данных.                                                     |\n",
    "| **strict**              | `bool`                                           | Если `True`, возникает ошибка при невозможности преобразования данных. При `False` Polars пытается выполнить мягкое преобразование (например, обрезка строк, округление чисел).                    |\n",
    "| **orient**              | `{'col', 'row'}` или `None`                      | Указывает ориентацию входных данных. `'row'` — данные представлены как список строк, `'col'` — как список столбцов. Автоматически определяется, если не указано.                                   |\n",
    "| **infer_schema_length** | `int` или `None`                                 | Количество строк, используемых для определения типов данных, если `schema` не задан. По умолчанию 100. Если `None` — анализируются все строки (создание DataFrame заёмет больше времени).     |\n",
    "| **nan_to_null**         | `bool`                                           | Если `True`, преобразует значения `NaN` в нуллы Polars (`null`/`None`). Полезно при работе с данными из Pandas.                                                                    |"
   ]
  },
  {
   "cell_type": "markdown",
   "id": "b13f8dd2-c0b4-4746-8e1c-047d3491206a",
   "metadata": {
    "jp-MarkdownHeadingCollapsed": true
   },
   "source": [
    "### Примеры создания *DataFrame*"
   ]
  },
  {
   "cell_type": "markdown",
   "id": "0a21ffeb-8298-47a3-a2aa-aa15ac4f62ed",
   "metadata": {},
   "source": [
    "Создать DataFrame можно разными способами:\n",
    "- из словаря;\n",
    "- из списка словарей;\n",
    "- из списка списков;\n",
    "- из структур Series;\n",
    "- из массива NumPy;\n",
    "- из другого датафрейма."
   ]
  },
  {
   "cell_type": "markdown",
   "id": "2d107f8e-80c7-4c8f-8d28-867185d12c08",
   "metadata": {},
   "source": [
    "**Из словаря**"
   ]
  },
  {
   "cell_type": "code",
   "execution_count": 2,
   "id": "dd02d0be-04db-4862-aa5b-d82d42b5d638",
   "metadata": {},
   "outputs": [
    {
     "name": "stdout",
     "output_type": "stream",
     "text": [
      "shape: (3, 3)\n",
      "┌─────────┬─────────┬─────────────────┐\n",
      "│ имя     ┆ возраст ┆ город           │\n",
      "│ ---     ┆ ---     ┆ ---             │\n",
      "│ str     ┆ i64     ┆ str             │\n",
      "╞═════════╪═════════╪═════════════════╡\n",
      "│ Алексей ┆ 25      ┆ Москва          │\n",
      "│ Мария   ┆ 30      ┆ Санкт-Петербург │\n",
      "│ Иван    ┆ 22      ┆ Казань          │\n",
      "└─────────┴─────────┴─────────────────┘\n"
     ]
    }
   ],
   "source": [
    "# Создадим словарь\n",
    "dict_data = {\n",
    "    \"имя\": [\"Алексей\", \"Мария\", \"Иван\"],\n",
    "    \"возраст\": [25, 30, 22],\n",
    "    \"город\": [\"Москва\", \"Санкт-Петербург\", \"Казань\"]\n",
    "}\n",
    "\n",
    "# Создание pl.DataFrame из словаря\n",
    "df = pl.DataFrame(data=dict_data)\n",
    "\n",
    "# Вывод DataFrame\n",
    "print(df)"
   ]
  },
  {
   "cell_type": "markdown",
   "id": "e67d3f0e-9ae2-4e5b-a87c-304c586be15e",
   "metadata": {},
   "source": [
    "1. В **Jupyter Notebook** так же можно вывести при помощи функции display() или просто по наименованию DataFrame.\n",
    "2. Обращаю внимание, что сразу после наименования заголовков колонок выводится тип данных, который *polars* определил сам.\n",
    "3. Над таблицей выводится размерность нашего DataFrame."
   ]
  },
  {
   "cell_type": "code",
   "execution_count": 3,
   "id": "5987ec86-48aa-431d-84c5-98213f8621cc",
   "metadata": {},
   "outputs": [
    {
     "data": {
      "text/html": [
       "<div><style>\n",
       ".dataframe > thead > tr,\n",
       ".dataframe > tbody > tr {\n",
       "  text-align: right;\n",
       "  white-space: pre-wrap;\n",
       "}\n",
       "</style>\n",
       "<small>shape: (3, 3)</small><table border=\"1\" class=\"dataframe\"><thead><tr><th>имя</th><th>возраст</th><th>город</th></tr><tr><td>str</td><td>i64</td><td>str</td></tr></thead><tbody><tr><td>&quot;Алексей&quot;</td><td>25</td><td>&quot;Москва&quot;</td></tr><tr><td>&quot;Мария&quot;</td><td>30</td><td>&quot;Санкт-Петербург&quot;</td></tr><tr><td>&quot;Иван&quot;</td><td>22</td><td>&quot;Казань&quot;</td></tr></tbody></table></div>"
      ],
      "text/plain": [
       "shape: (3, 3)\n",
       "┌─────────┬─────────┬─────────────────┐\n",
       "│ имя     ┆ возраст ┆ город           │\n",
       "│ ---     ┆ ---     ┆ ---             │\n",
       "│ str     ┆ i64     ┆ str             │\n",
       "╞═════════╪═════════╪═════════════════╡\n",
       "│ Алексей ┆ 25      ┆ Москва          │\n",
       "│ Мария   ┆ 30      ┆ Санкт-Петербург │\n",
       "│ Иван    ┆ 22      ┆ Казань          │\n",
       "└─────────┴─────────┴─────────────────┘"
      ]
     },
     "metadata": {},
     "output_type": "display_data"
    }
   ],
   "source": [
    "display(df)"
   ]
  },
  {
   "cell_type": "markdown",
   "id": "1db3bf0c-c00e-438c-b9ad-104fe76e69ef",
   "metadata": {},
   "source": [
    "**Из списка словарей**"
   ]
  },
  {
   "cell_type": "code",
   "execution_count": 4,
   "id": "e06ae35c-35f9-4edf-95d0-f65d44000f7d",
   "metadata": {},
   "outputs": [
    {
     "data": {
      "text/html": [
       "<div><style>\n",
       ".dataframe > thead > tr,\n",
       ".dataframe > tbody > tr {\n",
       "  text-align: right;\n",
       "  white-space: pre-wrap;\n",
       "}\n",
       "</style>\n",
       "<small>shape: (3, 3)</small><table border=\"1\" class=\"dataframe\"><thead><tr><th>имя</th><th>возраст</th><th>город</th></tr><tr><td>str</td><td>i64</td><td>str</td></tr></thead><tbody><tr><td>&quot;Алексей&quot;</td><td>25</td><td>&quot;Москва&quot;</td></tr><tr><td>&quot;Мария&quot;</td><td>30</td><td>&quot;Санкт-Петербург&quot;</td></tr><tr><td>&quot;Иван&quot;</td><td>22</td><td>&quot;Казань&quot;</td></tr></tbody></table></div>"
      ],
      "text/plain": [
       "shape: (3, 3)\n",
       "┌─────────┬─────────┬─────────────────┐\n",
       "│ имя     ┆ возраст ┆ город           │\n",
       "│ ---     ┆ ---     ┆ ---             │\n",
       "│ str     ┆ i64     ┆ str             │\n",
       "╞═════════╪═════════╪═════════════════╡\n",
       "│ Алексей ┆ 25      ┆ Москва          │\n",
       "│ Мария   ┆ 30      ┆ Санкт-Петербург │\n",
       "│ Иван    ┆ 22      ┆ Казань          │\n",
       "└─────────┴─────────┴─────────────────┘"
      ]
     },
     "metadata": {},
     "output_type": "display_data"
    }
   ],
   "source": [
    "# Создадим список словарей\n",
    "dataList = [\n",
    "    {\"имя\": \"Алексей\", \"возраст\": 25, \"город\": \"Москва\"},\n",
    "    {\"имя\": \"Мария\", \"возраст\": 30, \"город\": \"Санкт-Петербург\"},\n",
    "    {\"имя\": \"Иван\", \"возраст\": 22, \"город\": \"Казань\"}\n",
    "]\n",
    "\n",
    "# Создание DataFrame из списка словарей\n",
    "df = pl.DataFrame(data=dataList)\n",
    "\n",
    "# Вывод DataFrame\n",
    "display(df)"
   ]
  },
  {
   "cell_type": "markdown",
   "id": "f6b523ce-4684-4c38-b108-29b3a6ee8421",
   "metadata": {},
   "source": [
    "**Из списка списков**"
   ]
  },
  {
   "cell_type": "markdown",
   "id": "37d5ba23-d90a-4c38-b036-dbf7c9b5776c",
   "metadata": {},
   "source": [
    "Тут появляются некоторые особенности"
   ]
  },
  {
   "cell_type": "code",
   "execution_count": 5,
   "id": "f57babd5-10d5-4fd5-9c48-35b662fae94a",
   "metadata": {},
   "outputs": [
    {
     "name": "stdout",
     "output_type": "stream",
     "text": [
      "Ошибка unexpected value while building Series of type String; found value of type Int64: 25\n",
      "\n",
      "Hint: Try setting `strict=False` to allow passing data with mixed types.\n"
     ]
    }
   ],
   "source": [
    "# Создадим список списков\n",
    "dataListList = [\n",
    "    [\"Алексей\", 25, \"Москва\"],\n",
    "    [\"Мария\", 30, \"Санкт-Петербург\"],\n",
    "    [\"Иван\", 22, \"Казань\"]\n",
    "]\n",
    "\n",
    "try:\n",
    "    # Создание DataFrame из списка списков\n",
    "    df = pl.DataFrame(data=dataListList)\n",
    "    # Вывод DataFrame\n",
    "    print(df)\n",
    "except Exception as e:\n",
    "    print(f\"Ошибка {e}\")\n"
   ]
  },
  {
   "cell_type": "markdown",
   "id": "670c00d3-3ef5-4e44-b13e-d2a17a9e36a2",
   "metadata": {},
   "source": [
    "*Polars* по умолчанию пытается создать каждый столбец с одним типом данных. При этом он сначала смотрит на первую строку, чтобы определить типы. Видим, что первый элемент первой строки — строка (\"Алексей\"), и предполагает, что весь первый столбец должен быть `String`. Но второй элемент первой строки — число 25, и `Polars` в замешательстве: типы данных строка и числовой несовместимы, и не может их вставить → отсюда ошибка. Т.е. он думает, что каждая строка списка - это отдельная колонка. Чтобы избавиться от ошибки, есть два варианта:\n",
    "- задать параметр `orient`\n",
    "- задать параметр `schema` (может не помочь!)"
   ]
  },
  {
   "cell_type": "code",
   "execution_count": 6,
   "id": "aa76b8b3-9697-4bc2-a140-2ea6523b3f5e",
   "metadata": {},
   "outputs": [
    {
     "name": "stdout",
     "output_type": "stream",
     "text": [
      "shape: (3, 3)\n",
      "┌──────────┬──────────┬─────────────────┐\n",
      "│ column_0 ┆ column_1 ┆ column_2        │\n",
      "│ ---      ┆ ---      ┆ ---             │\n",
      "│ str      ┆ i64      ┆ str             │\n",
      "╞══════════╪══════════╪═════════════════╡\n",
      "│ Алексей  ┆ 25       ┆ Москва          │\n",
      "│ Мария    ┆ 30       ┆ Санкт-Петербург │\n",
      "│ Иван     ┆ 22       ┆ Казань          │\n",
      "└──────────┴──────────┴─────────────────┘\n"
     ]
    }
   ],
   "source": [
    "# Создадим список списков\n",
    "dataListList = [\n",
    "    [\"Алексей\", 25, \"Москва\"],\n",
    "    [\"Мария\", 30, \"Санкт-Петербург\"],\n",
    "    [\"Иван\", 22, \"Казань\"]\n",
    "]\n",
    "\n",
    "try:\n",
    "    # Создание DataFrame из списка списков\n",
    "    df = pl.DataFrame(data=dataListList, orient=\"row\")\n",
    "    # Вывод DataFrame\n",
    "    print(df)\n",
    "except Exception as e:\n",
    "    print(f\"Ошибка {e}\")"
   ]
  },
  {
   "cell_type": "markdown",
   "id": "4b455990-3577-4c2e-88ae-bc67f4c1c509",
   "metadata": {},
   "source": [
    "Теперь всё работает. Однако мы получили *DataFrame* с автоматической индексацией колонок. Заново создадим объект и передадим список с именами колонок параметру `schema`:"
   ]
  },
  {
   "cell_type": "code",
   "execution_count": 7,
   "id": "fac80708-4e9a-4885-a55e-4e72aa85c3c4",
   "metadata": {},
   "outputs": [
    {
     "name": "stdout",
     "output_type": "stream",
     "text": [
      "shape: (3, 3)\n",
      "┌─────────┬─────────┬─────────────────┐\n",
      "│ имя     ┆ возраст ┆ город           │\n",
      "│ ---     ┆ ---     ┆ ---             │\n",
      "│ str     ┆ i64     ┆ str             │\n",
      "╞═════════╪═════════╪═════════════════╡\n",
      "│ Алексей ┆ 25      ┆ Москва          │\n",
      "│ Мария   ┆ 30      ┆ Санкт-Петербург │\n",
      "│ Иван    ┆ 22      ┆ Казань          │\n",
      "└─────────┴─────────┴─────────────────┘\n"
     ]
    }
   ],
   "source": [
    "# Создадим список списков\n",
    "dataListList = [\n",
    "    [\"Алексей\", 25, \"Москва\"],\n",
    "    [\"Мария\", 30, \"Санкт-Петербург\"],\n",
    "    [\"Иван\", 22, \"Казань\"]\n",
    "]\n",
    "\n",
    "# Определение имен столбцов\n",
    "columns_name = [\"имя\", \"возраст\", \"город\"]\n",
    "\n",
    "try:\n",
    "    # Создание DataFrame из списка списков\n",
    "    df = pl.DataFrame(data=dataListList, schema=columns_name, orient=\"row\")\n",
    "    # Вывод DataFrame\n",
    "    print(df)\n",
    "except Exception as e:\n",
    "    print(f\"Ошибка {e}\")"
   ]
  },
  {
   "cell_type": "markdown",
   "id": "09e3af1b-3955-4c37-8e2d-294a750334ff",
   "metadata": {},
   "source": [
    "Готово"
   ]
  },
  {
   "cell_type": "markdown",
   "id": "d83574e7-16db-45ef-8943-d21734b57df8",
   "metadata": {},
   "source": [
    "**Из структур Series**"
   ]
  },
  {
   "cell_type": "code",
   "execution_count": 8,
   "id": "5e8c1e2c-2454-430d-ae20-a3b6d9686112",
   "metadata": {},
   "outputs": [
    {
     "name": "stdout",
     "output_type": "stream",
     "text": [
      "shape: (3, 3)\n",
      "┌─────────┬─────────┬─────────────────┐\n",
      "│ имя     ┆ возраст ┆ город           │\n",
      "│ ---     ┆ ---     ┆ ---             │\n",
      "│ str     ┆ i64     ┆ str             │\n",
      "╞═════════╪═════════╪═════════════════╡\n",
      "│ Алексей ┆ 25      ┆ Москва          │\n",
      "│ Мария   ┆ 30      ┆ Санкт-Петербург │\n",
      "│ Иван    ┆ 22      ┆ Казань          │\n",
      "└─────────┴─────────┴─────────────────┘\n"
     ]
    }
   ],
   "source": [
    "# Создадим Series\n",
    "name_series = pl.Series(name=\"имя\", values=[\"Алексей\", \"Мария\", \"Иван\"])\n",
    "age_series = pl.Series(name=\"возраст\", values=[25, 30, 22])\n",
    "city_series = pl.Series(name=\"город\", values=[\"Москва\", \"Санкт-Петербург\", \"Казань\"])\n",
    "\n",
    "# Создание DataFrame из Series\n",
    "df = pl.DataFrame([name_series, age_series, city_series])\n",
    "\n",
    "# Вывод DataFrame\n",
    "print(df)"
   ]
  },
  {
   "cell_type": "markdown",
   "id": "e05e38b9-3220-4b43-a205-69da9d077b0b",
   "metadata": {},
   "source": [
    "Для одиночной *Series* есть метод `to_frame()`, который позволяет сконвертировать объект Series в объект DataFrame:"
   ]
  },
  {
   "cell_type": "code",
   "execution_count": 9,
   "id": "8b9a2995-dac0-4041-a3eb-489aa586d561",
   "metadata": {},
   "outputs": [
    {
     "data": {
      "text/html": [
       "<div><style>\n",
       ".dataframe > thead > tr,\n",
       ".dataframe > tbody > tr {\n",
       "  text-align: right;\n",
       "  white-space: pre-wrap;\n",
       "}\n",
       "</style>\n",
       "<small>shape: (3, 1)</small><table border=\"1\" class=\"dataframe\"><thead><tr><th>имя</th></tr><tr><td>str</td></tr></thead><tbody><tr><td>&quot;Алексей&quot;</td></tr><tr><td>&quot;Мария&quot;</td></tr><tr><td>&quot;Иван&quot;</td></tr></tbody></table></div>"
      ],
      "text/plain": [
       "shape: (3, 1)\n",
       "┌─────────┐\n",
       "│ имя     │\n",
       "│ ---     │\n",
       "│ str     │\n",
       "╞═════════╡\n",
       "│ Алексей │\n",
       "│ Мария   │\n",
       "│ Иван    │\n",
       "└─────────┘"
      ]
     },
     "execution_count": 9,
     "metadata": {},
     "output_type": "execute_result"
    }
   ],
   "source": [
    "# Создаем серию\n",
    "s = pl.Series(name=\"имя\", values=[\"Алексей\", \"Мария\", \"Иван\"])\n",
    "# Конвертируем в DataFrame\n",
    "df = s.to_frame()\n",
    "# Получаем\n",
    "df"
   ]
  },
  {
   "cell_type": "markdown",
   "id": "f41d5ba4-e9bc-4441-9b9f-c3e5e260fd45",
   "metadata": {},
   "source": [
    "**Из массива NumPy**"
   ]
  },
  {
   "cell_type": "code",
   "execution_count": 10,
   "id": "264b296c-7c9d-43d6-b63e-34349f11ae7d",
   "metadata": {},
   "outputs": [
    {
     "name": "stdout",
     "output_type": "stream",
     "text": [
      "shape: (3, 3)\n",
      "┌──────────┬──────────┬─────────────────┐\n",
      "│ column_0 ┆ column_1 ┆ column_2        │\n",
      "│ ---      ┆ ---      ┆ ---             │\n",
      "│ str      ┆ str      ┆ str             │\n",
      "╞══════════╪══════════╪═════════════════╡\n",
      "│ Алексей  ┆ 25       ┆ Москва          │\n",
      "│ Мария    ┆ 30       ┆ Санкт-Петербург │\n",
      "│ Иван     ┆ 22       ┆ Казань          │\n",
      "└──────────┴──────────┴─────────────────┘\n"
     ]
    }
   ],
   "source": [
    "# Создаём массив NumPy\n",
    "data_array = np.array([\n",
    "    [\"Алексей\", 25, \"Москва\"],\n",
    "    [\"Мария\", 30, \"Санкт-Петербург\"],\n",
    "    [\"Иван\", 22, \"Казань\"]\n",
    "])\n",
    "\n",
    "# DataFrame из массива NumPy\n",
    "df = pl.DataFrame(data_array)\n",
    "\n",
    "# Вывод DataFrame\n",
    "print(df)"
   ]
  },
  {
   "cell_type": "markdown",
   "id": "bdff6a29-2862-43d6-8475-b1187c0e20bf",
   "metadata": {
    "jp-MarkdownHeadingCollapsed": true
   },
   "source": [
    "## Получение сведений о `DataFrame`"
   ]
  },
  {
   "cell_type": "markdown",
   "id": "82efbdd4-98de-4cc7-a24e-61841daa538e",
   "metadata": {},
   "source": [
    "Создадим *DataFrame* с медведями"
   ]
  },
  {
   "cell_type": "code",
   "execution_count": 11,
   "id": "1fb8b222-f6df-42b8-b060-cd96ca241474",
   "metadata": {},
   "outputs": [
    {
     "name": "stdout",
     "output_type": "stream",
     "text": [
      "shape: (8, 8)\n",
      "┌────────────┬────────────┬────────────┬───────────┬───────────┬───────────┬───────────┬───────────┐\n",
      "│ Вид        ┆ Латинское_ ┆ Масса_min_ ┆ Масса_max ┆ Рост_min_ ┆ Рост_max_ ┆ Ареал_оби ┆ Статус_ох │\n",
      "│ ---        ┆ название   ┆ кг         ┆ _кг       ┆ м         ┆ м         ┆ тания     ┆ р         │\n",
      "│ str        ┆ ---        ┆ ---        ┆ ---       ┆ ---       ┆ ---       ┆ ---       ┆ ---       │\n",
      "│            ┆ str        ┆ i64        ┆ i64       ┆ f64       ┆ f64       ┆ str       ┆ str       │\n",
      "╞════════════╪════════════╪════════════╪═══════════╪═══════════╪═══════════╪═══════════╪═══════════╡\n",
      "│ Белый      ┆ Ursus      ┆ 300        ┆ 800       ┆ 1.5       ┆ 1.8       ┆ Арктика   ┆ Уязвимый  │\n",
      "│ медведь    ┆ maritimus  ┆            ┆           ┆           ┆           ┆ (Канада,  ┆ (IUCN)    │\n",
      "│            ┆            ┆            ┆           ┆           ┆           ┆ Гренланди ┆           │\n",
      "│            ┆            ┆            ┆           ┆           ┆           ┆ я, Р…     ┆           │\n",
      "│ Бурый      ┆ Ursus      ┆ 90         ┆ 600       ┆ 1.3       ┆ 2.8       ┆ Евразия,  ┆ Безопасны │\n",
      "│ медведь    ┆ arctos     ┆            ┆           ┆           ┆           ┆ Северная  ┆ й (IUCN)  │\n",
      "│            ┆            ┆            ┆           ┆           ┆           ┆ Америка   ┆           │\n",
      "│ Чёрный     ┆ Ursus      ┆ 60         ┆ 300       ┆ 1.0       ┆ 2.0       ┆ Северная  ┆ Безопасны │\n",
      "│ медведь    ┆ americanus ┆            ┆           ┆           ┆           ┆ Америка   ┆ й (IUCN)  │\n",
      "│ Гималайски ┆ Ursus      ┆ 60         ┆ 200       ┆ 1.0       ┆ 1.5       ┆ Южная и   ┆ Уязвимый  │\n",
      "│ й медведь  ┆ thibetanus ┆            ┆           ┆           ┆           ┆ Юго-Восто ┆ (IUCN)    │\n",
      "│            ┆            ┆            ┆           ┆           ┆           ┆ чная Азия ┆           │\n",
      "│ Малая      ┆ Ailurus    ┆ 3          ┆ 6         ┆ 0.4       ┆ 0.6       ┆ Гималаи,  ┆ Уязвимый  │\n",
      "│ панда      ┆ fulgens    ┆            ┆           ┆           ┆           ┆ Непал,    ┆ (IUCN)    │\n",
      "│            ┆            ┆            ┆           ┆           ┆           ┆ Бутан     ┆           │\n",
      "│ Большая    ┆ Ailuropoda ┆ 70         ┆ 150       ┆ 1.0       ┆ 1.5       ┆ Центра́льн ┆ Уязвимый  │\n",
      "│ панда      ┆ melanoleuc ┆            ┆           ┆           ┆           ┆ ый и      ┆ (IUCN)    │\n",
      "│            ┆ a          ┆            ┆           ┆           ┆           ┆ Западный  ┆           │\n",
      "│            ┆            ┆            ┆           ┆           ┆           ┆ Китай     ┆           │\n",
      "│ Малайский  ┆ Helarctos  ┆ 25         ┆ 65        ┆ 1.0       ┆ 1.5       ┆ Юго-Восто ┆ Уязвимый  │\n",
      "│ медведь    ┆ malayanus  ┆            ┆           ┆           ┆           ┆ чная Азия ┆ (IUCN)    │\n",
      "│ Очковый    ┆ Tremarctos ┆ 50         ┆ 150       ┆ 1.0       ┆ 1.8       ┆ Анды,     ┆ Вызывающи │\n",
      "│ медведь    ┆ ornatus    ┆            ┆           ┆           ┆           ┆ Южная     ┆ й         │\n",
      "│            ┆            ┆            ┆           ┆           ┆           ┆ Америка   ┆ опасение  │\n",
      "│            ┆            ┆            ┆           ┆           ┆           ┆           ┆ (IUCN)    │\n",
      "└────────────┴────────────┴────────────┴───────────┴───────────┴───────────┴───────────┴───────────┘\n"
     ]
    }
   ],
   "source": [
    "# Все виды современных медведей\n",
    "data_bears = {\n",
    "    \"Вид\": [\n",
    "        \"Белый медведь\",\n",
    "        \"Бурый медведь\",\n",
    "        \"Чёрный медведь\",\n",
    "        \"Гималайский медведь\",\n",
    "        \"Малая панда\",\n",
    "        \"Большая панда\",\n",
    "        \"Малайский медведь\",\n",
    "        \"Очковый медведь\"\n",
    "    ],\n",
    "    \"Латинское_название\": [\n",
    "        \"Ursus maritimus\",\n",
    "        \"Ursus arctos\",\n",
    "        \"Ursus americanus\",\n",
    "        \"Ursus thibetanus\",\n",
    "        \"Ailurus fulgens\",\n",
    "        \"Ailuropoda melanoleuca\",\n",
    "        \"Helarctos malayanus\",\n",
    "        \"Tremarctos ornatus\"\n",
    "    ],\n",
    "    \"Масса_min_кг\": [300, 90, 60, 60, 3, 70, 25, 50],\n",
    "    \"Масса_max_кг\": [800, 600, 300, 200, 6, 150, 65, 150],\n",
    "    \"Рост_min_м\": [1.5, 1.3, 1.0, 1.0, 0.4, 1.0, 1.0, 1.0],\n",
    "    \"Рост_max_м\": [1.8, 2.8, 2.0, 1.5, 0.6, 1.5, 1.5, 1.8],\n",
    "    \"Ареал_обитания\": [\n",
    "        \"Арктика (Канада, Гренландия, Россия и др.)\",\n",
    "        \"Евразия, Северная Америка\",\n",
    "        \"Северная Америка\",\n",
    "        \"Южная и Юго-Восточная Азия\",\n",
    "        \"Гималаи, Непал, Бутан\",\n",
    "        \"Центра́льный и Западный Китай\",\n",
    "        \"Юго-Восточная Азия\",\n",
    "        \"Анды, Южная Америка\"\n",
    "    ],\n",
    "    \"Статус_охр\": [\n",
    "        \"Уязвимый (IUCN)\",\n",
    "        \"Безопасный (IUCN)\",\n",
    "        \"Безопасный (IUCN)\",\n",
    "        \"Уязвимый (IUCN)\",\n",
    "        \"Уязвимый (IUCN)\",\n",
    "        \"Уязвимый (IUCN)\",\n",
    "        \"Уязвимый (IUCN)\",\n",
    "        \"Вызывающий опасение (IUCN)\"\n",
    "    ]\n",
    "}\n",
    "\n",
    "# Создание DataFrame\n",
    "df_bears = pl.DataFrame(data_bears)\n",
    "\n",
    "# Вывод первых строк\n",
    "print(df_bears)"
   ]
  },
  {
   "cell_type": "markdown",
   "id": "2898b984-8564-498d-8d7c-f0012d1c6551",
   "metadata": {},
   "source": [
    "**Методы `head()`, `tail()`**"
   ]
  },
  {
   "cell_type": "markdown",
   "id": "f0e7646d-ab01-457c-90b1-7d81d89a716b",
   "metadata": {},
   "source": [
    "Метод `head()` позволяет вывести первые **m** строк *DataFrame*. По умолчанию метод выводит первые пять строк."
   ]
  },
  {
   "cell_type": "code",
   "execution_count": 12,
   "id": "312d0483-186b-4a80-8746-04f1229f50ee",
   "metadata": {},
   "outputs": [
    {
     "data": {
      "text/html": [
       "<div><style>\n",
       ".dataframe > thead > tr,\n",
       ".dataframe > tbody > tr {\n",
       "  text-align: right;\n",
       "  white-space: pre-wrap;\n",
       "}\n",
       "</style>\n",
       "<small>shape: (5, 8)</small><table border=\"1\" class=\"dataframe\"><thead><tr><th>Вид</th><th>Латинское_название</th><th>Масса_min_кг</th><th>Масса_max_кг</th><th>Рост_min_м</th><th>Рост_max_м</th><th>Ареал_обитания</th><th>Статус_охр</th></tr><tr><td>str</td><td>str</td><td>i64</td><td>i64</td><td>f64</td><td>f64</td><td>str</td><td>str</td></tr></thead><tbody><tr><td>&quot;Белый медведь&quot;</td><td>&quot;Ursus maritimus&quot;</td><td>300</td><td>800</td><td>1.5</td><td>1.8</td><td>&quot;Арктика (Канада, Гренландия, Р…</td><td>&quot;Уязвимый (IUCN)&quot;</td></tr><tr><td>&quot;Бурый медведь&quot;</td><td>&quot;Ursus arctos&quot;</td><td>90</td><td>600</td><td>1.3</td><td>2.8</td><td>&quot;Евразия, Северная Америка&quot;</td><td>&quot;Безопасный (IUCN)&quot;</td></tr><tr><td>&quot;Чёрный медведь&quot;</td><td>&quot;Ursus americanus&quot;</td><td>60</td><td>300</td><td>1.0</td><td>2.0</td><td>&quot;Северная Америка&quot;</td><td>&quot;Безопасный (IUCN)&quot;</td></tr><tr><td>&quot;Гималайский медведь&quot;</td><td>&quot;Ursus thibetanus&quot;</td><td>60</td><td>200</td><td>1.0</td><td>1.5</td><td>&quot;Южная и Юго-Восточная Азия&quot;</td><td>&quot;Уязвимый (IUCN)&quot;</td></tr><tr><td>&quot;Малая панда&quot;</td><td>&quot;Ailurus fulgens&quot;</td><td>3</td><td>6</td><td>0.4</td><td>0.6</td><td>&quot;Гималаи, Непал, Бутан&quot;</td><td>&quot;Уязвимый (IUCN)&quot;</td></tr></tbody></table></div>"
      ],
      "text/plain": [
       "shape: (5, 8)\n",
       "┌────────────┬────────────┬────────────┬───────────┬───────────┬───────────┬───────────┬───────────┐\n",
       "│ Вид        ┆ Латинское_ ┆ Масса_min_ ┆ Масса_max ┆ Рост_min_ ┆ Рост_max_ ┆ Ареал_оби ┆ Статус_ох │\n",
       "│ ---        ┆ название   ┆ кг         ┆ _кг       ┆ м         ┆ м         ┆ тания     ┆ р         │\n",
       "│ str        ┆ ---        ┆ ---        ┆ ---       ┆ ---       ┆ ---       ┆ ---       ┆ ---       │\n",
       "│            ┆ str        ┆ i64        ┆ i64       ┆ f64       ┆ f64       ┆ str       ┆ str       │\n",
       "╞════════════╪════════════╪════════════╪═══════════╪═══════════╪═══════════╪═══════════╪═══════════╡\n",
       "│ Белый      ┆ Ursus      ┆ 300        ┆ 800       ┆ 1.5       ┆ 1.8       ┆ Арктика   ┆ Уязвимый  │\n",
       "│ медведь    ┆ maritimus  ┆            ┆           ┆           ┆           ┆ (Канада,  ┆ (IUCN)    │\n",
       "│            ┆            ┆            ┆           ┆           ┆           ┆ Гренланди ┆           │\n",
       "│            ┆            ┆            ┆           ┆           ┆           ┆ я, Р…     ┆           │\n",
       "│ Бурый      ┆ Ursus      ┆ 90         ┆ 600       ┆ 1.3       ┆ 2.8       ┆ Евразия,  ┆ Безопасны │\n",
       "│ медведь    ┆ arctos     ┆            ┆           ┆           ┆           ┆ Северная  ┆ й (IUCN)  │\n",
       "│            ┆            ┆            ┆           ┆           ┆           ┆ Америка   ┆           │\n",
       "│ Чёрный     ┆ Ursus      ┆ 60         ┆ 300       ┆ 1.0       ┆ 2.0       ┆ Северная  ┆ Безопасны │\n",
       "│ медведь    ┆ americanus ┆            ┆           ┆           ┆           ┆ Америка   ┆ й (IUCN)  │\n",
       "│ Гималайски ┆ Ursus      ┆ 60         ┆ 200       ┆ 1.0       ┆ 1.5       ┆ Южная и   ┆ Уязвимый  │\n",
       "│ й медведь  ┆ thibetanus ┆            ┆           ┆           ┆           ┆ Юго-Восто ┆ (IUCN)    │\n",
       "│            ┆            ┆            ┆           ┆           ┆           ┆ чная Азия ┆           │\n",
       "│ Малая      ┆ Ailurus    ┆ 3          ┆ 6         ┆ 0.4       ┆ 0.6       ┆ Гималаи,  ┆ Уязвимый  │\n",
       "│ панда      ┆ fulgens    ┆            ┆           ┆           ┆           ┆ Непал,    ┆ (IUCN)    │\n",
       "│            ┆            ┆            ┆           ┆           ┆           ┆ Бутан     ┆           │\n",
       "└────────────┴────────────┴────────────┴───────────┴───────────┴───────────┴───────────┴───────────┘"
      ]
     },
     "execution_count": 12,
     "metadata": {},
     "output_type": "execute_result"
    }
   ],
   "source": [
    "df_bears.head()"
   ]
  },
  {
   "cell_type": "code",
   "execution_count": 13,
   "id": "8886c097-26d2-4062-b1ca-bf4d382df4a4",
   "metadata": {},
   "outputs": [
    {
     "name": "stdout",
     "output_type": "stream",
     "text": [
      "shape: (2, 8)\n",
      "┌────────────┬────────────┬────────────┬───────────┬───────────┬───────────┬───────────┬───────────┐\n",
      "│ Вид        ┆ Латинское_ ┆ Масса_min_ ┆ Масса_max ┆ Рост_min_ ┆ Рост_max_ ┆ Ареал_оби ┆ Статус_ох │\n",
      "│ ---        ┆ название   ┆ кг         ┆ _кг       ┆ м         ┆ м         ┆ тания     ┆ р         │\n",
      "│ str        ┆ ---        ┆ ---        ┆ ---       ┆ ---       ┆ ---       ┆ ---       ┆ ---       │\n",
      "│            ┆ str        ┆ i64        ┆ i64       ┆ f64       ┆ f64       ┆ str       ┆ str       │\n",
      "╞════════════╪════════════╪════════════╪═══════════╪═══════════╪═══════════╪═══════════╪═══════════╡\n",
      "│ Белый      ┆ Ursus      ┆ 300        ┆ 800       ┆ 1.5       ┆ 1.8       ┆ Арктика   ┆ Уязвимый  │\n",
      "│ медведь    ┆ maritimus  ┆            ┆           ┆           ┆           ┆ (Канада,  ┆ (IUCN)    │\n",
      "│            ┆            ┆            ┆           ┆           ┆           ┆ Гренланди ┆           │\n",
      "│            ┆            ┆            ┆           ┆           ┆           ┆ я, Р…     ┆           │\n",
      "│ Бурый      ┆ Ursus      ┆ 90         ┆ 600       ┆ 1.3       ┆ 2.8       ┆ Евразия,  ┆ Безопасны │\n",
      "│ медведь    ┆ arctos     ┆            ┆           ┆           ┆           ┆ Северная  ┆ й (IUCN)  │\n",
      "│            ┆            ┆            ┆           ┆           ┆           ┆ Америка   ┆           │\n",
      "└────────────┴────────────┴────────────┴───────────┴───────────┴───────────┴───────────┴───────────┘\n"
     ]
    }
   ],
   "source": [
    "print(df_bears.head(2))"
   ]
  },
  {
   "cell_type": "markdown",
   "id": "e7cb88ad-8b76-42d5-ab0d-c19516d20317",
   "metadata": {},
   "source": [
    "Метод `tail()` позволяет вывести последние **m** строк *DataFrame*. По умолчанию метод выводит последние пять строк."
   ]
  },
  {
   "cell_type": "code",
   "execution_count": 14,
   "id": "99741951-f271-418a-aa67-dcc493c486f5",
   "metadata": {},
   "outputs": [
    {
     "data": {
      "text/html": [
       "<div><style>\n",
       ".dataframe > thead > tr,\n",
       ".dataframe > tbody > tr {\n",
       "  text-align: right;\n",
       "  white-space: pre-wrap;\n",
       "}\n",
       "</style>\n",
       "<small>shape: (5, 8)</small><table border=\"1\" class=\"dataframe\"><thead><tr><th>Вид</th><th>Латинское_название</th><th>Масса_min_кг</th><th>Масса_max_кг</th><th>Рост_min_м</th><th>Рост_max_м</th><th>Ареал_обитания</th><th>Статус_охр</th></tr><tr><td>str</td><td>str</td><td>i64</td><td>i64</td><td>f64</td><td>f64</td><td>str</td><td>str</td></tr></thead><tbody><tr><td>&quot;Гималайский медведь&quot;</td><td>&quot;Ursus thibetanus&quot;</td><td>60</td><td>200</td><td>1.0</td><td>1.5</td><td>&quot;Южная и Юго-Восточная Азия&quot;</td><td>&quot;Уязвимый (IUCN)&quot;</td></tr><tr><td>&quot;Малая панда&quot;</td><td>&quot;Ailurus fulgens&quot;</td><td>3</td><td>6</td><td>0.4</td><td>0.6</td><td>&quot;Гималаи, Непал, Бутан&quot;</td><td>&quot;Уязвимый (IUCN)&quot;</td></tr><tr><td>&quot;Большая панда&quot;</td><td>&quot;Ailuropoda melanoleuca&quot;</td><td>70</td><td>150</td><td>1.0</td><td>1.5</td><td>&quot;Центра́льный и Западный Китай&quot;</td><td>&quot;Уязвимый (IUCN)&quot;</td></tr><tr><td>&quot;Малайский медведь&quot;</td><td>&quot;Helarctos malayanus&quot;</td><td>25</td><td>65</td><td>1.0</td><td>1.5</td><td>&quot;Юго-Восточная Азия&quot;</td><td>&quot;Уязвимый (IUCN)&quot;</td></tr><tr><td>&quot;Очковый медведь&quot;</td><td>&quot;Tremarctos ornatus&quot;</td><td>50</td><td>150</td><td>1.0</td><td>1.8</td><td>&quot;Анды, Южная Америка&quot;</td><td>&quot;Вызывающий опасение (IUCN)&quot;</td></tr></tbody></table></div>"
      ],
      "text/plain": [
       "shape: (5, 8)\n",
       "┌────────────┬────────────┬────────────┬───────────┬───────────┬───────────┬───────────┬───────────┐\n",
       "│ Вид        ┆ Латинское_ ┆ Масса_min_ ┆ Масса_max ┆ Рост_min_ ┆ Рост_max_ ┆ Ареал_оби ┆ Статус_ох │\n",
       "│ ---        ┆ название   ┆ кг         ┆ _кг       ┆ м         ┆ м         ┆ тания     ┆ р         │\n",
       "│ str        ┆ ---        ┆ ---        ┆ ---       ┆ ---       ┆ ---       ┆ ---       ┆ ---       │\n",
       "│            ┆ str        ┆ i64        ┆ i64       ┆ f64       ┆ f64       ┆ str       ┆ str       │\n",
       "╞════════════╪════════════╪════════════╪═══════════╪═══════════╪═══════════╪═══════════╪═══════════╡\n",
       "│ Гималайски ┆ Ursus      ┆ 60         ┆ 200       ┆ 1.0       ┆ 1.5       ┆ Южная и   ┆ Уязвимый  │\n",
       "│ й медведь  ┆ thibetanus ┆            ┆           ┆           ┆           ┆ Юго-Восто ┆ (IUCN)    │\n",
       "│            ┆            ┆            ┆           ┆           ┆           ┆ чная Азия ┆           │\n",
       "│ Малая      ┆ Ailurus    ┆ 3          ┆ 6         ┆ 0.4       ┆ 0.6       ┆ Гималаи,  ┆ Уязвимый  │\n",
       "│ панда      ┆ fulgens    ┆            ┆           ┆           ┆           ┆ Непал,    ┆ (IUCN)    │\n",
       "│            ┆            ┆            ┆           ┆           ┆           ┆ Бутан     ┆           │\n",
       "│ Большая    ┆ Ailuropoda ┆ 70         ┆ 150       ┆ 1.0       ┆ 1.5       ┆ Центра́льн ┆ Уязвимый  │\n",
       "│ панда      ┆ melanoleuc ┆            ┆           ┆           ┆           ┆ ый и      ┆ (IUCN)    │\n",
       "│            ┆ a          ┆            ┆           ┆           ┆           ┆ Западный  ┆           │\n",
       "│            ┆            ┆            ┆           ┆           ┆           ┆ Китай     ┆           │\n",
       "│ Малайский  ┆ Helarctos  ┆ 25         ┆ 65        ┆ 1.0       ┆ 1.5       ┆ Юго-Восто ┆ Уязвимый  │\n",
       "│ медведь    ┆ malayanus  ┆            ┆           ┆           ┆           ┆ чная Азия ┆ (IUCN)    │\n",
       "│ Очковый    ┆ Tremarctos ┆ 50         ┆ 150       ┆ 1.0       ┆ 1.8       ┆ Анды,     ┆ Вызывающи │\n",
       "│ медведь    ┆ ornatus    ┆            ┆           ┆           ┆           ┆ Южная     ┆ й         │\n",
       "│            ┆            ┆            ┆           ┆           ┆           ┆ Америка   ┆ опасение  │\n",
       "│            ┆            ┆            ┆           ┆           ┆           ┆           ┆ (IUCN)    │\n",
       "└────────────┴────────────┴────────────┴───────────┴───────────┴───────────┴───────────┴───────────┘"
      ]
     },
     "execution_count": 14,
     "metadata": {},
     "output_type": "execute_result"
    }
   ],
   "source": [
    "df_bears.tail()"
   ]
  },
  {
   "cell_type": "markdown",
   "id": "d57f75c3-4259-4be7-80a1-a7e1396ad4ba",
   "metadata": {},
   "source": [
    "**Атрибут `shape`**"
   ]
  },
  {
   "cell_type": "markdown",
   "id": "f8c99542-ec9a-410e-8f6a-a7d9a3fa3422",
   "metadata": {},
   "source": [
    "Атрибут `shape` возвращает кортеж, содержащий количество строк и столбцов в объекте *DataFrame*"
   ]
  },
  {
   "cell_type": "code",
   "execution_count": 15,
   "id": "afac2c1a-10f4-4561-8ac7-14fc55e6b6f1",
   "metadata": {},
   "outputs": [
    {
     "data": {
      "text/plain": [
       "(8, 8)"
      ]
     },
     "execution_count": 15,
     "metadata": {},
     "output_type": "execute_result"
    }
   ],
   "source": [
    "df_bears.shape # (количество_строк, количество_столбцов)"
   ]
  },
  {
   "cell_type": "markdown",
   "id": "6a8246af-1dfa-4511-adbe-8111113723a7",
   "metadata": {},
   "source": [
    "**Атрибут `dtypes`**"
   ]
  },
  {
   "cell_type": "markdown",
   "id": "0ac204af-03f8-48c7-ae58-d30b268eaed5",
   "metadata": {},
   "source": [
    "Атрибут `dtypes` возвращает типы данных столбцов датафрейма."
   ]
  },
  {
   "cell_type": "code",
   "execution_count": 16,
   "id": "6c121bee-88c8-41b9-bed5-9d3670b4ada1",
   "metadata": {},
   "outputs": [
    {
     "data": {
      "text/plain": [
       "[String, String, Int64, Int64, Float64, Float64, String, String]"
      ]
     },
     "execution_count": 16,
     "metadata": {},
     "output_type": "execute_result"
    }
   ],
   "source": [
    "df_bears.dtypes"
   ]
  },
  {
   "cell_type": "markdown",
   "id": "dfc87eb2-8406-434a-b965-df82c89dda21",
   "metadata": {},
   "source": [
    "**Атрибут `columns`**"
   ]
  },
  {
   "cell_type": "markdown",
   "id": "a23fe512-fb9c-42e0-90b0-fff5b5d5761f",
   "metadata": {},
   "source": [
    "Чтобы получить имена столбцов используют атрибут `columns`."
   ]
  },
  {
   "cell_type": "code",
   "execution_count": 17,
   "id": "99189db8-d7b5-44c4-b630-ea7ce1d2b3fc",
   "metadata": {},
   "outputs": [
    {
     "data": {
      "text/plain": [
       "['Вид',\n",
       " 'Латинское_название',\n",
       " 'Масса_min_кг',\n",
       " 'Масса_max_кг',\n",
       " 'Рост_min_м',\n",
       " 'Рост_max_м',\n",
       " 'Ареал_обитания',\n",
       " 'Статус_охр']"
      ]
     },
     "execution_count": 17,
     "metadata": {},
     "output_type": "execute_result"
    }
   ],
   "source": [
    "df_bears.columns"
   ]
  },
  {
   "cell_type": "markdown",
   "id": "ba21cb0c-e1fa-47e3-97da-15c2a06daefe",
   "metadata": {},
   "source": [
    "**Методы `to_numpy()`, `to_pandas()`**"
   ]
  },
  {
   "cell_type": "markdown",
   "id": "1dad478d-a9fa-4460-b249-773b62e2be2f",
   "metadata": {},
   "source": [
    "Чтобы получить значения *DataFrame* в виде массива, можно использовать метод `to_numpy()`"
   ]
  },
  {
   "cell_type": "code",
   "execution_count": 18,
   "id": "91a78e51-0ccb-4269-82a5-3ac831938558",
   "metadata": {},
   "outputs": [
    {
     "data": {
      "text/plain": [
       "array([['Белый медведь', 'Ursus maritimus', 300, 800, 1.5, 1.8,\n",
       "        'Арктика (Канада, Гренландия, Россия и др.)', 'Уязвимый (IUCN)'],\n",
       "       ['Бурый медведь', 'Ursus arctos', 90, 600, 1.3, 2.8,\n",
       "        'Евразия, Северная Америка', 'Безопасный (IUCN)'],\n",
       "       ['Чёрный медведь', 'Ursus americanus', 60, 300, 1.0, 2.0,\n",
       "        'Северная Америка', 'Безопасный (IUCN)'],\n",
       "       ['Гималайский медведь', 'Ursus thibetanus', 60, 200, 1.0, 1.5,\n",
       "        'Южная и Юго-Восточная Азия', 'Уязвимый (IUCN)'],\n",
       "       ['Малая панда', 'Ailurus fulgens', 3, 6, 0.4, 0.6,\n",
       "        'Гималаи, Непал, Бутан', 'Уязвимый (IUCN)'],\n",
       "       ['Большая панда', 'Ailuropoda melanoleuca', 70, 150, 1.0, 1.5,\n",
       "        'Центра́льный и Западный Китай', 'Уязвимый (IUCN)'],\n",
       "       ['Малайский медведь', 'Helarctos malayanus', 25, 65, 1.0, 1.5,\n",
       "        'Юго-Восточная Азия', 'Уязвимый (IUCN)'],\n",
       "       ['Очковый медведь', 'Tremarctos ornatus', 50, 150, 1.0, 1.8,\n",
       "        'Анды, Южная Америка', 'Вызывающий опасение (IUCN)']],\n",
       "      dtype=object)"
      ]
     },
     "execution_count": 18,
     "metadata": {},
     "output_type": "execute_result"
    }
   ],
   "source": [
    "df_bears.to_numpy()"
   ]
  },
  {
   "cell_type": "markdown",
   "id": "2fd8533d-3f92-4cc8-9854-535c587a7c4a",
   "metadata": {},
   "source": [
    "Методом `to_pandas()` можно текущий датафрейм конвертировать в pandas *DataFrame*"
   ]
  },
  {
   "cell_type": "code",
   "execution_count": 19,
   "id": "b75635cb-a730-4a78-b7ae-b705806d244b",
   "metadata": {},
   "outputs": [
    {
     "data": {
      "text/html": [
       "<div>\n",
       "<style scoped>\n",
       "    .dataframe tbody tr th:only-of-type {\n",
       "        vertical-align: middle;\n",
       "    }\n",
       "\n",
       "    .dataframe tbody tr th {\n",
       "        vertical-align: top;\n",
       "    }\n",
       "\n",
       "    .dataframe thead th {\n",
       "        text-align: right;\n",
       "    }\n",
       "</style>\n",
       "<table border=\"1\" class=\"dataframe\">\n",
       "  <thead>\n",
       "    <tr style=\"text-align: right;\">\n",
       "      <th></th>\n",
       "      <th>Вид</th>\n",
       "      <th>Латинское_название</th>\n",
       "      <th>Масса_min_кг</th>\n",
       "      <th>Масса_max_кг</th>\n",
       "      <th>Рост_min_м</th>\n",
       "      <th>Рост_max_м</th>\n",
       "      <th>Ареал_обитания</th>\n",
       "      <th>Статус_охр</th>\n",
       "    </tr>\n",
       "  </thead>\n",
       "  <tbody>\n",
       "    <tr>\n",
       "      <th>0</th>\n",
       "      <td>Белый медведь</td>\n",
       "      <td>Ursus maritimus</td>\n",
       "      <td>300</td>\n",
       "      <td>800</td>\n",
       "      <td>1.5</td>\n",
       "      <td>1.8</td>\n",
       "      <td>Арктика (Канада, Гренландия, Россия и др.)</td>\n",
       "      <td>Уязвимый (IUCN)</td>\n",
       "    </tr>\n",
       "    <tr>\n",
       "      <th>1</th>\n",
       "      <td>Бурый медведь</td>\n",
       "      <td>Ursus arctos</td>\n",
       "      <td>90</td>\n",
       "      <td>600</td>\n",
       "      <td>1.3</td>\n",
       "      <td>2.8</td>\n",
       "      <td>Евразия, Северная Америка</td>\n",
       "      <td>Безопасный (IUCN)</td>\n",
       "    </tr>\n",
       "    <tr>\n",
       "      <th>2</th>\n",
       "      <td>Чёрный медведь</td>\n",
       "      <td>Ursus americanus</td>\n",
       "      <td>60</td>\n",
       "      <td>300</td>\n",
       "      <td>1.0</td>\n",
       "      <td>2.0</td>\n",
       "      <td>Северная Америка</td>\n",
       "      <td>Безопасный (IUCN)</td>\n",
       "    </tr>\n",
       "    <tr>\n",
       "      <th>3</th>\n",
       "      <td>Гималайский медведь</td>\n",
       "      <td>Ursus thibetanus</td>\n",
       "      <td>60</td>\n",
       "      <td>200</td>\n",
       "      <td>1.0</td>\n",
       "      <td>1.5</td>\n",
       "      <td>Южная и Юго-Восточная Азия</td>\n",
       "      <td>Уязвимый (IUCN)</td>\n",
       "    </tr>\n",
       "    <tr>\n",
       "      <th>4</th>\n",
       "      <td>Малая панда</td>\n",
       "      <td>Ailurus fulgens</td>\n",
       "      <td>3</td>\n",
       "      <td>6</td>\n",
       "      <td>0.4</td>\n",
       "      <td>0.6</td>\n",
       "      <td>Гималаи, Непал, Бутан</td>\n",
       "      <td>Уязвимый (IUCN)</td>\n",
       "    </tr>\n",
       "    <tr>\n",
       "      <th>5</th>\n",
       "      <td>Большая панда</td>\n",
       "      <td>Ailuropoda melanoleuca</td>\n",
       "      <td>70</td>\n",
       "      <td>150</td>\n",
       "      <td>1.0</td>\n",
       "      <td>1.5</td>\n",
       "      <td>Центра́льный и Западный Китай</td>\n",
       "      <td>Уязвимый (IUCN)</td>\n",
       "    </tr>\n",
       "    <tr>\n",
       "      <th>6</th>\n",
       "      <td>Малайский медведь</td>\n",
       "      <td>Helarctos malayanus</td>\n",
       "      <td>25</td>\n",
       "      <td>65</td>\n",
       "      <td>1.0</td>\n",
       "      <td>1.5</td>\n",
       "      <td>Юго-Восточная Азия</td>\n",
       "      <td>Уязвимый (IUCN)</td>\n",
       "    </tr>\n",
       "    <tr>\n",
       "      <th>7</th>\n",
       "      <td>Очковый медведь</td>\n",
       "      <td>Tremarctos ornatus</td>\n",
       "      <td>50</td>\n",
       "      <td>150</td>\n",
       "      <td>1.0</td>\n",
       "      <td>1.8</td>\n",
       "      <td>Анды, Южная Америка</td>\n",
       "      <td>Вызывающий опасение (IUCN)</td>\n",
       "    </tr>\n",
       "  </tbody>\n",
       "</table>\n",
       "</div>"
      ],
      "text/plain": [
       "                   Вид      Латинское_название  Масса_min_кг  Масса_max_кг  \\\n",
       "0        Белый медведь         Ursus maritimus           300           800   \n",
       "1        Бурый медведь            Ursus arctos            90           600   \n",
       "2       Чёрный медведь        Ursus americanus            60           300   \n",
       "3  Гималайский медведь        Ursus thibetanus            60           200   \n",
       "4          Малая панда         Ailurus fulgens             3             6   \n",
       "5        Большая панда  Ailuropoda melanoleuca            70           150   \n",
       "6    Малайский медведь     Helarctos malayanus            25            65   \n",
       "7      Очковый медведь      Tremarctos ornatus            50           150   \n",
       "\n",
       "   Рост_min_м  Рост_max_м                              Ареал_обитания  \\\n",
       "0         1.5         1.8  Арктика (Канада, Гренландия, Россия и др.)   \n",
       "1         1.3         2.8                   Евразия, Северная Америка   \n",
       "2         1.0         2.0                            Северная Америка   \n",
       "3         1.0         1.5                  Южная и Юго-Восточная Азия   \n",
       "4         0.4         0.6                       Гималаи, Непал, Бутан   \n",
       "5         1.0         1.5               Центра́льный и Западный Китай   \n",
       "6         1.0         1.5                          Юго-Восточная Азия   \n",
       "7         1.0         1.8                         Анды, Южная Америка   \n",
       "\n",
       "                   Статус_охр  \n",
       "0             Уязвимый (IUCN)  \n",
       "1           Безопасный (IUCN)  \n",
       "2           Безопасный (IUCN)  \n",
       "3             Уязвимый (IUCN)  \n",
       "4             Уязвимый (IUCN)  \n",
       "5             Уязвимый (IUCN)  \n",
       "6             Уязвимый (IUCN)  \n",
       "7  Вызывающий опасение (IUCN)  "
      ]
     },
     "execution_count": 19,
     "metadata": {},
     "output_type": "execute_result"
    }
   ],
   "source": [
    "df_bears.to_pandas()"
   ]
  },
  {
   "cell_type": "markdown",
   "id": "0ac7c28a-5c8d-460c-a254-8ea0388866bb",
   "metadata": {},
   "source": [
    "Доброе напоминание получение информации из pandas *DataFrame*:\n",
    "- Методы head() и tail()\n",
    "- Метод info()\n",
    "- Атрибут dtypes\n",
    "- Атрибут shape\n",
    "- Атрибут size\n",
    "- Атрибуты index, columns и values"
   ]
  },
  {
   "cell_type": "markdown",
   "id": "d4642cf7-4621-4981-b985-2ce72b32edc1",
   "metadata": {
    "jp-MarkdownHeadingCollapsed": true
   },
   "source": [
    "## Добавление нового столбца/столбцов в `DataFrame`"
   ]
  },
  {
   "cell_type": "markdown",
   "id": "b5c2dfc6-41f5-49d5-97b1-4482ef3d2a07",
   "metadata": {},
   "source": [
    "Основные методы добавления столбцов в *DataFrame*:\n",
    "- `with_columns()`: Основной способ добавления одного или нескольких столбцов.\n",
    "- `lit()`: Добавление константы.\n",
    "- `when().then().otherwise()`: Добавления столбца по условию.\n",
    "- `hstack()`: Добавление одного или нескольких столбцов в конец.\n",
    "- `select()`: Пересоздание DataFrame с новыми столбцами."
   ]
  },
  {
   "cell_type": "markdown",
   "id": "524214c2-c752-4e5c-ad83-6321d14ff9d0",
   "metadata": {},
   "source": [
    "Методом `with_columns()`можно добавить один или нескольких новых столбцов к *DataFrame*."
   ]
  },
  {
   "cell_type": "code",
   "execution_count": 20,
   "id": "7598dd23-20bf-4ff8-a1be-060c9315b1b0",
   "metadata": {},
   "outputs": [
    {
     "name": "stdout",
     "output_type": "stream",
     "text": [
      "shape: (3, 3)\n",
      "┌─────────┬─────────┬────────┐\n",
      "│ Имя     ┆ Возраст ┆ Город  │\n",
      "│ ---     ┆ ---     ┆ ---    │\n",
      "│ str     ┆ i64     ┆ str    │\n",
      "╞═════════╪═════════╪════════╡\n",
      "│ Алексей ┆ 25      ┆ Москва │\n",
      "│ Мария   ┆ 30      ┆ СПб    │\n",
      "│ Иван    ┆ 22      ┆ Казань │\n",
      "└─────────┴─────────┴────────┘\n"
     ]
    }
   ],
   "source": [
    "# Исходный DataFrame\n",
    "df = pl.DataFrame({\n",
    "    \"Имя\": [\"Алексей\", \"Мария\", \"Иван\"],\n",
    "    \"Возраст\": [25, 30, 22]\n",
    "})\n",
    "\n",
    "# Создаем новую серию\n",
    "col_town = pl.Series(name=\"Город\", values=[\"Москва\", \"СПб\", \"Казань\"])\n",
    "\n",
    "# Добавляем серию как новый столбец\n",
    "df = df.with_columns(col_town)\n",
    "\n",
    "# Вывод\n",
    "print(df)"
   ]
  },
  {
   "cell_type": "markdown",
   "id": "aa9155be-d30d-4cb8-ab0d-3900fff6f3ef",
   "metadata": {},
   "source": [
    "Как видим, столбец добавился в самый конец таблицы. Если мы хотим поменять колонки местами, то необходимо воспользоваться методом `select()`"
   ]
  },
  {
   "cell_type": "code",
   "execution_count": 21,
   "id": "3188de60-994b-4b6e-bedf-a61523e66fea",
   "metadata": {},
   "outputs": [
    {
     "name": "stdout",
     "output_type": "stream",
     "text": [
      "shape: (3, 3)\n",
      "┌─────────┬────────┬─────────┐\n",
      "│ Имя     ┆ Город  ┆ Возраст │\n",
      "│ ---     ┆ ---    ┆ ---     │\n",
      "│ str     ┆ str    ┆ i64     │\n",
      "╞═════════╪════════╪═════════╡\n",
      "│ Алексей ┆ Москва ┆ 25      │\n",
      "│ Мария   ┆ СПб    ┆ 30      │\n",
      "│ Иван    ┆ Казань ┆ 22      │\n",
      "└─────────┴────────┴─────────┘\n"
     ]
    }
   ],
   "source": [
    "# Меняем местами колонки \"Возраст\" и \"Город\"\n",
    "df = df.select([\"Имя\", \"Город\", \"Возраст\"])\n",
    "\n",
    "print(df)"
   ]
  },
  {
   "cell_type": "markdown",
   "id": "d4677053-8966-4492-bca4-5def69eb716c",
   "metadata": {},
   "source": [
    "**Добавление столбца на основе условий `when().then().otherwise()`**"
   ]
  },
  {
   "cell_type": "code",
   "execution_count": 22,
   "id": "7bd25730-29eb-4298-ba28-750710046a41",
   "metadata": {},
   "outputs": [
    {
     "name": "stdout",
     "output_type": "stream",
     "text": [
      "shape: (3, 4)\n",
      "┌─────────┬────────┬─────────┬───────────┐\n",
      "│ Имя     ┆ Город  ┆ Возраст ┆ Категория │\n",
      "│ ---     ┆ ---    ┆ ---     ┆ ---       │\n",
      "│ str     ┆ str    ┆ i64     ┆ str       │\n",
      "╞═════════╪════════╪═════════╪═══════════╡\n",
      "│ Алексей ┆ Москва ┆ 25      ┆ молодой   │\n",
      "│ Мария   ┆ СПб    ┆ 30      ┆ взрослый  │\n",
      "│ Иван    ┆ Казань ┆ 22      ┆ молодой   │\n",
      "└─────────┴────────┴─────────┴───────────┘\n"
     ]
    }
   ],
   "source": [
    "df = df.with_columns(pl.when(pl.col(\"Возраст\") > 25).then(pl.lit(\"взрослый\")).otherwise(pl.lit(\"молодой\")).alias(\"Категория\"))\n",
    "\n",
    "print(df)"
   ]
  },
  {
   "cell_type": "markdown",
   "id": "8bada868-5bc7-41fb-a86b-bf610d8806a9",
   "metadata": {},
   "source": [
    "Разберём код:\n",
    "1. `.with_columns(...)` - метод, который добавлет новый столбец;\n",
    "2. `pl.when(...).then(...).otherwise(...)` - `pl.when(...)` задаёт условие , которое будет проверяться построчно. Если условие истинно, то отрабатывает блок `then(...)`, иначе `otherwise(...)`;\n",
    "3. `pl.col(...)` - метод, который обращается к конкретному столбцу;\n",
    "4. `pl.lit(...)` - метод, который вставляет константу;\n",
    "5.  `.alias(...)` - присваиваем имя новому стобцу."
   ]
  },
  {
   "cell_type": "markdown",
   "id": "861bc350-605b-415b-a9ca-1026a418996d",
   "metadata": {},
   "source": [
    "**Метод `hstack()`**"
   ]
  },
  {
   "cell_type": "code",
   "execution_count": 23,
   "id": "632d7b38-2a77-4176-aecd-c882b7ff41d2",
   "metadata": {},
   "outputs": [
    {
     "name": "stdout",
     "output_type": "stream",
     "text": [
      "shape: (3, 5)\n",
      "┌─────────┬────────┬─────────┬───────────┬──────────┐\n",
      "│ Имя     ┆ Город  ┆ Возраст ┆ Категория ┆ Зарплата │\n",
      "│ ---     ┆ ---    ┆ ---     ┆ ---       ┆ ---      │\n",
      "│ str     ┆ str    ┆ i64     ┆ str       ┆ i64      │\n",
      "╞═════════╪════════╪═════════╪═══════════╪══════════╡\n",
      "│ Алексей ┆ Москва ┆ 25      ┆ молодой   ┆ 70000    │\n",
      "│ Мария   ┆ СПб    ┆ 30      ┆ взрослый  ┆ 90000    │\n",
      "│ Иван    ┆ Казань ┆ 22      ┆ молодой   ┆ 50000    │\n",
      "└─────────┴────────┴─────────┴───────────┴──────────┘\n"
     ]
    }
   ],
   "source": [
    "# Создадим Series - наш новый стобец скоро\n",
    "salary = pl.Series(name=\"Зарплата\", values=[70000, 90000, 50000])\n",
    "\n",
    "# Добавляем новый столбец\n",
    "df = df.hstack([salary])\n",
    "\n",
    "print(df)"
   ]
  },
  {
   "cell_type": "markdown",
   "id": "948438ec-2bfe-470e-b339-9dcaef640fb2",
   "metadata": {},
   "source": [
    "В метод `hstack()` надо передавать список. Ещё данный метод содержит в себе параметр `in_place`, который может сразу же изменить исходный *DataFrame*"
   ]
  },
  {
   "cell_type": "code",
   "execution_count": 24,
   "id": "9734855e-c13c-4c36-97ef-8e028753039e",
   "metadata": {},
   "outputs": [
    {
     "name": "stdout",
     "output_type": "stream",
     "text": [
      "shape: (3, 6)\n",
      "┌─────────┬────────┬─────────┬───────────┬──────────┬────────────┐\n",
      "│ Имя     ┆ Город  ┆ Возраст ┆ Категория ┆ Зарплата ┆ Транспорт  │\n",
      "│ ---     ┆ ---    ┆ ---     ┆ ---       ┆ ---      ┆ ---        │\n",
      "│ str     ┆ str    ┆ i64     ┆ str       ┆ i64      ┆ str        │\n",
      "╞═════════╪════════╪═════════╪═══════════╪══════════╪════════════╡\n",
      "│ Алексей ┆ Москва ┆ 25      ┆ молодой   ┆ 70000    ┆ Скутер     │\n",
      "│ Мария   ┆ СПб    ┆ 30      ┆ взрослый  ┆ 90000    ┆ Велосипед  │\n",
      "│ Иван    ┆ Казань ┆ 22      ┆ молодой   ┆ 50000    ┆ Автомобиль │\n",
      "└─────────┴────────┴─────────┴───────────┴──────────┴────────────┘\n"
     ]
    }
   ],
   "source": [
    "# Создадим Series - наш новый стобец скоро\n",
    "transport = pl.Series(name=\"Транспорт\", values=[\"Скутер\", \"Велосипед\", \"Автомобиль\"])\n",
    "\n",
    "# Добавляем новый столбец\n",
    "df.hstack(columns=[transport], in_place=True)\n",
    "\n",
    "print(df)"
   ]
  },
  {
   "cell_type": "markdown",
   "id": "295470d4-2fd2-4130-b512-e5e8cf71f5a5",
   "metadata": {},
   "source": [
    "## Переименование столбцов и транспонирование"
   ]
  },
  {
   "cell_type": "markdown",
   "id": "a42a4d04-7674-446c-aff1-4c54517eeb3e",
   "metadata": {},
   "source": [
    "### **Переименование столбцов**"
   ]
  },
  {
   "cell_type": "markdown",
   "id": "31af6f22-48a3-4c58-8a68-50c01181d81e",
   "metadata": {},
   "source": [
    "Основные способы переименовать столбцы в *DataFrame*:\n",
    "1. Метод `rename()`\n",
    "2. Метод `select()`"
   ]
  },
  {
   "cell_type": "markdown",
   "id": "fb93b5a1-64f9-478c-8b34-0adce044dcef",
   "metadata": {},
   "source": [
    "Посмотрим наш *DataFrame*"
   ]
  },
  {
   "cell_type": "code",
   "execution_count": 25,
   "id": "2aab95ba-3475-4bac-901b-1440bef20e7b",
   "metadata": {},
   "outputs": [
    {
     "name": "stdout",
     "output_type": "stream",
     "text": [
      "shape: (3, 6)\n",
      "┌─────────┬────────┬─────────┬───────────┬──────────┬────────────┐\n",
      "│ Имя     ┆ Город  ┆ Возраст ┆ Категория ┆ Зарплата ┆ Транспорт  │\n",
      "│ ---     ┆ ---    ┆ ---     ┆ ---       ┆ ---      ┆ ---        │\n",
      "│ str     ┆ str    ┆ i64     ┆ str       ┆ i64      ┆ str        │\n",
      "╞═════════╪════════╪═════════╪═══════════╪══════════╪════════════╡\n",
      "│ Алексей ┆ Москва ┆ 25      ┆ молодой   ┆ 70000    ┆ Скутер     │\n",
      "│ Мария   ┆ СПб    ┆ 30      ┆ взрослый  ┆ 90000    ┆ Велосипед  │\n",
      "│ Иван    ┆ Казань ┆ 22      ┆ молодой   ┆ 50000    ┆ Автомобиль │\n",
      "└─────────┴────────┴─────────┴───────────┴──────────┴────────────┘\n"
     ]
    }
   ],
   "source": [
    "print(df)"
   ]
  },
  {
   "cell_type": "markdown",
   "id": "e790cf0a-5708-41c9-8126-4e092eeefdcb",
   "metadata": {},
   "source": [
    "**Метод `rename()`**"
   ]
  },
  {
   "cell_type": "markdown",
   "id": "ce7ecc6c-32a5-4acf-839b-941aab9b1c76",
   "metadata": {},
   "source": [
    "В метод `rename()` необходимо передать словарь, где ключами являются столбцы с текущими наименованиями, а значения - на что меняем."
   ]
  },
  {
   "cell_type": "code",
   "execution_count": 26,
   "id": "f6d9ff6f-5731-4b53-8004-199b412cc54d",
   "metadata": {},
   "outputs": [
    {
     "name": "stdout",
     "output_type": "stream",
     "text": [
      "shape: (3, 6)\n",
      "┌─────────┬────────┬─────┬──────────┬────────┬────────────┐\n",
      "│ name    ┆ town   ┆ age ┆ category ┆ salary ┆ transport  │\n",
      "│ ---     ┆ ---    ┆ --- ┆ ---      ┆ ---    ┆ ---        │\n",
      "│ str     ┆ str    ┆ i64 ┆ str      ┆ i64    ┆ str        │\n",
      "╞═════════╪════════╪═════╪══════════╪════════╪════════════╡\n",
      "│ Алексей ┆ Москва ┆ 25  ┆ молодой  ┆ 70000  ┆ Скутер     │\n",
      "│ Мария   ┆ СПб    ┆ 30  ┆ взрослый ┆ 90000  ┆ Велосипед  │\n",
      "│ Иван    ┆ Казань ┆ 22  ┆ молодой  ┆ 50000  ┆ Автомобиль │\n",
      "└─────────┴────────┴─────┴──────────┴────────┴────────────┘\n"
     ]
    }
   ],
   "source": [
    "# Пишем словарь типа Старое имя - Новое имя\n",
    "dict_new_name = {\n",
    "    \"Имя\": \"name\",\n",
    "    \"Город\": \"town\",\n",
    "    \"Возраст\": \"age\",\n",
    "    \"Категория\":\"category\",\n",
    "    \"Зарплата\":\"salary\",\n",
    "    \"Транспорт\":\"transport\"\n",
    "}\n",
    "    \n",
    "df_new_name_column = df.rename(dict_new_name)\n",
    "\n",
    "print(df_new_name_column)"
   ]
  },
  {
   "cell_type": "markdown",
   "id": "0d48fe66-589e-4954-8062-fc0ff26eea6b",
   "metadata": {},
   "source": [
    "Важно: если в метод `rename()` передать несуществующие наименование колонок, код упадет с ошибкой. Пример:"
   ]
  },
  {
   "cell_type": "code",
   "execution_count": 27,
   "id": "70c7b17b-f13c-4c69-981d-b8801f24e211",
   "metadata": {},
   "outputs": [
    {
     "name": "stdout",
     "output_type": "stream",
     "text": [
      "Ошибка: 'rename' on column: 'Такой колонки нет' is invalid\n",
      "\n",
      "Schema at this point: Schema:\n",
      "name: Имя, field: String\n",
      "name: Город, field: String\n",
      "name: Возраст, field: Int64\n",
      "name: Категория, field: String\n",
      "name: Зарплата, field: Int64\n",
      "name: Транспорт, field: String\n",
      "\n",
      "\n",
      "Resolved plan until failure:\n",
      "\n",
      "\t---> FAILED HERE RESOLVING 'sink' <---\n",
      "DF [\"Имя\", \"Город\", \"Возраст\", \"Категория\", ...]; PROJECT */6 COLUMNS\n"
     ]
    }
   ],
   "source": [
    "# Пишем словарь типа Старое имя - Новое имя\n",
    "dict_new_name = {\n",
    "    \"Имя\": \"name\",\n",
    "    \"Город\": \"town\",\n",
    "    \"Возраст\": \"age\",\n",
    "    \"Категория\":\"category\",\n",
    "    \"Зарплата\":\"salary\",\n",
    "    \"Транспорт\":\"transport\",\n",
    "    \"Такой колонки нет\":\"Ошибка\"\n",
    "}\n",
    "try:\n",
    "    df_new_name_column = df.rename(dict_new_name)\n",
    "    print(df_new_name_column)\n",
    "except Exception as e:\n",
    "    print(f\"Ошибка: {e}\")"
   ]
  },
  {
   "cell_type": "markdown",
   "id": "e7418e33-6848-4486-b0a3-32914f38543e",
   "metadata": {},
   "source": [
    "Чтобы обработать такую ошибку и переименовать колонки на основании словаря, можно воспользоваться следующим кодом"
   ]
  },
  {
   "cell_type": "code",
   "execution_count": 28,
   "id": "03d8662c-2b48-4414-a0c7-150b47f992c7",
   "metadata": {},
   "outputs": [
    {
     "data": {
      "text/html": [
       "<div><style>\n",
       ".dataframe > thead > tr,\n",
       ".dataframe > tbody > tr {\n",
       "  text-align: right;\n",
       "  white-space: pre-wrap;\n",
       "}\n",
       "</style>\n",
       "<small>shape: (3, 6)</small><table border=\"1\" class=\"dataframe\"><thead><tr><th>name</th><th>town</th><th>age</th><th>category</th><th>salary</th><th>transport</th></tr><tr><td>str</td><td>str</td><td>i64</td><td>str</td><td>i64</td><td>str</td></tr></thead><tbody><tr><td>&quot;Алексей&quot;</td><td>&quot;Москва&quot;</td><td>25</td><td>&quot;молодой&quot;</td><td>70000</td><td>&quot;Скутер&quot;</td></tr><tr><td>&quot;Мария&quot;</td><td>&quot;СПб&quot;</td><td>30</td><td>&quot;взрослый&quot;</td><td>90000</td><td>&quot;Велосипед&quot;</td></tr><tr><td>&quot;Иван&quot;</td><td>&quot;Казань&quot;</td><td>22</td><td>&quot;молодой&quot;</td><td>50000</td><td>&quot;Автомобиль&quot;</td></tr></tbody></table></div>"
      ],
      "text/plain": [
       "shape: (3, 6)\n",
       "┌─────────┬────────┬─────┬──────────┬────────┬────────────┐\n",
       "│ name    ┆ town   ┆ age ┆ category ┆ salary ┆ transport  │\n",
       "│ ---     ┆ ---    ┆ --- ┆ ---      ┆ ---    ┆ ---        │\n",
       "│ str     ┆ str    ┆ i64 ┆ str      ┆ i64    ┆ str        │\n",
       "╞═════════╪════════╪═════╪══════════╪════════╪════════════╡\n",
       "│ Алексей ┆ Москва ┆ 25  ┆ молодой  ┆ 70000  ┆ Скутер     │\n",
       "│ Мария   ┆ СПб    ┆ 30  ┆ взрослый ┆ 90000  ┆ Велосипед  │\n",
       "│ Иван    ┆ Казань ┆ 22  ┆ молодой  ┆ 50000  ┆ Автомобиль │\n",
       "└─────────┴────────┴─────┴──────────┴────────┴────────────┘"
      ]
     },
     "execution_count": 28,
     "metadata": {},
     "output_type": "execute_result"
    }
   ],
   "source": [
    "# Пишем словарь типа Старое имя - Новое имя\n",
    "dict_new_name = {\n",
    "    \"Имя\": \"name\",\n",
    "    \"Город\": \"town\",\n",
    "    \"Возраст\": \"age\",\n",
    "    \"Категория\":\"category\",\n",
    "    \"Зарплата\":\"salary\",\n",
    "    \"Транспорт\":\"transport\",\n",
    "    \"Такой колонки нет\":\"Ошибка\"\n",
    "}\n",
    "\n",
    "# Предварительная валидация словаря (удаляем ключи, которых нет в нашем DataFrame)\n",
    "valid_rename = {k: v for k, v in dict_new_name.items() if k in df.columns}\n",
    "# Переименоваем колонки\n",
    "df_new_name_column = df.rename(valid_rename)\n",
    "\n",
    "df_new_name_column"
   ]
  },
  {
   "cell_type": "markdown",
   "id": "5d09dbf7-a6cd-4716-a2cf-53719e80f938",
   "metadata": {},
   "source": [
    "Также в метод `rename()` можем передать лямбда-функцию. Например, добавим каждой колонки префикс \"pre_\":"
   ]
  },
  {
   "cell_type": "code",
   "execution_count": 29,
   "id": "b34b615d-a584-421a-9ea5-eb596c68c073",
   "metadata": {},
   "outputs": [
    {
     "data": {
      "text/html": [
       "<div><style>\n",
       ".dataframe > thead > tr,\n",
       ".dataframe > tbody > tr {\n",
       "  text-align: right;\n",
       "  white-space: pre-wrap;\n",
       "}\n",
       "</style>\n",
       "<small>shape: (3, 6)</small><table border=\"1\" class=\"dataframe\"><thead><tr><th>pre_name</th><th>pre_town</th><th>pre_age</th><th>pre_category</th><th>pre_salary</th><th>pre_transport</th></tr><tr><td>str</td><td>str</td><td>i64</td><td>str</td><td>i64</td><td>str</td></tr></thead><tbody><tr><td>&quot;Алексей&quot;</td><td>&quot;Москва&quot;</td><td>25</td><td>&quot;молодой&quot;</td><td>70000</td><td>&quot;Скутер&quot;</td></tr><tr><td>&quot;Мария&quot;</td><td>&quot;СПб&quot;</td><td>30</td><td>&quot;взрослый&quot;</td><td>90000</td><td>&quot;Велосипед&quot;</td></tr><tr><td>&quot;Иван&quot;</td><td>&quot;Казань&quot;</td><td>22</td><td>&quot;молодой&quot;</td><td>50000</td><td>&quot;Автомобиль&quot;</td></tr></tbody></table></div>"
      ],
      "text/plain": [
       "shape: (3, 6)\n",
       "┌──────────┬──────────┬─────────┬──────────────┬────────────┬───────────────┐\n",
       "│ pre_name ┆ pre_town ┆ pre_age ┆ pre_category ┆ pre_salary ┆ pre_transport │\n",
       "│ ---      ┆ ---      ┆ ---     ┆ ---          ┆ ---        ┆ ---           │\n",
       "│ str      ┆ str      ┆ i64     ┆ str          ┆ i64        ┆ str           │\n",
       "╞══════════╪══════════╪═════════╪══════════════╪════════════╪═══════════════╡\n",
       "│ Алексей  ┆ Москва   ┆ 25      ┆ молодой      ┆ 70000      ┆ Скутер        │\n",
       "│ Мария    ┆ СПб      ┆ 30      ┆ взрослый     ┆ 90000      ┆ Велосипед     │\n",
       "│ Иван     ┆ Казань   ┆ 22      ┆ молодой      ┆ 50000      ┆ Автомобиль    │\n",
       "└──────────┴──────────┴─────────┴──────────────┴────────────┴───────────────┘"
      ]
     },
     "execution_count": 29,
     "metadata": {},
     "output_type": "execute_result"
    }
   ],
   "source": [
    "df_new_name_column.rename(lambda column_name: \"pre_\" + column_name)"
   ]
  },
  {
   "cell_type": "markdown",
   "id": "fc5438a6-1548-4160-a0e2-d2da67e0ec79",
   "metadata": {},
   "source": [
    "**Метод `select()`**"
   ]
  },
  {
   "cell_type": "markdown",
   "id": "a2ffe345-b08d-4c01-8345-6770d11392c9",
   "metadata": {},
   "source": [
    "Метод `select()` удобно использовать, когда необходимы сделать выборку данных из DataFrame."
   ]
  },
  {
   "cell_type": "code",
   "execution_count": 30,
   "id": "4206c951-f88f-444a-928d-a1d5e511f041",
   "metadata": {},
   "outputs": [
    {
     "data": {
      "text/html": [
       "<div><style>\n",
       ".dataframe > thead > tr,\n",
       ".dataframe > tbody > tr {\n",
       "  text-align: right;\n",
       "  white-space: pre-wrap;\n",
       "}\n",
       "</style>\n",
       "<small>shape: (3, 2)</small><table border=\"1\" class=\"dataframe\"><thead><tr><th>ФИО</th><th>Возраст_в_годах</th></tr><tr><td>str</td><td>i64</td></tr></thead><tbody><tr><td>&quot;Алексей&quot;</td><td>25</td></tr><tr><td>&quot;Мария&quot;</td><td>30</td></tr><tr><td>&quot;Иван&quot;</td><td>22</td></tr></tbody></table></div>"
      ],
      "text/plain": [
       "shape: (3, 2)\n",
       "┌─────────┬─────────────────┐\n",
       "│ ФИО     ┆ Возраст_в_годах │\n",
       "│ ---     ┆ ---             │\n",
       "│ str     ┆ i64             │\n",
       "╞═════════╪═════════════════╡\n",
       "│ Алексей ┆ 25              │\n",
       "│ Мария   ┆ 30              │\n",
       "│ Иван    ┆ 22              │\n",
       "└─────────┴─────────────────┘"
      ]
     },
     "execution_count": 30,
     "metadata": {},
     "output_type": "execute_result"
    }
   ],
   "source": [
    "df.select([\n",
    "    pl.col(\"Имя\").alias(\"ФИО\"),\n",
    "    pl.col(\"Возраст\").alias(\"Возраст_в_годах\")\n",
    "])"
   ]
  },
  {
   "cell_type": "markdown",
   "id": "c14319e6-fa5f-4f47-85c1-8f64dbae46df",
   "metadata": {},
   "source": [
    "Здесь мы передаем в метод `select()` наименование колонок, которые хотим получит и в `.alias()` даём им новое наименование. "
   ]
  },
  {
   "cell_type": "markdown",
   "id": "19f6d0fd-21a1-43ba-8e53-fc1c89066ebf",
   "metadata": {},
   "source": [
    "### **Транспонирование. Метод `transpose()`**"
   ]
  },
  {
   "cell_type": "markdown",
   "id": "2a2867cc-7e09-4068-aad0-4acef4d25e9e",
   "metadata": {},
   "source": [
    "Транспонирование объекта *DataFrame* - это трансформация датафрейма, при которой строки и столбцы меняются местами."
   ]
  },
  {
   "cell_type": "markdown",
   "id": "a6e89c59-e8fc-4272-94ff-df88ab918a34",
   "metadata": {},
   "source": [
    "Метод `transpose()` включает в себя следующие параметры:\n",
    "\n",
    "| Параметр       | Тип данных | Предназначение|\n",
    "|--------------- | ------------------------ | ------------------------------------------------------------------------------------------------------ |\n",
    "| include_header | bool                     | Создавёт столбец с заголовками исходного *DataFrame* (по умолчанию False)                              |\n",
    "| header_name    | str                      | Задаёт наименование колонки заголовков (если `include_header=False`, то данный параметр  игнорируется  |\n",
    "| column_names   | str, Iterable[str], None | Позволяет указать новые имена для новых столбцов после транспонирования                                |"
   ]
  },
  {
   "cell_type": "markdown",
   "id": "c4f3427c-93ac-4c1b-9e2e-a0f25bbcd911",
   "metadata": {},
   "source": [
    "Наш *DataFrame*:"
   ]
  },
  {
   "cell_type": "code",
   "execution_count": 31,
   "id": "902e7654-fa0a-414d-acce-d82c1271f430",
   "metadata": {},
   "outputs": [
    {
     "name": "stdout",
     "output_type": "stream",
     "text": [
      "shape: (3, 6)\n",
      "┌─────────┬────────┬─────────┬───────────┬──────────┬────────────┐\n",
      "│ Имя     ┆ Город  ┆ Возраст ┆ Категория ┆ Зарплата ┆ Транспорт  │\n",
      "│ ---     ┆ ---    ┆ ---     ┆ ---       ┆ ---      ┆ ---        │\n",
      "│ str     ┆ str    ┆ i64     ┆ str       ┆ i64      ┆ str        │\n",
      "╞═════════╪════════╪═════════╪═══════════╪══════════╪════════════╡\n",
      "│ Алексей ┆ Москва ┆ 25      ┆ молодой   ┆ 70000    ┆ Скутер     │\n",
      "│ Мария   ┆ СПб    ┆ 30      ┆ взрослый  ┆ 90000    ┆ Велосипед  │\n",
      "│ Иван    ┆ Казань ┆ 22      ┆ молодой   ┆ 50000    ┆ Автомобиль │\n",
      "└─────────┴────────┴─────────┴───────────┴──────────┴────────────┘\n"
     ]
    }
   ],
   "source": [
    "print(df)"
   ]
  },
  {
   "cell_type": "code",
   "execution_count": 32,
   "id": "0fb168b9-5a08-432d-9397-0ebc39211277",
   "metadata": {},
   "outputs": [
    {
     "name": "stdout",
     "output_type": "stream",
     "text": [
      "shape: (6, 4)\n",
      "┌───────────┬──────────┬───────────┬────────────┐\n",
      "│ column    ┆ column_0 ┆ column_1  ┆ column_2   │\n",
      "│ ---       ┆ ---      ┆ ---       ┆ ---        │\n",
      "│ str       ┆ str      ┆ str       ┆ str        │\n",
      "╞═══════════╪══════════╪═══════════╪════════════╡\n",
      "│ Имя       ┆ Алексей  ┆ Мария     ┆ Иван       │\n",
      "│ Город     ┆ Москва   ┆ СПб       ┆ Казань     │\n",
      "│ Возраст   ┆ 25       ┆ 30        ┆ 22         │\n",
      "│ Категория ┆ молодой  ┆ взрослый  ┆ молодой    │\n",
      "│ Зарплата  ┆ 70000    ┆ 90000     ┆ 50000      │\n",
      "│ Транспорт ┆ Скутер   ┆ Велосипед ┆ Автомобиль │\n",
      "└───────────┴──────────┴───────────┴────────────┘\n"
     ]
    }
   ],
   "source": [
    "# Транспонируем с парааметром include_header=True\n",
    "print(df.transpose(include_header=True))"
   ]
  },
  {
   "cell_type": "markdown",
   "id": "382bfa08-6803-493f-b38d-6c8a08d62ad3",
   "metadata": {},
   "source": [
    "Видим, что первый столбец - column, который содержит заголовки исходного *DataFrame*. Если бы мы передали в параметр `include_header=False`, то данного столбца не было. Теперь дадим ему наименование. Например:"
   ]
  },
  {
   "cell_type": "code",
   "execution_count": 33,
   "id": "aed7fb3e-95af-4701-b2ed-a05365fce0d9",
   "metadata": {},
   "outputs": [
    {
     "name": "stdout",
     "output_type": "stream",
     "text": [
      "shape: (6, 4)\n",
      "┌────────────────┬──────────┬───────────┬────────────┐\n",
      "│ header_col_old ┆ column_0 ┆ column_1  ┆ column_2   │\n",
      "│ ---            ┆ ---      ┆ ---       ┆ ---        │\n",
      "│ str            ┆ str      ┆ str       ┆ str        │\n",
      "╞════════════════╪══════════╪═══════════╪════════════╡\n",
      "│ Имя            ┆ Алексей  ┆ Мария     ┆ Иван       │\n",
      "│ Город          ┆ Москва   ┆ СПб       ┆ Казань     │\n",
      "│ Возраст        ┆ 25       ┆ 30        ┆ 22         │\n",
      "│ Категория      ┆ молодой  ┆ взрослый  ┆ молодой    │\n",
      "│ Зарплата       ┆ 70000    ┆ 90000     ┆ 50000      │\n",
      "│ Транспорт      ┆ Скутер   ┆ Велосипед ┆ Автомобиль │\n",
      "└────────────────┴──────────┴───────────┴────────────┘\n"
     ]
    }
   ],
   "source": [
    "print(df.transpose(include_header=True, header_name=\"header_col_old\"))"
   ]
  },
  {
   "cell_type": "markdown",
   "id": "4b8d60ed-e4e3-4cec-b617-458dd47eab90",
   "metadata": {},
   "source": [
    "Обращаю внимание, что при транспонировании тип данных меняется везде на \"str\"."
   ]
  },
  {
   "cell_type": "markdown",
   "id": "6675486d-8a5e-4477-b402-d54d810afa8d",
   "metadata": {},
   "source": [
    "#### Параметр `column_names`"
   ]
  },
  {
   "cell_type": "markdown",
   "id": "52189b3f-5a48-4d57-b179-39e3291782ff",
   "metadata": {},
   "source": [
    "Параметр `column_names` позволяет указать новые имена для новых столбцов после транспонирования. По умолчанию *polars* называет их column_0, column_1, и так далее."
   ]
  },
  {
   "cell_type": "code",
   "execution_count": 34,
   "id": "b174fbdd-68cc-4438-9c86-5448a1a12ead",
   "metadata": {},
   "outputs": [
    {
     "data": {
      "text/html": [
       "<div><style>\n",
       ".dataframe > thead > tr,\n",
       ".dataframe > tbody > tr {\n",
       "  text-align: right;\n",
       "  white-space: pre-wrap;\n",
       "}\n",
       "</style>\n",
       "<small>shape: (6, 3)</small><table border=\"1\" class=\"dataframe\"><thead><tr><th>column_0</th><th>column_1</th><th>column_2</th></tr><tr><td>str</td><td>str</td><td>str</td></tr></thead><tbody><tr><td>&quot;Алексей&quot;</td><td>&quot;Мария&quot;</td><td>&quot;Иван&quot;</td></tr><tr><td>&quot;Москва&quot;</td><td>&quot;СПб&quot;</td><td>&quot;Казань&quot;</td></tr><tr><td>&quot;25&quot;</td><td>&quot;30&quot;</td><td>&quot;22&quot;</td></tr><tr><td>&quot;молодой&quot;</td><td>&quot;взрослый&quot;</td><td>&quot;молодой&quot;</td></tr><tr><td>&quot;70000&quot;</td><td>&quot;90000&quot;</td><td>&quot;50000&quot;</td></tr><tr><td>&quot;Скутер&quot;</td><td>&quot;Велосипед&quot;</td><td>&quot;Автомобиль&quot;</td></tr></tbody></table></div>"
      ],
      "text/plain": [
       "shape: (6, 3)\n",
       "┌──────────┬───────────┬────────────┐\n",
       "│ column_0 ┆ column_1  ┆ column_2   │\n",
       "│ ---      ┆ ---       ┆ ---        │\n",
       "│ str      ┆ str       ┆ str        │\n",
       "╞══════════╪═══════════╪════════════╡\n",
       "│ Алексей  ┆ Мария     ┆ Иван       │\n",
       "│ Москва   ┆ СПб       ┆ Казань     │\n",
       "│ 25       ┆ 30        ┆ 22         │\n",
       "│ молодой  ┆ взрослый  ┆ молодой    │\n",
       "│ 70000    ┆ 90000     ┆ 50000      │\n",
       "│ Скутер   ┆ Велосипед ┆ Автомобиль │\n",
       "└──────────┴───────────┴────────────┘"
      ]
     },
     "execution_count": 34,
     "metadata": {},
     "output_type": "execute_result"
    }
   ],
   "source": [
    "df.transpose()"
   ]
  },
  {
   "cell_type": "markdown",
   "id": "77b7e4e0-4fb6-44a7-b8fc-8a217530f004",
   "metadata": {},
   "source": [
    "Можем передать список строк для имени новых столбцов:"
   ]
  },
  {
   "cell_type": "code",
   "execution_count": 35,
   "id": "76161f49-73e6-4f07-a90b-68bba34a46ec",
   "metadata": {},
   "outputs": [
    {
     "data": {
      "text/html": [
       "<div><style>\n",
       ".dataframe > thead > tr,\n",
       ".dataframe > tbody > tr {\n",
       "  text-align: right;\n",
       "  white-space: pre-wrap;\n",
       "}\n",
       "</style>\n",
       "<small>shape: (6, 3)</small><table border=\"1\" class=\"dataframe\"><thead><tr><th>x</th><th>y</th><th>z</th></tr><tr><td>str</td><td>str</td><td>str</td></tr></thead><tbody><tr><td>&quot;Алексей&quot;</td><td>&quot;Мария&quot;</td><td>&quot;Иван&quot;</td></tr><tr><td>&quot;Москва&quot;</td><td>&quot;СПб&quot;</td><td>&quot;Казань&quot;</td></tr><tr><td>&quot;25&quot;</td><td>&quot;30&quot;</td><td>&quot;22&quot;</td></tr><tr><td>&quot;молодой&quot;</td><td>&quot;взрослый&quot;</td><td>&quot;молодой&quot;</td></tr><tr><td>&quot;70000&quot;</td><td>&quot;90000&quot;</td><td>&quot;50000&quot;</td></tr><tr><td>&quot;Скутер&quot;</td><td>&quot;Велосипед&quot;</td><td>&quot;Автомобиль&quot;</td></tr></tbody></table></div>"
      ],
      "text/plain": [
       "shape: (6, 3)\n",
       "┌─────────┬───────────┬────────────┐\n",
       "│ x       ┆ y         ┆ z          │\n",
       "│ ---     ┆ ---       ┆ ---        │\n",
       "│ str     ┆ str       ┆ str        │\n",
       "╞═════════╪═══════════╪════════════╡\n",
       "│ Алексей ┆ Мария     ┆ Иван       │\n",
       "│ Москва  ┆ СПб       ┆ Казань     │\n",
       "│ 25      ┆ 30        ┆ 22         │\n",
       "│ молодой ┆ взрослый  ┆ молодой    │\n",
       "│ 70000   ┆ 90000     ┆ 50000      │\n",
       "│ Скутер  ┆ Велосипед ┆ Автомобиль │\n",
       "└─────────┴───────────┴────────────┘"
      ]
     },
     "execution_count": 35,
     "metadata": {},
     "output_type": "execute_result"
    }
   ],
   "source": [
    "df.transpose(column_names=[\"x\", \"y\", \"z\"])"
   ]
  },
  {
   "cell_type": "markdown",
   "id": "7176fa3b-9739-434b-b7b4-3bad64ea40c2",
   "metadata": {},
   "source": [
    "Не очень удобно, если у нас много строк. Можем написать функцию-генератор, которая динамически создаёт имена столбцов"
   ]
  },
  {
   "cell_type": "code",
   "execution_count": 36,
   "id": "765b970b-504c-4d52-a856-1106ff45df1e",
   "metadata": {},
   "outputs": [
    {
     "data": {
      "text/html": [
       "<div><style>\n",
       ".dataframe > thead > tr,\n",
       ".dataframe > tbody > tr {\n",
       "  text-align: right;\n",
       "  white-space: pre-wrap;\n",
       "}\n",
       "</style>\n",
       "<small>shape: (6, 3)</small><table border=\"1\" class=\"dataframe\"><thead><tr><th>col_0</th><th>col_1</th><th>col_2</th></tr><tr><td>str</td><td>str</td><td>str</td></tr></thead><tbody><tr><td>&quot;Алексей&quot;</td><td>&quot;Мария&quot;</td><td>&quot;Иван&quot;</td></tr><tr><td>&quot;Москва&quot;</td><td>&quot;СПб&quot;</td><td>&quot;Казань&quot;</td></tr><tr><td>&quot;25&quot;</td><td>&quot;30&quot;</td><td>&quot;22&quot;</td></tr><tr><td>&quot;молодой&quot;</td><td>&quot;взрослый&quot;</td><td>&quot;молодой&quot;</td></tr><tr><td>&quot;70000&quot;</td><td>&quot;90000&quot;</td><td>&quot;50000&quot;</td></tr><tr><td>&quot;Скутер&quot;</td><td>&quot;Велосипед&quot;</td><td>&quot;Автомобиль&quot;</td></tr></tbody></table></div>"
      ],
      "text/plain": [
       "shape: (6, 3)\n",
       "┌─────────┬───────────┬────────────┐\n",
       "│ col_0   ┆ col_1     ┆ col_2      │\n",
       "│ ---     ┆ ---       ┆ ---        │\n",
       "│ str     ┆ str       ┆ str        │\n",
       "╞═════════╪═══════════╪════════════╡\n",
       "│ Алексей ┆ Мария     ┆ Иван       │\n",
       "│ Москва  ┆ СПб       ┆ Казань     │\n",
       "│ 25      ┆ 30        ┆ 22         │\n",
       "│ молодой ┆ взрослый  ┆ молодой    │\n",
       "│ 70000   ┆ 90000     ┆ 50000      │\n",
       "│ Скутер  ┆ Велосипед ┆ Автомобиль │\n",
       "└─────────┴───────────┴────────────┘"
      ]
     },
     "execution_count": 36,
     "metadata": {},
     "output_type": "execute_result"
    }
   ],
   "source": [
    "# Функция генератор\n",
    "def name_generator():\n",
    "    count = 0\n",
    "    while True:\n",
    "        yield f\"col_{count}\"\n",
    "        count += 1\n",
    "\n",
    "df.transpose(include_header=False, column_names=name_generator())"
   ]
  },
  {
   "cell_type": "markdown",
   "id": "24e1400a-d1b9-4fda-8222-ba874f184880",
   "metadata": {},
   "source": [
    "Также в параметр `column_names` можно указать имя столбца, который будет использоваться как источник имён для новых столбцов (в таком случае важно, чтобы данные были не числовыми)."
   ]
  },
  {
   "cell_type": "code",
   "execution_count": 37,
   "id": "4e5897dd-bb0d-42cf-ae15-e56e78cdd8bc",
   "metadata": {},
   "outputs": [
    {
     "data": {
      "text/html": [
       "<div><style>\n",
       ".dataframe > thead > tr,\n",
       ".dataframe > tbody > tr {\n",
       "  text-align: right;\n",
       "  white-space: pre-wrap;\n",
       "}\n",
       "</style>\n",
       "<small>shape: (5, 4)</small><table border=\"1\" class=\"dataframe\"><thead><tr><th>column</th><th>Алексей</th><th>Мария</th><th>Иван</th></tr><tr><td>str</td><td>str</td><td>str</td><td>str</td></tr></thead><tbody><tr><td>&quot;Город&quot;</td><td>&quot;Москва&quot;</td><td>&quot;СПб&quot;</td><td>&quot;Казань&quot;</td></tr><tr><td>&quot;Возраст&quot;</td><td>&quot;25&quot;</td><td>&quot;30&quot;</td><td>&quot;22&quot;</td></tr><tr><td>&quot;Категория&quot;</td><td>&quot;молодой&quot;</td><td>&quot;взрослый&quot;</td><td>&quot;молодой&quot;</td></tr><tr><td>&quot;Зарплата&quot;</td><td>&quot;70000&quot;</td><td>&quot;90000&quot;</td><td>&quot;50000&quot;</td></tr><tr><td>&quot;Транспорт&quot;</td><td>&quot;Скутер&quot;</td><td>&quot;Велосипед&quot;</td><td>&quot;Автомобиль&quot;</td></tr></tbody></table></div>"
      ],
      "text/plain": [
       "shape: (5, 4)\n",
       "┌───────────┬─────────┬───────────┬────────────┐\n",
       "│ column    ┆ Алексей ┆ Мария     ┆ Иван       │\n",
       "│ ---       ┆ ---     ┆ ---       ┆ ---        │\n",
       "│ str       ┆ str     ┆ str       ┆ str        │\n",
       "╞═══════════╪═════════╪═══════════╪════════════╡\n",
       "│ Город     ┆ Москва  ┆ СПб       ┆ Казань     │\n",
       "│ Возраст   ┆ 25      ┆ 30        ┆ 22         │\n",
       "│ Категория ┆ молодой ┆ взрослый  ┆ молодой    │\n",
       "│ Зарплата  ┆ 70000   ┆ 90000     ┆ 50000      │\n",
       "│ Транспорт ┆ Скутер  ┆ Велосипед ┆ Автомобиль │\n",
       "└───────────┴─────────┴───────────┴────────────┘"
      ]
     },
     "execution_count": 37,
     "metadata": {},
     "output_type": "execute_result"
    }
   ],
   "source": [
    "df.transpose(include_header=True, column_names=\"Имя\")"
   ]
  }
 ],
 "metadata": {
  "kernelspec": {
   "display_name": "Python 3 (ipykernel)",
   "language": "python",
   "name": "python3"
  },
  "language_info": {
   "codemirror_mode": {
    "name": "ipython",
    "version": 3
   },
   "file_extension": ".py",
   "mimetype": "text/x-python",
   "name": "python",
   "nbconvert_exporter": "python",
   "pygments_lexer": "ipython3",
   "version": "3.12.7"
  }
 },
 "nbformat": 4,
 "nbformat_minor": 5
}
