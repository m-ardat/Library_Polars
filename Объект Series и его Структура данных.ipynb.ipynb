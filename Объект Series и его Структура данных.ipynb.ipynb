{
 "cells": [
  {
   "cell_type": "markdown",
   "id": "ee99df76-845e-43f6-b2b0-60657d7bbbdd",
   "metadata": {
    "panel-layout": {
     "height": 60.59375,
     "visible": true,
     "width": 100
    }
   },
   "source": [
    "# Структура данных Series"
   ]
  },
  {
   "cell_type": "markdown",
   "id": "6d745e6f-4308-4d1a-85a2-158a3154d59e",
   "metadata": {
    "panel-layout": {
     "height": 51.13541793823242,
     "visible": true,
     "width": 100
    }
   },
   "source": [
    "Импорт библиотек"
   ]
  },
  {
   "cell_type": "code",
   "execution_count": 1,
   "id": "c0d1d4a1-0209-417a-b22a-db1844dc7662",
   "metadata": {},
   "outputs": [],
   "source": [
    "import polars as pl\n",
    "import numpy as np"
   ]
  },
  {
   "cell_type": "markdown",
   "id": "c0749f66-3e21-4207-a48b-97d1e86be7b5",
   "metadata": {
    "panel-layout": {
     "height": 68.9375,
     "visible": true,
     "width": 100
    }
   },
   "source": [
    "В *Polars* `Series` – это одномерный массив данных, который может содержать значения различных типов (числовые, строковые, булевы, даты и т.д.) и ассоциированный с ним массив меток, называемый индексом. Индекс генерируется автоматически (целочисленные значения: 0, 1, 2, 3 и т.д.)"
   ]
  },
  {
   "attachments": {
    "2750ab2a-fdeb-4828-b6a4-34dfe63b65bc.png": {
     "image/png": "[encoded data removed]"
    }
   },
   "cell_type": "markdown",
   "id": "0e5f9519-0596-4c49-af13-e103e4736898",
   "metadata": {
    "panel-layout": {
     "height": 51.13541793823242,
     "visible": true,
     "width": 100
    }
   },
   "source": [
    "![image.png](attachment:2750ab2a-fdeb-4828-b6a4-34dfe63b65bc.png)"
   ]
  },
  {
   "cell_type": "markdown",
   "id": "c0443619-3327-4e07-b1e9-ea53ea8e017e",
   "metadata": {
    "jp-MarkdownHeadingCollapsed": true,
    "panel-layout": {
     "height": 50.8125,
     "visible": true,
     "width": 100
    }
   },
   "source": [
    "## Создание объекта Series"
   ]
  },
  {
   "cell_type": "markdown",
   "id": "61884747-a2b3-4c83-9bad-1c4cefc46eda",
   "metadata": {
    "panel-layout": {
     "height": 51.802085876464844,
     "visible": true,
     "width": 100
    }
   },
   "source": [
    "Создаются объекты с помощью конструктора класса `Series`, который имеет следующий синтаксис:"
   ]
  },
  {
   "cell_type": "markdown",
   "id": "60fb2427-f67e-4c1f-a47a-898047367aca",
   "metadata": {
    "panel-layout": {
     "height": 51.802085876464844,
     "visible": true,
     "width": 100
    }
   },
   "source": [
    "`polars.Series(name=None, values=None, dtype=None, strict=True, nan_to_null=False)`"
   ]
  },
  {
   "cell_type": "markdown",
   "id": "4eb68fac-8a63-42fb-a939-7fb63ed3e986",
   "metadata": {
    "panel-layout": {
     "height": 171.0104217529297,
     "visible": true,
     "width": 100
    }
   },
   "source": [
    "- **name** - имя объекта Series (Тип: `str` или `None`);\n",
    "  \n",
    "- **values** - значения, на базе которой будет создан объект Series (Тип: `list`, `array`, или другой массив тип данных);\n",
    "\n",
    "- **dtype** - тип данных (Тип: `DataType` или `None`);\n",
    "\n",
    "- **strict** - если установлено в `True`, это приведет к строгой проверке типов данных при создании серии. Если `False`, Polars будет более гибким в отношении типов, по умолчанию `True` (Тип: `bool`);\n",
    "\n",
    "- **nan_to_null** - если установлено в `True`, все значения NaN будут преобразованы в значения null. По умолчанию `False` (Тип: `bool`)."
   ]
  },
  {
   "cell_type": "markdown",
   "id": "95c557bf-ebc8-4cd4-910d-65e420832981",
   "metadata": {
    "panel-layout": {
     "height": 51.802085876464844,
     "visible": true,
     "width": 100
    }
   },
   "source": [
    "Пустой объект `Series` будет выглядеть так:"
   ]
  },
  {
   "cell_type": "code",
   "execution_count": 2,
   "id": "b4438d35-2fe7-4582-9290-90e9ccdd9df2",
   "metadata": {
    "panel-layout": {
     "height": 0,
     "visible": true,
     "width": 100
    }
   },
   "outputs": [
    {
     "name": "stdout",
     "output_type": "stream",
     "text": [
      "shape: (0,)\n",
      "Series: '' [null]\n",
      "[\n",
      "]\n"
     ]
    }
   ],
   "source": [
    "srs = pl.Series()\n",
    "print(srs)"
   ]
  },
  {
   "cell_type": "code",
   "execution_count": 3,
   "id": "5f7573ae-f201-4681-b61b-cb6314837742",
   "metadata": {
    "panel-layout": {
     "height": 58.270835876464844,
     "visible": true,
     "width": 100
    }
   },
   "outputs": [
    {
     "data": {
      "text/html": [
       "<div><style>\n",
       ".dataframe > thead > tr,\n",
       ".dataframe > tbody > tr {\n",
       "  text-align: right;\n",
       "  white-space: pre-wrap;\n",
       "}\n",
       "</style>\n",
       "<small>shape: (0,)</small><table border=\"1\" class=\"dataframe\"><thead><tr><th></th></tr><tr><td>null</td></tr></thead><tbody></tbody></table></div>"
      ],
      "text/plain": [
       "shape: (0,)\n",
       "Series: '' [null]\n",
       "[\n",
       "]"
      ]
     },
     "metadata": {},
     "output_type": "display_data"
    }
   ],
   "source": [
    "display(srs)"
   ]
  },
  {
   "cell_type": "markdown",
   "id": "17899e8b-3339-4fcb-8891-106096b8aa81",
   "metadata": {
    "jp-MarkdownHeadingCollapsed": true,
    "panel-layout": {
     "height": 44.07291793823242,
     "visible": true,
     "width": 100
    }
   },
   "source": [
    "### Cоздание объекта Series из списка"
   ]
  },
  {
   "cell_type": "code",
   "execution_count": 4,
   "id": "c12a8fa1-5321-4bf6-8c33-9caa09e915e7",
   "metadata": {
    "panel-layout": {
     "height": 0,
     "visible": true,
     "width": 100
    }
   },
   "outputs": [
    {
     "name": "stdout",
     "output_type": "stream",
     "text": [
      "shape: (4,)\n",
      "Series: '' [i64]\n",
      "[\n",
      "\t34\n",
      "\t57\n",
      "\t5\n",
      "\t24\n",
      "]\n"
     ]
    }
   ],
   "source": [
    "lst = [34, 57, 5, 24]\n",
    "s = pl.Series(lst)\n",
    "print(s)"
   ]
  },
  {
   "cell_type": "markdown",
   "id": "7866140a-f4d7-4fec-8d13-a9dfb4a6a44f",
   "metadata": {
    "jp-MarkdownHeadingCollapsed": true,
    "panel-layout": {
     "height": 44.07291793823242,
     "visible": true,
     "width": 100
    }
   },
   "source": [
    "### Создание объекта Series из словаря"
   ]
  },
  {
   "cell_type": "markdown",
   "id": "f67da67c-8fe9-4b9a-8055-b0038d19b18f",
   "metadata": {
    "panel-layout": {
     "height": 51.13541793823242,
     "visible": true,
     "width": 100
    }
   },
   "source": [
    "Допустим, имеем словарь количества учета медведей:"
   ]
  },
  {
   "cell_type": "code",
   "execution_count": 5,
   "id": "fc347f7b-ce73-4874-9878-69f2acc1f3d9",
   "metadata": {},
   "outputs": [],
   "source": [
    "dict_bears = {'белый медведь': 20, 'панда': 14, 'бурый медведь': 3, 'гризли': 8}"
   ]
  },
  {
   "cell_type": "markdown",
   "id": "bd679493-3f8c-4df4-9f1d-a28d6d192653",
   "metadata": {
    "panel-layout": {
     "height": 68.9375,
     "visible": true,
     "width": 100
    }
   },
   "source": [
    "Метод `pl.Series` ожидает, что мы передадим значения в виде списка или массива, а не словаря. Поэтому, если мы хотим создать серию на основе словаря, то должны отдельно указать имена (ключи) и значения. "
   ]
  },
  {
   "cell_type": "code",
   "execution_count": 6,
   "id": "690f7044-196e-4c90-89e8-a814376f53d2",
   "metadata": {
    "panel-layout": {
     "height": 0,
     "visible": true,
     "width": 100
    }
   },
   "outputs": [
    {
     "name": "stdout",
     "output_type": "stream",
     "text": [
      "shape: (4,)\n",
      "Series: 'количество медведей' [i64]\n",
      "[\n",
      "\t20\n",
      "\t14\n",
      "\t3\n",
      "\t8\n",
      "]\n"
     ]
    }
   ],
   "source": [
    "# Создание Series\n",
    "srs_bears_cnt = pl.Series(name=\"количество медведей\", values=list(dict_bears.values()))\n",
    "print(srs_bears_cnt)"
   ]
  },
  {
   "cell_type": "markdown",
   "id": "7c51c626-f60b-46e1-90cd-ce2b27bc6447",
   "metadata": {
    "panel-layout": {
     "height": 51.13541793823242,
     "visible": true,
     "width": 100
    }
   },
   "source": [
    "**Примечание**: если хотим сохранить ключи в качестве индексов и значения в качетсве данных, лучше создать *DataFrame*."
   ]
  },
  {
   "cell_type": "markdown",
   "id": "abe9a7fb-0236-4245-80e5-56e5055d8e3f",
   "metadata": {
    "panel-layout": {
     "height": 44.07291793823242,
     "visible": true,
     "width": 100
    }
   },
   "source": [
    "### Создание объекта Series из NumPy-массива"
   ]
  },
  {
   "cell_type": "code",
   "execution_count": 7,
   "id": "57c3aeaa-b792-47da-b074-ec98f6002f8d",
   "metadata": {
    "panel-layout": {
     "height": 0,
     "visible": true,
     "width": 100
    }
   },
   "outputs": [
    {
     "name": "stdout",
     "output_type": "stream",
     "text": [
      "shape: (3,)\n",
      "Series: '' [f64]\n",
      "[\n",
      "\t37.0\n",
      "\t15.2\n",
      "\t48.01\n",
      "]\n"
     ]
    }
   ],
   "source": [
    "arr = np.array([37, 15.20, 48.01])\n",
    "srs = pl.Series(arr)\n",
    "print(srs)"
   ]
  },
  {
   "cell_type": "markdown",
   "id": "d2758aa4-1cbd-479d-9e32-8c947872156d",
   "metadata": {
    "jp-MarkdownHeadingCollapsed": true,
    "panel-layout": {
     "height": 50.8125,
     "visible": true,
     "width": 100
    }
   },
   "source": [
    "## Типы данных"
   ]
  },
  {
   "cell_type": "markdown",
   "id": "0de5d3f3-0af8-44e2-baef-68ef330b48c1",
   "metadata": {
    "panel-layout": {
     "height": 299.4270935058594,
     "visible": true,
     "width": 100
    }
   },
   "source": [
    "Проверка типа данных - это одно из первых действий, которое необходимо произвести после загрузки новых данных в *polars* для дальнейшего анализа.\n",
    "\n",
    "Основные типы данных, используемые в polars:\n",
    "\n",
    "- `Int8`, `Int16`, `Int32`, `Int64`: целые числа (с различной разрядностью);\n",
    "- `UInt8`, `UInt16`, `UInt32`, `UInt64`: беззнаковые целые числа (может хранить только положительные значения и ноль);\n",
    "- `Float32`, `Float64`: числа с плавающей точкой;\n",
    "- `Boolean`: логический тип данных (True/False);\n",
    "- `Utf8`: строки (текстовые данные);\n",
    "- `Date`: дата (без времени);\n",
    "- `Datetime`: дата и время с поддержкой временных зон;\n",
    "- `Time`: время (без даты);\n",
    "- `List`: списки (массивы) переменной длины, которые могут содержать элементы разных типов;\n",
    "- `Struct`: структуры, которые могут содержать несколько полей различных типов.\n",
    "\n",
    "Эти типы данных позволяют эффективно хранить и обрабатывать данные в *Polars*, обеспечивая при этом высокую производительность и гибкость при выполнении операций с ними (данными)."
   ]
  },
  {
   "cell_type": "markdown",
   "id": "8a141d27-6fcd-4c3e-8454-9ef4c2316590",
   "metadata": {
    "panel-layout": {
     "height": 50.8125,
     "visible": true,
     "width": 100
    }
   },
   "source": [
    "## Методы, параметры и атрибуты Series"
   ]
  },
  {
   "cell_type": "markdown",
   "id": "ba66041f-d0ea-4bc5-b517-3fbe8dc1e219",
   "metadata": {
    "panel-layout": {
     "height": 44.07291793823242,
     "visible": true,
     "width": 100
    }
   },
   "source": [
    "### Параметры Series"
   ]
  },
  {
   "cell_type": "markdown",
   "id": "1bfb9b8c-51cf-4ae7-aa31-a549e1a44640",
   "metadata": {
    "panel-layout": {
     "height": 110.07292175292969,
     "visible": true,
     "width": 100
    }
   },
   "source": [
    "Еще раз посмотрим на конструкцию класса Series:\n",
    "\n",
    "`pl.Series(name=None, values=None, dtype=None, strict=True, nan_to_null=False)`\n",
    "\n",
    "Пройдемся по его параметрам."
   ]
  },
  {
   "cell_type": "markdown",
   "id": "2f3f9ba7-d63b-47b9-b649-85ef1d11b8ce",
   "metadata": {
    "jp-MarkdownHeadingCollapsed": true,
    "panel-layout": {
     "height": 43.864585876464844,
     "visible": true,
     "width": 100
    }
   },
   "source": [
    "#### Параметр `name` конструктора класса Series"
   ]
  },
  {
   "cell_type": "markdown",
   "id": "eedc2c06-d858-4b70-a1ba-1f615c9d2523",
   "metadata": {
    "panel-layout": {
     "height": 51.802085876464844,
     "visible": true,
     "width": 100
    }
   },
   "source": [
    "**name** - Имя серии. Если хотим задать имя для ванашей серии, то указываем его, иначе оставляем `None`."
   ]
  },
  {
   "cell_type": "code",
   "execution_count": 8,
   "id": "98b14c5c-50be-4aae-8fb2-7c199baa5bba",
   "metadata": {
    "panel-layout": {
     "height": 0,
     "visible": true,
     "width": 100
    }
   },
   "outputs": [
    {
     "name": "stdout",
     "output_type": "stream",
     "text": [
      "shape: (4,)\n",
      "Series: 'my_series' [i64]\n",
      "[\n",
      "\t1\n",
      "\t2\n",
      "\t3\n",
      "\tnull\n",
      "]\n"
     ]
    }
   ],
   "source": [
    "series = pl.Series(name=\"my_series\", values=[1, 2, 3, None])\n",
    "print(series)"
   ]
  },
  {
   "cell_type": "code",
   "execution_count": 9,
   "id": "e90b5176-dfea-4818-9543-fdcf995b63d6",
   "metadata": {
    "panel-layout": {
     "height": 165.28125,
     "visible": true,
     "width": 100
    }
   },
   "outputs": [
    {
     "data": {
      "text/html": [
       "<div><style>\n",
       ".dataframe > thead > tr,\n",
       ".dataframe > tbody > tr {\n",
       "  text-align: right;\n",
       "  white-space: pre-wrap;\n",
       "}\n",
       "</style>\n",
       "<small>shape: (4,)</small><table border=\"1\" class=\"dataframe\"><thead><tr><th>my_series</th></tr><tr><td>i64</td></tr></thead><tbody><tr><td>1</td></tr><tr><td>2</td></tr><tr><td>3</td></tr><tr><td>null</td></tr></tbody></table></div>"
      ],
      "text/plain": [
       "shape: (4,)\n",
       "Series: 'my_series' [i64]\n",
       "[\n",
       "\t1\n",
       "\t2\n",
       "\t3\n",
       "\tnull\n",
       "]"
      ]
     },
     "metadata": {},
     "output_type": "display_data"
    }
   ],
   "source": [
    "display(series)"
   ]
  },
  {
   "cell_type": "markdown",
   "id": "9a008a07-18c5-4a00-a8c7-278f17e95b4f",
   "metadata": {
    "jp-MarkdownHeadingCollapsed": true,
    "panel-layout": {
     "height": 43.864585876464844,
     "visible": true,
     "width": 100
    }
   },
   "source": [
    "#### Параметр `values` конструктора класса Series"
   ]
  },
  {
   "cell_type": "markdown",
   "id": "e5c7959c-eca1-4cf8-8230-04294e68200d",
   "metadata": {
    "panel-layout": {
     "height": 51.13541793823242,
     "visible": true,
     "width": 100
    }
   },
   "source": [
    "**values** - Значения, которые мы хотим поместить в серию. Доброе напомиание: без него наша серия будет пустой."
   ]
  },
  {
   "cell_type": "code",
   "execution_count": 10,
   "id": "451bbb41-1668-47cd-b2c1-26fe52a54601",
   "metadata": {
    "panel-layout": {
     "height": 0,
     "visible": true,
     "width": 100
    }
   },
   "outputs": [
    {
     "name": "stdout",
     "output_type": "stream",
     "text": [
      "shape: (0,)\n",
      "Series: '' [null]\n",
      "[\n",
      "]\n"
     ]
    }
   ],
   "source": [
    "srs = pl.Series()\n",
    "print(srs)"
   ]
  },
  {
   "cell_type": "markdown",
   "id": "eec536e9-e92c-4f05-8641-c65a591d7f02",
   "metadata": {
    "jp-MarkdownHeadingCollapsed": true,
    "panel-layout": {
     "height": 43.864585876464844,
     "visible": true,
     "width": 100
    }
   },
   "source": [
    "#### Параметр `dtype` конструктора класса Series"
   ]
  },
  {
   "cell_type": "markdown",
   "id": "47b86865-a93b-43e1-84cd-c805bd5ccdc9",
   "metadata": {
    "panel-layout": {
     "height": 51.13541793823242,
     "visible": true,
     "width": 100
    }
   },
   "source": [
    "**dtype** - Опциональный параметр для указания типа данных серии. Если не указан, *Polars* попытается определить тип данных автоматически на основе значений."
   ]
  },
  {
   "cell_type": "markdown",
   "id": "715cba5d-1dfe-40d7-a577-8c6fa69b84ef",
   "metadata": {
    "panel-layout": {
     "height": 51.13541793823242,
     "visible": true,
     "width": 100
    }
   },
   "source": [
    "Но можем и сами, например:"
   ]
  },
  {
   "cell_type": "code",
   "execution_count": 11,
   "id": "2801a687-df56-4510-8cec-8c3c054ff483",
   "metadata": {
    "panel-layout": {
     "height": 0,
     "visible": true,
     "width": 100
    }
   },
   "outputs": [
    {
     "name": "stdout",
     "output_type": "stream",
     "text": [
      "shape: (4,)\n",
      "Series: 'my_series' [i32]\n",
      "[\n",
      "\t1\n",
      "\t2\n",
      "\t3\n",
      "\tnull\n",
      "]\n"
     ]
    }
   ],
   "source": [
    "series = pl.Series(name=\"my_series\", values=[1, 2, 3, None], dtype=pl.Int32)\n",
    "print(series)"
   ]
  },
  {
   "cell_type": "markdown",
   "id": "afa6b6ea-3ed8-41cb-869d-57e8fa3fcf98",
   "metadata": {
    "jp-MarkdownHeadingCollapsed": true,
    "panel-layout": {
     "height": 43.864585876464844,
     "visible": true,
     "width": 100
    }
   },
   "source": [
    "#### Параметр `strict` конструктора класса Series"
   ]
  },
  {
   "cell_type": "markdown",
   "id": "6631b32c-4e12-4ad0-8bda-1b7b7aa6982d",
   "metadata": {
    "panel-layout": {
     "height": 51.13541793823242,
     "visible": true,
     "width": 100
    }
   },
   "source": [
    "**strict** - Параметр, который используется для определения того, как строго следует проверять типы данных при создании серии.\n"
   ]
  },
  {
   "cell_type": "markdown",
   "id": "bd6d48dd-1a4f-4d42-b7c7-46ad0aee5ec8",
   "metadata": {
    "panel-layout": {
     "height": 157.67709350585938,
     "visible": true,
     "width": 100
    }
   },
   "source": [
    "Если `strict=True`, то при создании серии будет происходить строгая проверка типов, что может привести к ошибкам, если данные не соответствуют ожидаемым типам. \n",
    "\n",
    "Если `strict=False`, то библиотека будет более гибкой и попытается привести данные к нужному типу данных. Если приведение невозможно, то присвоется значение `null`.\n",
    "\n",
    "**Замечание**: Параметр `strict=True` при создании серии в данном контексте может не вызвать ошибку, потому что он не проверяет соответствие типов при создании серии. Он больше влияет на операции, которые могут возникнуть позже, например, при попытке выполнения арифметических операций или преобразования типов.\n",
    "\n",
    "Например:"
   ]
  },
  {
   "cell_type": "code",
   "execution_count": 12,
   "id": "c22043f9-c2d2-43c1-8e7f-8020eac92afb",
   "metadata": {
    "panel-layout": {
     "height": 0,
     "visible": true,
     "width": 100
    }
   },
   "outputs": [
    {
     "name": "stdout",
     "output_type": "stream",
     "text": [
      "shape: (3,)\n",
      "Series: 'a' [i32]\n",
      "[\n",
      "\t1\n",
      "\t2\n",
      "\t3\n",
      "]\n"
     ]
    }
   ],
   "source": [
    "# Пример с strict=True\n",
    "# Создаем серию с целыми числами\n",
    "s_strict = pl.Series(\"a\", [1, 2, 3], dtype=pl.Int32, strict=True)\n",
    "print(s_strict)"
   ]
  },
  {
   "cell_type": "markdown",
   "id": "7fb30e46-42ea-4a4a-a4e5-a60b1c147cbc",
   "metadata": {
    "panel-layout": {
     "height": 51.13541793823242,
     "visible": true,
     "width": 100
    }
   },
   "source": [
    "Здесь всё хорошо"
   ]
  },
  {
   "cell_type": "code",
   "execution_count": 13,
   "id": "fb00ee89-d193-4969-830d-2ce91f9df091",
   "metadata": {},
   "outputs": [
    {
     "name": "stdout",
     "output_type": "stream",
     "text": [
      "Ошибка при создании серии с strict=True: unexpected value while building Series of type Int32; found value of type String: \"a\"\n",
      "\n",
      "Hint: Try setting `strict=False` to allow passing data with mixed types.\n"
     ]
    }
   ],
   "source": [
    "# Попробуем создать серию с несовместимыми типами (строки вместо целых чисел)\n",
    "try:\n",
    "    s_strict_invalid = pl.Series(\"b\", [\"a\", \"b\", \"c\"], dtype=pl.Int32, strict=True)\n",
    "except TypeError as e:\n",
    "    print(f\"Ошибка при создании серии с strict=True: {e}\")"
   ]
  },
  {
   "cell_type": "code",
   "execution_count": 14,
   "id": "029cbc15-985e-4e51-956d-0ec16794c09c",
   "metadata": {},
   "outputs": [
    {
     "name": "stdout",
     "output_type": "stream",
     "text": [
      "Ошибка при создании серии с strict=True: unexpected value while building Series of type Int32; found value of type String: \"1\"\n",
      "\n",
      "Hint: Try setting `strict=False` to allow passing data with mixed types.\n"
     ]
    }
   ],
   "source": [
    "# Попробуем создать серию с несовместимыми типами (строки вместо целых чисел)\n",
    "try:\n",
    "    s_strict_invalid = pl.Series(\"b\", [\"1\", \"2\", \"3\"], dtype=pl.Int32, strict=True)\n",
    "    print(s_strict_invalid)\n",
    "except TypeError as e:\n",
    "    print(f\"Ошибка при создании серии с strict=True: {e}\")"
   ]
  },
  {
   "cell_type": "code",
   "execution_count": 15,
   "id": "d0573324-6884-4034-88d5-45a47480ae21",
   "metadata": {
    "panel-layout": {
     "height": 0,
     "visible": true,
     "width": 100
    }
   },
   "outputs": [
    {
     "name": "stdout",
     "output_type": "stream",
     "text": [
      "shape: (3,)\n",
      "Series: 'b' [i64]\n",
      "[\n",
      "\t1\n",
      "\t2\n",
      "\t3\n",
      "]\n"
     ]
    }
   ],
   "source": [
    "# Пример с strict=False\n",
    "s_strict_invalid = pl.Series(\"b\", [\"1\", \"2\", 3], dtype=pl.Int64, strict=False)\n",
    "print(s_strict_invalid)"
   ]
  },
  {
   "cell_type": "markdown",
   "id": "bf21906f-1f5d-44f7-96b9-8252e02398db",
   "metadata": {
    "panel-layout": {
     "height": 51.13541793823242,
     "visible": true,
     "width": 100
    }
   },
   "source": [
    "Видим, что строки \"1\", \"2\" приобразованы к нужному типу данных."
   ]
  },
  {
   "cell_type": "code",
   "execution_count": 16,
   "id": "59e096dd-a750-41c5-8ab8-5cc4db128fdf",
   "metadata": {
    "panel-layout": {
     "height": 0,
     "visible": true,
     "width": 100
    }
   },
   "outputs": [
    {
     "name": "stdout",
     "output_type": "stream",
     "text": [
      "shape: (3,)\n",
      "Series: 'c' [i64]\n",
      "[\n",
      "\tnull\n",
      "\tnull\n",
      "\t3\n",
      "]\n"
     ]
    }
   ],
   "source": [
    "# Пример с strict=False\n",
    "s_strict_invalid = pl.Series(\"c\", [\"a\", \"re\", 3], dtype=pl.Int64, strict=False)\n",
    "print(s_strict_invalid)"
   ]
  },
  {
   "cell_type": "markdown",
   "id": "d07c61f8-045a-4330-95a9-b861cc4b687f",
   "metadata": {
    "panel-layout": {
     "height": 51.802085876464844,
     "visible": true,
     "width": 100
    }
   },
   "source": [
    "Видим, что строки `\"a\", \"re\"` *polars* приобразовать к нужному типу данных не удалось, и установил на их место значение `null`."
   ]
  },
  {
   "cell_type": "markdown",
   "id": "82bdfc62-8e80-4eb7-9ad2-eef48e7cd980",
   "metadata": {
    "jp-MarkdownHeadingCollapsed": true,
    "panel-layout": {
     "height": 43.864585876464844,
     "visible": true,
     "width": 100
    }
   },
   "source": [
    "#### Параметр `nan_to_null` конструктора класса Series "
   ]
  },
  {
   "cell_type": "markdown",
   "id": "998fcefb-356c-4be3-a038-dbf374943f2f",
   "metadata": {
    "panel-layout": {
     "height": 51.13541793823242,
     "visible": true,
     "width": 100
    }
   },
   "source": [
    "**nan_to_null** - Параметр используется для управления тем, как обрабатываются значения NaN."
   ]
  },
  {
   "cell_type": "markdown",
   "id": "ea5c51fa-c2c9-4100-888e-8e30b4e80b2b",
   "metadata": {
    "panel-layout": {
     "height": 81.60417175292969,
     "visible": true,
     "width": 100
    }
   },
   "source": [
    "Если **nan_to_null** установлен в `True`, все значения NaN будут преобразованы в значения null. Если `False`, значения NaN останутся в своем исходном виде.\n",
    "\n",
    "**Замечание**: В случае, если для создания серии используется массив *numpy*, указываем, как обращаться со значениями `np.nan`. Данный параметр не действует для данных, отличных от *numpy*."
   ]
  },
  {
   "cell_type": "code",
   "execution_count": 17,
   "id": "ebf2aee2-6541-4840-955b-043395c840f7",
   "metadata": {
    "panel-layout": {
     "height": 0,
     "visible": true,
     "width": 100
    }
   },
   "outputs": [
    {
     "name": "stdout",
     "output_type": "stream",
     "text": [
      "shape: (4,)\n",
      "Series: 'a' [f64]\n",
      "[\n",
      "\t1.0\n",
      "\t2.0\n",
      "\tNaN\n",
      "\t4.0\n",
      "]\n"
     ]
    }
   ],
   "source": [
    "# Создание серии с NaN значениями\n",
    "arr = np.array([1.0, 2.0, np.nan, 4.0])\n",
    "s_nan = pl.Series(\"a\", [1.0, 2.0, np.nan, 4.0], nan_to_null=False)\n",
    "print(s_nan)"
   ]
  },
  {
   "cell_type": "markdown",
   "id": "9ab47b12-1cb9-4d89-a47e-e9b7cc32cc1a",
   "metadata": {
    "panel-layout": {
     "height": 51.13541793823242,
     "visible": true,
     "width": 100
    }
   },
   "source": [
    "В этом случае значение NaN остается в серии."
   ]
  },
  {
   "cell_type": "code",
   "execution_count": 18,
   "id": "5eb201d4-b983-4af9-aa3c-190627bb771d",
   "metadata": {
    "panel-layout": {
     "height": 0,
     "visible": true,
     "width": 100
    }
   },
   "outputs": [
    {
     "name": "stdout",
     "output_type": "stream",
     "text": [
      "shape: (4,)\n",
      "Series: 'a' [f64]\n",
      "[\n",
      "\t1.0\n",
      "\t2.0\n",
      "\tnull\n",
      "\t4.0\n",
      "]\n"
     ]
    }
   ],
   "source": [
    "# Создание серии с NaN значениями и перевод в null\n",
    "arr = np.array([1.0, 2.0, np.nan, 4.0])\n",
    "s_null = pl.Series(\"a\", arr, nan_to_null=True)\n",
    "print(s_null)"
   ]
  },
  {
   "cell_type": "markdown",
   "id": "9fbb78d8-1e91-4aea-9f26-fc7683552d3a",
   "metadata": {
    "jp-MarkdownHeadingCollapsed": true,
    "panel-layout": {
     "height": 44.07291793823242,
     "visible": true,
     "width": 100
    }
   },
   "source": [
    "### Атрибуты Series"
   ]
  },
  {
   "cell_type": "markdown",
   "id": "0123f947-8335-4da6-9b76-50e4633c2f7b",
   "metadata": {
    "panel-layout": {
     "height": 105.20833587646484,
     "visible": true,
     "width": 100
    }
   },
   "source": [
    "- dtype: возвращает тип данных `Series`;\n",
    "- flags: редоставляет метаданные о `Series`;\n",
    "- name: возвращает имя `Series`\n",
    "- shape: возвращает кортеж, содержащий размеры `Series`, т.е., количество элементов в `Series`."
   ]
  },
  {
   "cell_type": "code",
   "execution_count": 19,
   "id": "0ee362a7-d3b2-49fb-beaf-affd80ef1292",
   "metadata": {
    "panel-layout": {
     "height": 0,
     "visible": true,
     "width": 100
    }
   },
   "outputs": [
    {
     "name": "stdout",
     "output_type": "stream",
     "text": [
      "shape: (4,)\n",
      "Series: 'a' [f64]\n",
      "[\n",
      "\t37.0\n",
      "\t15.2\n",
      "\t48.01\n",
      "\tnull\n",
      "]\n"
     ]
    }
   ],
   "source": [
    "arr = np.array([37, 15.20, 48.01, np.nan])\n",
    "srs = pl.Series(name=\"a\", values=arr, dtype=pl.Float64, strict=True, nan_to_null=True)\n",
    "print(srs)"
   ]
  },
  {
   "cell_type": "code",
   "execution_count": 20,
   "id": "8103bbbf-503b-4ebb-a5a0-a16b3b87a4f7",
   "metadata": {
    "panel-layout": {
     "height": 0,
     "visible": true,
     "width": 100
    }
   },
   "outputs": [
    {
     "name": "stdout",
     "output_type": "stream",
     "text": [
      "Float64\n",
      "a\n",
      "(4,)\n",
      "{'SORTED_ASC': False, 'SORTED_DESC': False}\n"
     ]
    }
   ],
   "source": [
    "print(srs.dtype)     # Тип данных\n",
    "print(srs.name)      # Имя\n",
    "print(srs.shape)     # Размер\n",
    "print(srs.flags)     # Метки"
   ]
  },
  {
   "cell_type": "markdown",
   "id": "e367ca0d-4818-4ed4-b4a3-4bbbb9a2221a",
   "metadata": {
    "panel-layout": {
     "height": 44.07291793823242,
     "visible": true,
     "width": 100
    }
   },
   "source": [
    "### Методы Series"
   ]
  },
  {
   "cell_type": "markdown",
   "id": "0b30efc5-f165-4033-8e0e-a6657b624579",
   "metadata": {
    "panel-layout": {
     "height": 51.802085876464844,
     "visible": true,
     "width": 100
    }
   },
   "source": [
    "`Series` в *Polars* имеет множество методов. Полный список можно найти в [документации *Polars*](https://docs.pola.rs/api/python/stable/reference/series/index.html)."
   ]
  },
  {
   "cell_type": "markdown",
   "id": "78b181b4-9b4c-4eeb-8d9c-4442af296705",
   "metadata": {
    "jp-MarkdownHeadingCollapsed": true
   },
   "source": [
    "#### Некоторые методы"
   ]
  },
  {
   "cell_type": "markdown",
   "id": "5f3bcb96-e115-4539-839f-addbbedf8720",
   "metadata": {
    "jp-MarkdownHeadingCollapsed": true
   },
   "source": [
    "##### Абсолютное значение. Метод `abs()`"
   ]
  },
  {
   "cell_type": "markdown",
   "id": "1f8bca3c-2d7a-4453-9d1f-bc672be7fe62",
   "metadata": {},
   "source": [
    "Метод `abs()` возвращает объект Series с абсолютными значениями (взятыми по модулю)."
   ]
  },
  {
   "cell_type": "code",
   "execution_count": 21,
   "id": "a940e6fc-d9e9-4e48-815e-d24268fc903f",
   "metadata": {},
   "outputs": [
    {
     "name": "stdout",
     "output_type": "stream",
     "text": [
      "shape: (5,)\n",
      "Series: '' [i64]\n",
      "[\n",
      "\t-16\n",
      "\t-9\n",
      "\t35\n",
      "\t77\n",
      "\t-30\n",
      "]\n"
     ]
    }
   ],
   "source": [
    "srs = pl.Series([-16, -9, 35, 77, -30])\n",
    "# Применяем abs()\n",
    "srs_abs = srs.abs()\n",
    "print(srs)"
   ]
  },
  {
   "cell_type": "markdown",
   "id": "ff59834c-96de-4d65-aa39-9108f898ef84",
   "metadata": {
    "jp-MarkdownHeadingCollapsed": true
   },
   "source": [
    "##### Создание копии. Метод `clone()`"
   ]
  },
  {
   "cell_type": "markdown",
   "id": "6d3f07a9-e9ec-47a3-bab1-4ada64fc3a02",
   "metadata": {},
   "source": [
    "Метод `clone()` создает глубокую копию Series, так что любые изменения в исходной Series не будут влиять на новую копию, и наоборот."
   ]
  },
  {
   "cell_type": "code",
   "execution_count": 22,
   "id": "a65eb825-4c1b-445e-8ad5-d61f58f9327a",
   "metadata": {},
   "outputs": [
    {
     "name": "stdout",
     "output_type": "stream",
     "text": [
      "shape: (5,)\n",
      "Series: '' [i64]\n",
      "[\n",
      "\t-16\n",
      "\t-9\n",
      "\t35\n",
      "\t77\n",
      "\t-30\n",
      "]\n"
     ]
    }
   ],
   "source": [
    "sqw = srs.clone()\n",
    "print(sqw)"
   ]
  },
  {
   "cell_type": "markdown",
   "id": "8b0eeff6-8ca3-4694-93bc-27163d2ee036",
   "metadata": {
    "jp-MarkdownHeadingCollapsed": true
   },
   "source": [
    "##### Округление значений. Метод `round()`"
   ]
  },
  {
   "cell_type": "markdown",
   "id": "99a14535-233d-461c-a0da-5bc1e814aa10",
   "metadata": {},
   "source": [
    "Метод `round()` позволяет округлять значения в структурах Series. Параметру `decimals` этого метода передается целое число - количество знаков после запятой."
   ]
  },
  {
   "cell_type": "code",
   "execution_count": 23,
   "id": "2e897a70-72b3-4087-a8ae-306dac1c8aa8",
   "metadata": {},
   "outputs": [
    {
     "name": "stdout",
     "output_type": "stream",
     "text": [
      "shape: (4,)\n",
      "Series: 'a' [f64]\n",
      "[\n",
      "\t37.0\n",
      "\t15.3\n",
      "\t48.0\n",
      "\tnull\n",
      "]\n"
     ]
    }
   ],
   "source": [
    "arr = np.array([37, 15.28, 48.01, np.nan])\n",
    "srs = pl.Series(name=\"a\", values=arr, dtype=pl.Float64, strict=True, nan_to_null=True)\n",
    "srs_round = srs.round(1)\n",
    "print(srs_round)"
   ]
  },
  {
   "cell_type": "markdown",
   "id": "3bafd911-1326-457f-9f04-4620d50c1498",
   "metadata": {
    "jp-MarkdownHeadingCollapsed": true
   },
   "source": [
    "##### Возведение в степень. Метод `pow()`"
   ]
  },
  {
   "cell_type": "markdown",
   "id": "ad4b88c0-cf7d-4b49-be3f-913b800de18e",
   "metadata": {},
   "source": [
    "Метод pow() позволяет возводить значения в структурах Series. Параметру exponent этого метода передается число, в которую надо возвести элементы Series."
   ]
  },
  {
   "cell_type": "code",
   "execution_count": 24,
   "id": "ccfcd603-ba66-4cda-9cc8-461560c8d2d7",
   "metadata": {},
   "outputs": [
    {
     "name": "stdout",
     "output_type": "stream",
     "text": [
      "shape: (4,)\n",
      "Series: 'foo' [i64]\n",
      "[\n",
      "\t1\n",
      "\t8\n",
      "\t27\n",
      "\t64\n",
      "]\n"
     ]
    }
   ],
   "source": [
    "s = pl.Series(\"foo\", [1, 2, 3, 4])\n",
    "s_pow = s.pow(3)\n",
    "print(s_pow)"
   ]
  },
  {
   "cell_type": "markdown",
   "id": "1a898a14-5f0e-4e50-a4dd-a205ece82efa",
   "metadata": {},
   "source": [
    "#### Статистические методы"
   ]
  },
  {
   "cell_type": "code",
   "execution_count": 25,
   "id": "568ef714-7ce7-4481-ae1e-9551fef12960",
   "metadata": {},
   "outputs": [
    {
     "name": "stdout",
     "output_type": "stream",
     "text": [
      "shape: (10,)\n",
      "Series: '' [i64]\n",
      "[\n",
      "\t3\n",
      "\t2\n",
      "\t8\n",
      "\t-6\n",
      "\t100\n",
      "\t5\n",
      "\t3\n",
      "\t3\n",
      "\t2\n",
      "\tnull\n",
      "]\n"
     ]
    }
   ],
   "source": [
    "srs = pl.Series([3, 2, 8, -6, 100, 5, 3, 3, 2, None])\n",
    "print(srs)"
   ]
  },
  {
   "cell_type": "code",
   "execution_count": 26,
   "id": "6ddf9a70-232e-4895-9672-7ef43262bc70",
   "metadata": {},
   "outputs": [
    {
     "name": "stdout",
     "output_type": "stream",
     "text": [
      "100\n",
      "-6\n",
      "shape: (1,)\n",
      "Series: '' [i64]\n",
      "[\n",
      "\t3\n",
      "]\n",
      "13.333333333333334\n",
      "3.0\n",
      "120\n",
      "10\n",
      "7\n",
      "-2592000\n",
      "2.0\n",
      "9\n"
     ]
    }
   ],
   "source": [
    "print(srs.max()) # максимальное значение\n",
    "print(srs.min()) # минимальное значение\n",
    "print(srs.mode()) # мода\n",
    "print(srs.mean()) # среднее значение (при налчии null не учитывает их, т.е. элементов меньше)\n",
    "print(srs.median()) # медиана\n",
    "print(srs.sum()) # сумма\n",
    "print(srs.len()) # кол-во элементов (строк)\n",
    "print(srs.n_unique()) # кол-во уникальных элементов\n",
    "print(srs.product()) # произведение элементов\n",
    "print(srs.quantile(0.2)) # квантиль (значение от 0.0 до 1.0)\n",
    "print(srs.count())  # возвращает количество не нулевых элементых"
   ]
  },
  {
   "cell_type": "markdown",
   "id": "c3e9945e-d781-4c14-85d4-16da16f67767",
   "metadata": {},
   "source": [
    "##### Метод `describe()`"
   ]
  },
  {
   "cell_type": "markdown",
   "id": "1d095451-1128-42ce-bdad-85bf68e69db3",
   "metadata": {},
   "source": [
    "Чтобы получить краткую сводную статистику серии можно воспользоваться методом `describe()`."
   ]
  },
  {
   "cell_type": "code",
   "execution_count": 27,
   "id": "bcc31bf1-eb2b-4836-9311-28f9073920c8",
   "metadata": {},
   "outputs": [
    {
     "data": {
      "text/html": [
       "<div><style>\n",
       ".dataframe > thead > tr,\n",
       ".dataframe > tbody > tr {\n",
       "  text-align: right;\n",
       "  white-space: pre-wrap;\n",
       "}\n",
       "</style>\n",
       "<small>shape: (9, 2)</small><table border=\"1\" class=\"dataframe\"><thead><tr><th>statistic</th><th>value</th></tr><tr><td>str</td><td>f64</td></tr></thead><tbody><tr><td>&quot;count&quot;</td><td>9.0</td></tr><tr><td>&quot;null_count&quot;</td><td>1.0</td></tr><tr><td>&quot;mean&quot;</td><td>13.333333</td></tr><tr><td>&quot;std&quot;</td><td>32.710854</td></tr><tr><td>&quot;min&quot;</td><td>-6.0</td></tr><tr><td>&quot;25%&quot;</td><td>2.0</td></tr><tr><td>&quot;50%&quot;</td><td>3.0</td></tr><tr><td>&quot;75%&quot;</td><td>5.0</td></tr><tr><td>&quot;max&quot;</td><td>100.0</td></tr></tbody></table></div>"
      ],
      "text/plain": [
       "shape: (9, 2)\n",
       "┌────────────┬───────────┐\n",
       "│ statistic  ┆ value     │\n",
       "│ ---        ┆ ---       │\n",
       "│ str        ┆ f64       │\n",
       "╞════════════╪═══════════╡\n",
       "│ count      ┆ 9.0       │\n",
       "│ null_count ┆ 1.0       │\n",
       "│ mean       ┆ 13.333333 │\n",
       "│ std        ┆ 32.710854 │\n",
       "│ min        ┆ -6.0      │\n",
       "│ 25%        ┆ 2.0       │\n",
       "│ 50%        ┆ 3.0       │\n",
       "│ 75%        ┆ 5.0       │\n",
       "│ max        ┆ 100.0     │\n",
       "└────────────┴───────────┘"
      ]
     },
     "execution_count": 27,
     "metadata": {},
     "output_type": "execute_result"
    }
   ],
   "source": [
    "srs.describe()"
   ]
  },
  {
   "cell_type": "markdown",
   "id": "9f40d4ac-a530-4c7a-8b42-9f5440a50751",
   "metadata": {},
   "source": [
    "#### Арифметические операции"
   ]
  },
  {
   "cell_type": "markdown",
   "id": "11e50cb0-0826-40cd-98f7-184a5a92552c",
   "metadata": {},
   "source": [
    "Со структурами данных *polars* можно поэлементно проводить операции сложения, вычитания, умножения, деления."
   ]
  },
  {
   "cell_type": "code",
   "execution_count": 28,
   "id": "d071e009-091a-4e57-b703-3a8b1b8f33a4",
   "metadata": {},
   "outputs": [
    {
     "name": "stdout",
     "output_type": "stream",
     "text": [
      "shape: (4,)\n",
      "Series: 'a' [f64]\n",
      "[\n",
      "\t37.0\n",
      "\t-15.2\n",
      "\t48.01\n",
      "\tnull\n",
      "]\n",
      "\n",
      "shape: (4,)\n",
      "Series: 'a' [f64]\n",
      "[\n",
      "\tnull\n",
      "\t8.0\n",
      "\t15.0\n",
      "\tnull\n",
      "]\n"
     ]
    }
   ],
   "source": [
    "arr_1 = np.array([37, -15.20, 48.01, np.nan])\n",
    "srs_1 = pl.Series(name=\"a\", values=arr_1, dtype=pl.Float64, strict=True, nan_to_null=True)\n",
    "\n",
    "arr_2 = np.array([np.nan, 8, 15, np.nan])\n",
    "srs_2 = pl.Series(name=\"a\", values=arr_2, dtype=pl.Float64, strict=True, nan_to_null=True)\n",
    "print(srs_1, srs_2, sep='\\n\\n')"
   ]
  },
  {
   "cell_type": "code",
   "execution_count": 29,
   "id": "ecf60e21-ca01-4379-aca7-bac13835f395",
   "metadata": {},
   "outputs": [
    {
     "name": "stdout",
     "output_type": "stream",
     "text": [
      "shape: (4,)\n",
      "Series: 'a' [f64]\n",
      "[\n",
      "\tnull\n",
      "\t-7.2\n",
      "\t63.01\n",
      "\tnull\n",
      "]\n",
      "shape: (4,)\n",
      "Series: 'a' [f64]\n",
      "[\n",
      "\tnull\n",
      "\t-23.2\n",
      "\t33.01\n",
      "\tnull\n",
      "]\n",
      "shape: (4,)\n",
      "Series: 'a' [f64]\n",
      "[\n",
      "\tnull\n",
      "\t-121.6\n",
      "\t720.15\n",
      "\tnull\n",
      "]\n",
      "shape: (4,)\n",
      "Series: 'a' [f64]\n",
      "[\n",
      "\tnull\n",
      "\t-1.9\n",
      "\t3.200667\n",
      "\tnull\n",
      "]\n",
      "shape: (4,)\n",
      "Series: 'a' [f64]\n",
      "[\n",
      "\t42.0\n",
      "\t-10.2\n",
      "\t53.01\n",
      "\tnull\n",
      "]\n",
      "shape: (4,)\n",
      "Series: 'a' [f64]\n",
      "[\n",
      "\t1369.0\n",
      "\t231.04\n",
      "\t2304.9601\n",
      "\tnull\n",
      "]\n"
     ]
    }
   ],
   "source": [
    "print(srs_1 + srs_2) # Сложение\n",
    "print(srs_1 - srs_2) # Вычитание\n",
    "print(srs_1 * srs_2) # Умножение\n",
    "print(srs_1 / srs_2) # Деление\n",
    "print(srs_1 + 5) # умножение/деление/сложение/вычитание на константу\n",
    "print(srs_1 ** 2) # возведение в степень"
   ]
  },
  {
   "cell_type": "markdown",
   "id": "6689a0d6-57b0-4aa0-8d03-0aa31374bb26",
   "metadata": {},
   "source": [
    "Если в элементах есть `null`, то на данной позиции вернется `null`."
   ]
  },
  {
   "cell_type": "markdown",
   "id": "777f77fa-9454-4b7c-9df7-a17e1aaa1154",
   "metadata": {},
   "source": [
    "## Работа с конкретными значениями объекта Series"
   ]
  },
  {
   "cell_type": "code",
   "execution_count": 30,
   "id": "ba2cb213-14df-4989-9ec1-79e34597bf3f",
   "metadata": {},
   "outputs": [
    {
     "data": {
      "text/html": [
       "<div><style>\n",
       ".dataframe > thead > tr,\n",
       ".dataframe > tbody > tr {\n",
       "  text-align: right;\n",
       "  white-space: pre-wrap;\n",
       "}\n",
       "</style>\n",
       "<small>shape: (4,)</small><table border=\"1\" class=\"dataframe\"><thead><tr><th>a</th></tr><tr><td>f64</td></tr></thead><tbody><tr><td>37.0</td></tr><tr><td>-15.2</td></tr><tr><td>48.01</td></tr><tr><td>null</td></tr></tbody></table></div>"
      ],
      "text/plain": [
       "shape: (4,)\n",
       "Series: 'a' [f64]\n",
       "[\n",
       "\t37.0\n",
       "\t-15.2\n",
       "\t48.01\n",
       "\tnull\n",
       "]"
      ]
     },
     "metadata": {},
     "output_type": "display_data"
    }
   ],
   "source": [
    "arr_1 = np.array([37, -15.20, 48.01, np.nan])\n",
    "srs_1 = pl.Series(name=\"a\", values=arr_1, dtype=pl.Float64, strict=True, nan_to_null=True)\n",
    "display(srs_1)"
   ]
  },
  {
   "cell_type": "markdown",
   "id": "2dfe2534-8949-4a64-8a3e-b1d18e246b49",
   "metadata": {},
   "source": [
    "### Обращаемся к конкретным значениям объекта Series"
   ]
  },
  {
   "cell_type": "markdown",
   "id": "9fb5cf96-92eb-4232-82cd-3025c0cdba1c",
   "metadata": {},
   "source": [
    "Для того, чтобы получить значение конкретного элемента серии, нужно в квадратных скобках указать метку индекса этого элемента:"
   ]
  },
  {
   "cell_type": "code",
   "execution_count": 31,
   "id": "5bf119b9-0402-4b64-b3b2-4a995130e822",
   "metadata": {},
   "outputs": [
    {
     "name": "stdout",
     "output_type": "stream",
     "text": [
      "-15.2\n"
     ]
    }
   ],
   "source": [
    "print(srs_1[1])"
   ]
  },
  {
   "cell_type": "markdown",
   "id": "88d86c5b-6d38-4cb6-9957-e537d2d0ca62",
   "metadata": {},
   "source": [
    "Хоть индексы мы и не видем при выводе Series, но они есть. Индексация начинается с нуля."
   ]
  },
  {
   "cell_type": "markdown",
   "id": "61896904-1b84-474a-9228-2fbea5a565c5",
   "metadata": {},
   "source": [
    "Для получения значений нескольких элеменов, используются срезы:"
   ]
  },
  {
   "cell_type": "code",
   "execution_count": 32,
   "id": "5ac8711f-5cb1-45b9-8038-c769a6f0d7a9",
   "metadata": {},
   "outputs": [
    {
     "name": "stdout",
     "output_type": "stream",
     "text": [
      "shape: (3,)\n",
      "Series: 'a' [f64]\n",
      "[\n",
      "\t-15.2\n",
      "\t48.01\n",
      "\tnull\n",
      "]\n"
     ]
    }
   ],
   "source": [
    "print(srs_1[1:4])"
   ]
  },
  {
   "cell_type": "markdown",
   "id": "7b0bf208-f612-4841-81d4-49edea8ca171",
   "metadata": {},
   "source": [
    "### Изменение значения"
   ]
  },
  {
   "cell_type": "markdown",
   "id": "dcf82f4e-9aa9-4871-80d8-8a39a041f96a",
   "metadata": {},
   "source": [
    "Для изменения значений в объектах Series используется оператор присваивания `'='`."
   ]
  },
  {
   "cell_type": "code",
   "execution_count": 33,
   "id": "41ebfce9-594f-46d6-a841-f75ee4991a77",
   "metadata": {},
   "outputs": [
    {
     "name": "stdout",
     "output_type": "stream",
     "text": [
      "shape: (4,)\n",
      "Series: 'a' [f64]\n",
      "[\n",
      "\t37.0\n",
      "\t-15.2\n",
      "\t48.01\n",
      "\tnull\n",
      "]\n"
     ]
    }
   ],
   "source": [
    "print(srs_1)"
   ]
  },
  {
   "cell_type": "code",
   "execution_count": 34,
   "id": "8de6eb8b-2a78-4dfe-9c5d-e81e0583be53",
   "metadata": {},
   "outputs": [
    {
     "name": "stdout",
     "output_type": "stream",
     "text": [
      "shape: (4,)\n",
      "Series: 'a' [f64]\n",
      "[\n",
      "\t37.0\n",
      "\t55.0\n",
      "\t48.01\n",
      "\tnull\n",
      "]\n"
     ]
    }
   ],
   "source": [
    "srs_1[1] = 55\n",
    "print(srs_1)"
   ]
  },
  {
   "cell_type": "markdown",
   "id": "09f86ee2-e6d1-4b32-b90d-27084be825c4",
   "metadata": {},
   "source": [
    "### Добавление нового элемента в структуру Series"
   ]
  },
  {
   "cell_type": "markdown",
   "id": "d80f66c0-b1a6-4578-b20b-85d7da2d7781",
   "metadata": {},
   "source": [
    "Для добавления нового элемента в Series в библиотеке Polars можно использовать различные методы. Один из способов — это использование метода `append()`."
   ]
  },
  {
   "cell_type": "code",
   "execution_count": 35,
   "id": "57161a6a-2aae-45e9-a90c-cb9555635879",
   "metadata": {},
   "outputs": [
    {
     "name": "stdout",
     "output_type": "stream",
     "text": [
      "shape: (4,)\n",
      "Series: 'values' [i64]\n",
      "[\n",
      "\t1\n",
      "\t2\n",
      "\t3\n",
      "\t4\n",
      "]\n"
     ]
    }
   ],
   "source": [
    "# Создаем Series\n",
    "series = pl.Series(\"values\", [1, 2, 3])\n",
    "\n",
    "# Добавляем новый элемент в конец Series\n",
    "new_element = 4\n",
    "series = series.append(pl.Series(\"\", [new_element]))\n",
    "\n",
    "print(series)"
   ]
  },
  {
   "cell_type": "markdown",
   "id": "4ec63802-74c4-4d6d-abc9-3bee30228c96",
   "metadata": {},
   "source": [
    "Также можно использовать метод `extend()` для добавления нескольких элементов сразу.\n",
    "\n",
    "**Замечание**: метод `extend()` изменяет текущий объект серии. В него необходимо передавать серию."
   ]
  },
  {
   "cell_type": "code",
   "execution_count": 36,
   "id": "aa5fe4c8-52e2-44c9-b1af-fb7f60530a46",
   "metadata": {},
   "outputs": [
    {
     "name": "stdout",
     "output_type": "stream",
     "text": [
      "shape: (6,)\n",
      "Series: 'values' [i64]\n",
      "[\n",
      "\t1\n",
      "\t2\n",
      "\t3\n",
      "\t8\n",
      "\t9\n",
      "\t7\n",
      "]\n"
     ]
    }
   ],
   "source": [
    "# Создаем Series\n",
    "series = pl.Series(\"values\", [1, 2, 3])\n",
    "\n",
    "# Добавляем несколько новых элементов в конец Series\n",
    "new_elements = [8, 9, 7]\n",
    "series.extend(pl.Series(new_elements))\n",
    "\n",
    "print(series)"
   ]
  },
  {
   "cell_type": "markdown",
   "id": "9ddb6e78-3cb6-4e8c-871f-6233a3baf154",
   "metadata": {},
   "source": [
    "### Удаление элементов из структуры Series"
   ]
  },
  {
   "cell_type": "markdown",
   "id": "4a7027a2-17d4-4c9f-a398-db5d3b92b69d",
   "metadata": {},
   "source": [
    "В библиотеке *Polars* удаление элементов из серии можно осуществить несколькими способами в зависимости от того, какие именно данные необходимо удалить."
   ]
  },
  {
   "cell_type": "markdown",
   "id": "878ea021-e5bd-4195-861d-e90fef4bc43d",
   "metadata": {},
   "source": [
    "#### Удаление по индексу. Метод `slise()`"
   ]
  },
  {
   "cell_type": "markdown",
   "id": "fca861e6-9d24-4ec0-b46f-5123c18f7796",
   "metadata": {},
   "source": [
    "Методом`slise()` можно получить кусочек серии.\n",
    "\n",
    "`Series.slice(offset: int, length: int | None = None) → Series[source]`\n",
    "\n",
    "Имеет два параметра:\n",
    "- `offset`: начальный индекс (поддерживается отрицательная индексация);\n",
    "- `length`: длина среза. Если установлено значение `None`, будут выбраны все строки, начиная с выбранной.\n"
   ]
  },
  {
   "cell_type": "code",
   "execution_count": 37,
   "id": "1d354541-85ea-4979-8c56-b2f3bcb82f37",
   "metadata": {},
   "outputs": [
    {
     "name": "stdout",
     "output_type": "stream",
     "text": [
      "shape: (3,)\n",
      "Series: 'values' [str]\n",
      "[\n",
      "\t\"a\"\n",
      "\t\"c\"\n",
      "\t\"d\"\n",
      "]\n"
     ]
    }
   ],
   "source": [
    "# Создаем серию\n",
    "series = pl.Series(\"values\", [\"a\", \"b\", \"c\", \"d\"])\n",
    "\n",
    "# Исключаем второй элемент (\"b\"), используя slice\n",
    "result = series.slice(0, 1).append(series.slice(2, None))\n",
    "\n",
    "print(result)"
   ]
  },
  {
   "cell_type": "markdown",
   "id": "34a01de8-c3b6-4583-9605-858c41a6ddce",
   "metadata": {},
   "source": [
    "#### Удаление по условию, фильтрация. Метод `filter()`"
   ]
  },
  {
   "cell_type": "code",
   "execution_count": 38,
   "id": "a6863f7f-dead-48a3-ad5e-7d3e1d8d0480",
   "metadata": {},
   "outputs": [
    {
     "name": "stdout",
     "output_type": "stream",
     "text": [
      "shape: (2,)\n",
      "Series: 'values' [i64]\n",
      "[\n",
      "\t3\n",
      "\t4\n",
      "]\n"
     ]
    }
   ],
   "source": [
    "# Создаем серию\n",
    "series = pl.Series(\"values\", [1, 2, 3, 4])\n",
    "\n",
    "# Удаляем все элементы меньше 3\n",
    "result = series.filter(series >= 3)\n",
    "\n",
    "print(result)"
   ]
  },
  {
   "cell_type": "code",
   "execution_count": null,
   "id": "4c01f559-19c3-4f1d-bcf3-4962b5fe93d0",
   "metadata": {},
   "outputs": [],
   "source": []
  }
 ],
 "metadata": {
  "kernelspec": {
   "display_name": "Python 3 (ipykernel)",
   "language": "python",
   "name": "python3"
  },
  "language_info": {
   "codemirror_mode": {
    "name": "ipython",
    "version": 3
   },
   "file_extension": ".py",
   "mimetype": "text/x-python",
   "name": "python",
   "nbconvert_exporter": "python",
   "pygments_lexer": "ipython3",
   "version": "3.12.7"
  },
  "panel-cell-order": [
   "ee99df76-845e-43f6-b2b0-60657d7bbbdd",
   "6d745e6f-4308-4d1a-85a2-158a3154d59e",
   "c0749f66-3e21-4207-a48b-97d1e86be7b5",
   "0e5f9519-0596-4c49-af13-e103e4736898",
   "c0443619-3327-4e07-b1e9-ea53ea8e017e",
   "61884747-a2b3-4c83-9bad-1c4cefc46eda",
   "60fb2427-f67e-4c1f-a47a-898047367aca",
   "4eb68fac-8a63-42fb-a939-7fb63ed3e986",
   "95c557bf-ebc8-4cd4-910d-65e420832981",
   "b4438d35-2fe7-4582-9290-90e9ccdd9df2",
   "5f7573ae-f201-4681-b61b-cb6314837742",
   "17899e8b-3339-4fcb-8891-106096b8aa81",
   "c12a8fa1-5321-4bf6-8c33-9caa09e915e7",
   "7866140a-f4d7-4fec-8d13-a9dfb4a6a44f",
   "f67da67c-8fe9-4b9a-8055-b0038d19b18f",
   "bd679493-3f8c-4df4-9f1d-a28d6d192653",
   "690f7044-196e-4c90-89e8-a814376f53d2",
   "7c51c626-f60b-46e1-90cd-ce2b27bc6447",
   "abe9a7fb-0236-4245-80e5-56e5055d8e3f",
   "57c3aeaa-b792-47da-b074-ec98f6002f8d",
   "d2758aa4-1cbd-479d-9e32-8c947872156d",
   "0de5d3f3-0af8-44e2-baef-68ef330b48c1",
   "8a141d27-6fcd-4c3e-8454-9ef4c2316590",
   "ba66041f-d0ea-4bc5-b517-3fbe8dc1e219",
   "1bfb9b8c-51cf-4ae7-aa31-a549e1a44640",
   "2f3f9ba7-d63b-47b9-b649-85ef1d11b8ce",
   "eedc2c06-d858-4b70-a1ba-1f615c9d2523",
   "98b14c5c-50be-4aae-8fb2-7c199baa5bba",
   "e90b5176-dfea-4818-9543-fdcf995b63d6",
   "9a008a07-18c5-4a00-a8c7-278f17e95b4f",
   "e5c7959c-eca1-4cf8-8230-04294e68200d",
   "451bbb41-1668-47cd-b2c1-26fe52a54601",
   "eec536e9-e92c-4f05-8641-c65a591d7f02",
   "47b86865-a93b-43e1-84cd-c805bd5ccdc9",
   "715cba5d-1dfe-40d7-a577-8c6fa69b84ef",
   "2801a687-df56-4510-8cec-8c3c054ff483",
   "afa6b6ea-3ed8-41cb-869d-57e8fa3fcf98",
   "6631b32c-4e12-4ad0-8bda-1b7b7aa6982d",
   "bd6d48dd-1a4f-4d42-b7c7-46ad0aee5ec8",
   "c22043f9-c2d2-43c1-8e7f-8020eac92afb",
   "7fb30e46-42ea-4a4a-a4e5-a60b1c147cbc",
   "d0573324-6884-4034-88d5-45a47480ae21",
   "bf21906f-1f5d-44f7-96b9-8252e02398db",
   "59e096dd-a750-41c5-8ab8-5cc4db128fdf",
   "d07c61f8-045a-4330-95a9-b861cc4b687f",
   "82bdfc62-8e80-4eb7-9ad2-eef48e7cd980",
   "998fcefb-356c-4be3-a038-dbf374943f2f",
   "ea5c51fa-c2c9-4100-888e-8e30b4e80b2b",
   "ebf2aee2-6541-4840-955b-043395c840f7",
   "9ab47b12-1cb9-4d89-a47e-e9b7cc32cc1a",
   "5eb201d4-b983-4af9-aa3c-190627bb771d",
   "9fbb78d8-1e91-4aea-9f26-fc7683552d3a",
   "0123f947-8335-4da6-9b76-50e4633c2f7b",
   "0ee362a7-d3b2-49fb-beaf-affd80ef1292",
   "8103bbbf-503b-4ebb-a5a0-a16b3b87a4f7",
   "e367ca0d-4818-4ed4-b4a3-4bbbb9a2221a",
   "0b30efc5-f165-4033-8e0e-a6657b624579"
  ]
 },
 "nbformat": 4,
 "nbformat_minor": 5
}
