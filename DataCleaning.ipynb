{
 "cells": [
  {
   "cell_type": "markdown",
   "id": "9c2190b1-331b-4cc8-abf6-f2504f32ca19",
   "metadata": {},
   "source": [
    "# Очистка данных"
   ]
  },
  {
   "cell_type": "markdown",
   "id": "ce119259-40f1-4dd2-8671-8fc500b6f99f",
   "metadata": {},
   "source": [
    "Импорт библиотек"
   ]
  },
  {
   "cell_type": "code",
   "execution_count": 1,
   "id": "cecb12c8-b9d6-4e36-91b3-5cd5d7e16fd5",
   "metadata": {},
   "outputs": [],
   "source": [
    "import polars as pl"
   ]
  },
  {
   "cell_type": "markdown",
   "id": "5a8a1212-5c58-44ff-a641-dc61a69803cd",
   "metadata": {},
   "source": [
    "Загрузим датасет"
   ]
  },
  {
   "cell_type": "code",
   "execution_count": 2,
   "id": "945624db-22ab-4117-a4ae-076719fe7685",
   "metadata": {},
   "outputs": [],
   "source": [
    "url = \"https://raw.githubusercontent.com/m-ardat/Library_Polars/main/dataset/cars.csv\"\n",
    "df = pl.read_csv(source=url)"
   ]
  },
  {
   "cell_type": "code",
   "execution_count": 3,
   "id": "78d192b0-f291-49b9-a142-3940207a8a09",
   "metadata": {},
   "outputs": [
    {
     "data": {
      "text/html": [
       "<div><style>\n",
       ".dataframe > thead > tr,\n",
       ".dataframe > tbody > tr {\n",
       "  text-align: right;\n",
       "  white-space: pre-wrap;\n",
       "}\n",
       "</style>\n",
       "<small>shape: (4, 13)</small><table border=\"1\" class=\"dataframe\"><thead><tr><th>name</th><th>year</th><th>selling_price</th><th>km_driven</th><th>fuel</th><th>seller_type</th><th>transmission</th><th>owner</th><th>mileage</th><th>engine</th><th>max_power</th><th>torque</th><th>seats</th></tr><tr><td>str</td><td>i64</td><td>i64</td><td>i64</td><td>str</td><td>str</td><td>str</td><td>str</td><td>str</td><td>str</td><td>str</td><td>str</td><td>f64</td></tr></thead><tbody><tr><td>&quot;Maruti Swift Dzire VDI&quot;</td><td>2014</td><td>450000</td><td>145500</td><td>&quot;Diesel&quot;</td><td>&quot;Individual&quot;</td><td>&quot;Manual&quot;</td><td>&quot;First Owner&quot;</td><td>&quot;23.4 kmpl&quot;</td><td>&quot;1248 CC&quot;</td><td>&quot;74 bhp&quot;</td><td>&quot;190Nm@ 2000rpm&quot;</td><td>5.0</td></tr><tr><td>&quot;Skoda Rapid 1.5 TDI Ambition&quot;</td><td>2014</td><td>370000</td><td>120000</td><td>&quot;Diesel&quot;</td><td>&quot;Individual&quot;</td><td>&quot;Manual&quot;</td><td>&quot;Second Owner&quot;</td><td>&quot;21.14 kmpl&quot;</td><td>&quot;1498 CC&quot;</td><td>&quot;103.52 bhp&quot;</td><td>&quot;250Nm@ 1500-2500rpm&quot;</td><td>5.0</td></tr><tr><td>&quot;Hyundai i20 Sportz Diesel&quot;</td><td>2010</td><td>225000</td><td>127000</td><td>&quot;Diesel&quot;</td><td>&quot;Individual&quot;</td><td>&quot;Manual&quot;</td><td>&quot;First Owner&quot;</td><td>&quot;23.0 kmpl&quot;</td><td>&quot;1396 CC&quot;</td><td>&quot;90 bhp&quot;</td><td>&quot;22.4 kgm at 1750-2750rpm&quot;</td><td>5.0</td></tr><tr><td>&quot;Maruti Swift VXI BSIII&quot;</td><td>2007</td><td>130000</td><td>120000</td><td>&quot;Petrol&quot;</td><td>&quot;Individual&quot;</td><td>&quot;Manual&quot;</td><td>&quot;First Owner&quot;</td><td>&quot;16.1 kmpl&quot;</td><td>&quot;1298 CC&quot;</td><td>&quot;88.2 bhp&quot;</td><td>&quot;11.5@ 4,500(kgm@ rpm)&quot;</td><td>5.0</td></tr></tbody></table></div>"
      ],
      "text/plain": [
       "shape: (4, 13)\n",
       "┌──────────────┬──────┬──────────────┬───────────┬───┬─────────┬────────────┬──────────────┬───────┐\n",
       "│ name         ┆ year ┆ selling_pric ┆ km_driven ┆ … ┆ engine  ┆ max_power  ┆ torque       ┆ seats │\n",
       "│ ---          ┆ ---  ┆ e            ┆ ---       ┆   ┆ ---     ┆ ---        ┆ ---          ┆ ---   │\n",
       "│ str          ┆ i64  ┆ ---          ┆ i64       ┆   ┆ str     ┆ str        ┆ str          ┆ f64   │\n",
       "│              ┆      ┆ i64          ┆           ┆   ┆         ┆            ┆              ┆       │\n",
       "╞══════════════╪══════╪══════════════╪═══════════╪═══╪═════════╪════════════╪══════════════╪═══════╡\n",
       "│ Maruti Swift ┆ 2014 ┆ 450000       ┆ 145500    ┆ … ┆ 1248 CC ┆ 74 bhp     ┆ 190Nm@       ┆ 5.0   │\n",
       "│ Dzire VDI    ┆      ┆              ┆           ┆   ┆         ┆            ┆ 2000rpm      ┆       │\n",
       "│ Skoda Rapid  ┆ 2014 ┆ 370000       ┆ 120000    ┆ … ┆ 1498 CC ┆ 103.52 bhp ┆ 250Nm@       ┆ 5.0   │\n",
       "│ 1.5 TDI      ┆      ┆              ┆           ┆   ┆         ┆            ┆ 1500-2500rpm ┆       │\n",
       "│ Ambition     ┆      ┆              ┆           ┆   ┆         ┆            ┆              ┆       │\n",
       "│ Hyundai i20  ┆ 2010 ┆ 225000       ┆ 127000    ┆ … ┆ 1396 CC ┆ 90 bhp     ┆ 22.4 kgm at  ┆ 5.0   │\n",
       "│ Sportz       ┆      ┆              ┆           ┆   ┆         ┆            ┆ 1750-2750rpm ┆       │\n",
       "│ Diesel       ┆      ┆              ┆           ┆   ┆         ┆            ┆              ┆       │\n",
       "│ Maruti Swift ┆ 2007 ┆ 130000       ┆ 120000    ┆ … ┆ 1298 CC ┆ 88.2 bhp   ┆ 11.5@        ┆ 5.0   │\n",
       "│ VXI BSIII    ┆      ┆              ┆           ┆   ┆         ┆            ┆ 4,500(kgm@   ┆       │\n",
       "│              ┆      ┆              ┆           ┆   ┆         ┆            ┆ rpm)         ┆       │\n",
       "└──────────────┴──────┴──────────────┴───────────┴───┴─────────┴────────────┴──────────────┴───────┘"
      ]
     },
     "execution_count": 3,
     "metadata": {},
     "output_type": "execute_result"
    }
   ],
   "source": [
    "df.head(4)"
   ]
  },
  {
   "cell_type": "markdown",
   "id": "36038882-680a-4552-97bd-64f9ed896664",
   "metadata": {},
   "source": [
    "Данный датасет содержит информацию о поддержанных автомобилях на рынке Индии.\n",
    "В датасете представлены следующие данные:\n",
    "- name: модель автомобиля;\n",
    "- year: год выпуска с завода-изготовителя;\n",
    "- selling_price: цена продажи, числовая;\n",
    "- km_driven: пробег на продажу;\n",
    "- fuel: тип топлива;\n",
    "- seller_type: продавец;\n",
    "- transmission: тип трансмиссии (коробка передач);\n",
    "- owner: какой по счету владелец;\n",
    "- mileage: километраж (расход);\n",
    "- engine: рабочий объём двигателя;\n",
    "- max_power: пиковая мощность двигателя;\n",
    "- torque: крутящий момент;\n",
    "- seats: число мест."
   ]
  },
  {
   "cell_type": "markdown",
   "id": "9c198926-9776-4691-a05b-fa9e7d2a6cee",
   "metadata": {},
   "source": [
    "Воспользуемся методом `describe()`"
   ]
  },
  {
   "cell_type": "code",
   "execution_count": 4,
   "id": "425921ee-e2e0-47e1-93e8-3e73b4077324",
   "metadata": {},
   "outputs": [
    {
     "data": {
      "text/html": [
       "<div><style>\n",
       ".dataframe > thead > tr,\n",
       ".dataframe > tbody > tr {\n",
       "  text-align: right;\n",
       "  white-space: pre-wrap;\n",
       "}\n",
       "</style>\n",
       "<small>shape: (9, 14)</small><table border=\"1\" class=\"dataframe\"><thead><tr><th>statistic</th><th>name</th><th>year</th><th>selling_price</th><th>km_driven</th><th>fuel</th><th>seller_type</th><th>transmission</th><th>owner</th><th>mileage</th><th>engine</th><th>max_power</th><th>torque</th><th>seats</th></tr><tr><td>str</td><td>str</td><td>f64</td><td>f64</td><td>f64</td><td>str</td><td>str</td><td>str</td><td>str</td><td>str</td><td>str</td><td>str</td><td>str</td><td>f64</td></tr></thead><tbody><tr><td>&quot;count&quot;</td><td>&quot;6999&quot;</td><td>6999.0</td><td>6999.0</td><td>6999.0</td><td>&quot;6999&quot;</td><td>&quot;6999&quot;</td><td>&quot;6999&quot;</td><td>&quot;6999&quot;</td><td>&quot;6797&quot;</td><td>&quot;6797&quot;</td><td>&quot;6803&quot;</td><td>&quot;6796&quot;</td><td>6797.0</td></tr><tr><td>&quot;null_count&quot;</td><td>&quot;0&quot;</td><td>0.0</td><td>0.0</td><td>0.0</td><td>&quot;0&quot;</td><td>&quot;0&quot;</td><td>&quot;0&quot;</td><td>&quot;0&quot;</td><td>&quot;202&quot;</td><td>&quot;202&quot;</td><td>&quot;196&quot;</td><td>&quot;203&quot;</td><td>202.0</td></tr><tr><td>&quot;mean&quot;</td><td>null</td><td>2013.818403</td><td>639515.197171</td><td>69584.615517</td><td>null</td><td>null</td><td>null</td><td>null</td><td>null</td><td>null</td><td>null</td><td>null</td><td>5.419008</td></tr><tr><td>&quot;std&quot;</td><td>null</td><td>4.053095</td><td>808941.911915</td><td>57724.001817</td><td>null</td><td>null</td><td>null</td><td>null</td><td>null</td><td>null</td><td>null</td><td>null</td><td>0.965767</td></tr><tr><td>&quot;min&quot;</td><td>&quot;Ambassador CLASSIC 1500 DSL AC&quot;</td><td>1983.0</td><td>29999.0</td><td>1.0</td><td>&quot;CNG&quot;</td><td>&quot;Dealer&quot;</td><td>&quot;Automatic&quot;</td><td>&quot;First Owner&quot;</td><td>&quot;0.0 kmpl&quot;</td><td>&quot;1047 CC&quot;</td><td>&quot; bhp&quot;</td><td>&quot;10.2@ 2,600(kgm@ rpm)&quot;</td><td>2.0</td></tr><tr><td>&quot;25%&quot;</td><td>null</td><td>2011.0</td><td>254999.0</td><td>35000.0</td><td>null</td><td>null</td><td>null</td><td>null</td><td>null</td><td>null</td><td>null</td><td>null</td><td>5.0</td></tr><tr><td>&quot;50%&quot;</td><td>null</td><td>2015.0</td><td>450000.0</td><td>60000.0</td><td>null</td><td>null</td><td>null</td><td>null</td><td>null</td><td>null</td><td>null</td><td>null</td><td>5.0</td></tr><tr><td>&quot;75%&quot;</td><td>null</td><td>2017.0</td><td>675000.0</td><td>97000.0</td><td>null</td><td>null</td><td>null</td><td>null</td><td>null</td><td>null</td><td>null</td><td>null</td><td>5.0</td></tr><tr><td>&quot;max&quot;</td><td>&quot;Volvo XC90 T8 Excellence BSIV&quot;</td><td>2020.0</td><td>1e7</td><td>2.360457e6</td><td>&quot;Petrol&quot;</td><td>&quot;Trustmark Dealer&quot;</td><td>&quot;Manual&quot;</td><td>&quot;Third Owner&quot;</td><td>&quot;9.5 kmpl&quot;</td><td>&quot;999 CC&quot;</td><td>&quot;99.6 bhp&quot;</td><td>&quot;99Nm@ 4500rpm&quot;</td><td>14.0</td></tr></tbody></table></div>"
      ],
      "text/plain": [
       "shape: (9, 14)\n",
       "┌────────────┬────────────┬───────────┬───────────┬───┬─────────┬───────────┬───────────┬──────────┐\n",
       "│ statistic  ┆ name       ┆ year      ┆ selling_p ┆ … ┆ engine  ┆ max_power ┆ torque    ┆ seats    │\n",
       "│ ---        ┆ ---        ┆ ---       ┆ rice      ┆   ┆ ---     ┆ ---       ┆ ---       ┆ ---      │\n",
       "│ str        ┆ str        ┆ f64       ┆ ---       ┆   ┆ str     ┆ str       ┆ str       ┆ f64      │\n",
       "│            ┆            ┆           ┆ f64       ┆   ┆         ┆           ┆           ┆          │\n",
       "╞════════════╪════════════╪═══════════╪═══════════╪═══╪═════════╪═══════════╪═══════════╪══════════╡\n",
       "│ count      ┆ 6999       ┆ 6999.0    ┆ 6999.0    ┆ … ┆ 6797    ┆ 6803      ┆ 6796      ┆ 6797.0   │\n",
       "│ null_count ┆ 0          ┆ 0.0       ┆ 0.0       ┆ … ┆ 202     ┆ 196       ┆ 203       ┆ 202.0    │\n",
       "│ mean       ┆ null       ┆ 2013.8184 ┆ 639515.19 ┆ … ┆ null    ┆ null      ┆ null      ┆ 5.419008 │\n",
       "│            ┆            ┆ 03        ┆ 7171      ┆   ┆         ┆           ┆           ┆          │\n",
       "│ std        ┆ null       ┆ 4.053095  ┆ 808941.91 ┆ … ┆ null    ┆ null      ┆ null      ┆ 0.965767 │\n",
       "│            ┆            ┆           ┆ 1915      ┆   ┆         ┆           ┆           ┆          │\n",
       "│ min        ┆ Ambassador ┆ 1983.0    ┆ 29999.0   ┆ … ┆ 1047 CC ┆  bhp      ┆ 10.2@ 2,6 ┆ 2.0      │\n",
       "│            ┆ CLASSIC    ┆           ┆           ┆   ┆         ┆           ┆ 00(kgm@   ┆          │\n",
       "│            ┆ 1500 DSL   ┆           ┆           ┆   ┆         ┆           ┆ rpm)      ┆          │\n",
       "│            ┆ AC         ┆           ┆           ┆   ┆         ┆           ┆           ┆          │\n",
       "│ 25%        ┆ null       ┆ 2011.0    ┆ 254999.0  ┆ … ┆ null    ┆ null      ┆ null      ┆ 5.0      │\n",
       "│ 50%        ┆ null       ┆ 2015.0    ┆ 450000.0  ┆ … ┆ null    ┆ null      ┆ null      ┆ 5.0      │\n",
       "│ 75%        ┆ null       ┆ 2017.0    ┆ 675000.0  ┆ … ┆ null    ┆ null      ┆ null      ┆ 5.0      │\n",
       "│ max        ┆ Volvo XC90 ┆ 2020.0    ┆ 1e7       ┆ … ┆ 999 CC  ┆ 99.6 bhp  ┆ 99Nm@     ┆ 14.0     │\n",
       "│            ┆ T8         ┆           ┆           ┆   ┆         ┆           ┆ 4500rpm   ┆          │\n",
       "│            ┆ Excellence ┆           ┆           ┆   ┆         ┆           ┆           ┆          │\n",
       "│            ┆ BSIV       ┆           ┆           ┆   ┆         ┆           ┆           ┆          │\n",
       "└────────────┴────────────┴───────────┴───────────┴───┴─────────┴───────────┴───────────┴──────────┘"
      ]
     },
     "execution_count": 4,
     "metadata": {},
     "output_type": "execute_result"
    }
   ],
   "source": [
    "df.describe()"
   ]
  },
  {
   "cell_type": "markdown",
   "id": "52cb57c3-53a4-4183-a7b2-6475b6726c80",
   "metadata": {},
   "source": [
    "На основе представленных статистических данных можно сказать следующее:\n",
    "1. В наборе данных содержится 6 999 автомобилей.\n",
    "2. Для большинства столбцов нет пропущенных значений, за исключением некоторых (seats, mileage, engine, max_power).\n",
    "3. Средняя цена автомобиля составляет ~ 639 515 у.ед., при этом стандартное отклонение высокое (std = 808941.91). Это указывает на значительное разнообразие в ценах, что может быть связано с различиями в марках, моделях и состояниях автомобилей.\n",
    "4. Есть машины как старые (от 1983 года выпуска), так и новые (условно новые, 2020 был 5 лет назад).\n",
    "5. Что бросилось в глаза: у нас есть расход с \"0.0 kmpl\", что странно."
   ]
  },
  {
   "cell_type": "markdown",
   "id": "bd174cdf-f794-437a-91c6-58ac3151ff69",
   "metadata": {},
   "source": [
    "## Удаление данных"
   ]
  },
  {
   "cell_type": "markdown",
   "id": "ba7734d5-8d53-4725-bb7b-53aec23ee7d6",
   "metadata": {},
   "source": [
    "В *polars* для удаления данных есть следующие методы:\n",
    "1. Метод `drop()` - удаление столбца/столбцов из *Dataframe*\n",
    "2. Методы `remove()` и `filter()` - удаление по условию\n",
    "3. Метод `clear()` - очистить *Dataframe*, но сохранить его структуру"
   ]
  },
  {
   "cell_type": "markdown",
   "id": "f69a3c0b-08ba-44b1-911f-bdbf079c15ff",
   "metadata": {},
   "source": [
    "**Метод `drop()`**"
   ]
  },
  {
   "cell_type": "markdown",
   "id": "1db132c4-28fd-4910-8624-80a6d5345577",
   "metadata": {},
   "source": [
    "Метод `drop()` помогает удалить столбец/столбцы из *DataFrame* полностью. Удалим из нашего *DataFrame* признак torque"
   ]
  },
  {
   "cell_type": "code",
   "execution_count": 5,
   "id": "d4007621-7e4b-4c89-b57a-eed0624a79b7",
   "metadata": {},
   "outputs": [
    {
     "data": {
      "text/html": [
       "<div><style>\n",
       ".dataframe > thead > tr,\n",
       ".dataframe > tbody > tr {\n",
       "  text-align: right;\n",
       "  white-space: pre-wrap;\n",
       "}\n",
       "</style>\n",
       "<small>shape: (6_999, 12)</small><table border=\"1\" class=\"dataframe\"><thead><tr><th>name</th><th>year</th><th>selling_price</th><th>km_driven</th><th>fuel</th><th>seller_type</th><th>transmission</th><th>owner</th><th>mileage</th><th>engine</th><th>max_power</th><th>seats</th></tr><tr><td>str</td><td>i64</td><td>i64</td><td>i64</td><td>str</td><td>str</td><td>str</td><td>str</td><td>str</td><td>str</td><td>str</td><td>f64</td></tr></thead><tbody><tr><td>&quot;Maruti Swift Dzire VDI&quot;</td><td>2014</td><td>450000</td><td>145500</td><td>&quot;Diesel&quot;</td><td>&quot;Individual&quot;</td><td>&quot;Manual&quot;</td><td>&quot;First Owner&quot;</td><td>&quot;23.4 kmpl&quot;</td><td>&quot;1248 CC&quot;</td><td>&quot;74 bhp&quot;</td><td>5.0</td></tr><tr><td>&quot;Skoda Rapid 1.5 TDI Ambition&quot;</td><td>2014</td><td>370000</td><td>120000</td><td>&quot;Diesel&quot;</td><td>&quot;Individual&quot;</td><td>&quot;Manual&quot;</td><td>&quot;Second Owner&quot;</td><td>&quot;21.14 kmpl&quot;</td><td>&quot;1498 CC&quot;</td><td>&quot;103.52 bhp&quot;</td><td>5.0</td></tr><tr><td>&quot;Hyundai i20 Sportz Diesel&quot;</td><td>2010</td><td>225000</td><td>127000</td><td>&quot;Diesel&quot;</td><td>&quot;Individual&quot;</td><td>&quot;Manual&quot;</td><td>&quot;First Owner&quot;</td><td>&quot;23.0 kmpl&quot;</td><td>&quot;1396 CC&quot;</td><td>&quot;90 bhp&quot;</td><td>5.0</td></tr><tr><td>&quot;Maruti Swift VXI BSIII&quot;</td><td>2007</td><td>130000</td><td>120000</td><td>&quot;Petrol&quot;</td><td>&quot;Individual&quot;</td><td>&quot;Manual&quot;</td><td>&quot;First Owner&quot;</td><td>&quot;16.1 kmpl&quot;</td><td>&quot;1298 CC&quot;</td><td>&quot;88.2 bhp&quot;</td><td>5.0</td></tr><tr><td>&quot;Hyundai Xcent 1.2 VTVT E Plus&quot;</td><td>2017</td><td>440000</td><td>45000</td><td>&quot;Petrol&quot;</td><td>&quot;Individual&quot;</td><td>&quot;Manual&quot;</td><td>&quot;First Owner&quot;</td><td>&quot;20.14 kmpl&quot;</td><td>&quot;1197 CC&quot;</td><td>&quot;81.86 bhp&quot;</td><td>5.0</td></tr><tr><td>&hellip;</td><td>&hellip;</td><td>&hellip;</td><td>&hellip;</td><td>&hellip;</td><td>&hellip;</td><td>&hellip;</td><td>&hellip;</td><td>&hellip;</td><td>&hellip;</td><td>&hellip;</td><td>&hellip;</td></tr><tr><td>&quot;Hyundai i20 Magna&quot;</td><td>2013</td><td>320000</td><td>110000</td><td>&quot;Petrol&quot;</td><td>&quot;Individual&quot;</td><td>&quot;Manual&quot;</td><td>&quot;First Owner&quot;</td><td>&quot;18.5 kmpl&quot;</td><td>&quot;1197 CC&quot;</td><td>&quot;82.85 bhp&quot;</td><td>5.0</td></tr><tr><td>&quot;Hyundai Verna CRDi SX&quot;</td><td>2007</td><td>135000</td><td>119000</td><td>&quot;Diesel&quot;</td><td>&quot;Individual&quot;</td><td>&quot;Manual&quot;</td><td>&quot;Fourth &amp; Above Owner&quot;</td><td>&quot;16.8 kmpl&quot;</td><td>&quot;1493 CC&quot;</td><td>&quot;110 bhp&quot;</td><td>5.0</td></tr><tr><td>&quot;Maruti Swift Dzire ZDi&quot;</td><td>2009</td><td>382000</td><td>120000</td><td>&quot;Diesel&quot;</td><td>&quot;Individual&quot;</td><td>&quot;Manual&quot;</td><td>&quot;First Owner&quot;</td><td>&quot;19.3 kmpl&quot;</td><td>&quot;1248 CC&quot;</td><td>&quot;73.9 bhp&quot;</td><td>5.0</td></tr><tr><td>&quot;Tata Indigo CR4&quot;</td><td>2013</td><td>290000</td><td>25000</td><td>&quot;Diesel&quot;</td><td>&quot;Individual&quot;</td><td>&quot;Manual&quot;</td><td>&quot;First Owner&quot;</td><td>&quot;23.57 kmpl&quot;</td><td>&quot;1396 CC&quot;</td><td>&quot;70 bhp&quot;</td><td>5.0</td></tr><tr><td>&quot;Tata Indigo CR4&quot;</td><td>2013</td><td>290000</td><td>25000</td><td>&quot;Diesel&quot;</td><td>&quot;Individual&quot;</td><td>&quot;Manual&quot;</td><td>&quot;First Owner&quot;</td><td>&quot;23.57 kmpl&quot;</td><td>&quot;1396 CC&quot;</td><td>&quot;70 bhp&quot;</td><td>5.0</td></tr></tbody></table></div>"
      ],
      "text/plain": [
       "shape: (6_999, 12)\n",
       "┌───────────────┬──────┬───────────────┬───────────┬───┬────────────┬─────────┬────────────┬───────┐\n",
       "│ name          ┆ year ┆ selling_price ┆ km_driven ┆ … ┆ mileage    ┆ engine  ┆ max_power  ┆ seats │\n",
       "│ ---           ┆ ---  ┆ ---           ┆ ---       ┆   ┆ ---        ┆ ---     ┆ ---        ┆ ---   │\n",
       "│ str           ┆ i64  ┆ i64           ┆ i64       ┆   ┆ str        ┆ str     ┆ str        ┆ f64   │\n",
       "╞═══════════════╪══════╪═══════════════╪═══════════╪═══╪════════════╪═════════╪════════════╪═══════╡\n",
       "│ Maruti Swift  ┆ 2014 ┆ 450000        ┆ 145500    ┆ … ┆ 23.4 kmpl  ┆ 1248 CC ┆ 74 bhp     ┆ 5.0   │\n",
       "│ Dzire VDI     ┆      ┆               ┆           ┆   ┆            ┆         ┆            ┆       │\n",
       "│ Skoda Rapid   ┆ 2014 ┆ 370000        ┆ 120000    ┆ … ┆ 21.14 kmpl ┆ 1498 CC ┆ 103.52 bhp ┆ 5.0   │\n",
       "│ 1.5 TDI       ┆      ┆               ┆           ┆   ┆            ┆         ┆            ┆       │\n",
       "│ Ambition      ┆      ┆               ┆           ┆   ┆            ┆         ┆            ┆       │\n",
       "│ Hyundai i20   ┆ 2010 ┆ 225000        ┆ 127000    ┆ … ┆ 23.0 kmpl  ┆ 1396 CC ┆ 90 bhp     ┆ 5.0   │\n",
       "│ Sportz Diesel ┆      ┆               ┆           ┆   ┆            ┆         ┆            ┆       │\n",
       "│ Maruti Swift  ┆ 2007 ┆ 130000        ┆ 120000    ┆ … ┆ 16.1 kmpl  ┆ 1298 CC ┆ 88.2 bhp   ┆ 5.0   │\n",
       "│ VXI BSIII     ┆      ┆               ┆           ┆   ┆            ┆         ┆            ┆       │\n",
       "│ Hyundai Xcent ┆ 2017 ┆ 440000        ┆ 45000     ┆ … ┆ 20.14 kmpl ┆ 1197 CC ┆ 81.86 bhp  ┆ 5.0   │\n",
       "│ 1.2 VTVT E    ┆      ┆               ┆           ┆   ┆            ┆         ┆            ┆       │\n",
       "│ Plus          ┆      ┆               ┆           ┆   ┆            ┆         ┆            ┆       │\n",
       "│ …             ┆ …    ┆ …             ┆ …         ┆ … ┆ …          ┆ …       ┆ …          ┆ …     │\n",
       "│ Hyundai i20   ┆ 2013 ┆ 320000        ┆ 110000    ┆ … ┆ 18.5 kmpl  ┆ 1197 CC ┆ 82.85 bhp  ┆ 5.0   │\n",
       "│ Magna         ┆      ┆               ┆           ┆   ┆            ┆         ┆            ┆       │\n",
       "│ Hyundai Verna ┆ 2007 ┆ 135000        ┆ 119000    ┆ … ┆ 16.8 kmpl  ┆ 1493 CC ┆ 110 bhp    ┆ 5.0   │\n",
       "│ CRDi SX       ┆      ┆               ┆           ┆   ┆            ┆         ┆            ┆       │\n",
       "│ Maruti Swift  ┆ 2009 ┆ 382000        ┆ 120000    ┆ … ┆ 19.3 kmpl  ┆ 1248 CC ┆ 73.9 bhp   ┆ 5.0   │\n",
       "│ Dzire ZDi     ┆      ┆               ┆           ┆   ┆            ┆         ┆            ┆       │\n",
       "│ Tata Indigo   ┆ 2013 ┆ 290000        ┆ 25000     ┆ … ┆ 23.57 kmpl ┆ 1396 CC ┆ 70 bhp     ┆ 5.0   │\n",
       "│ CR4           ┆      ┆               ┆           ┆   ┆            ┆         ┆            ┆       │\n",
       "│ Tata Indigo   ┆ 2013 ┆ 290000        ┆ 25000     ┆ … ┆ 23.57 kmpl ┆ 1396 CC ┆ 70 bhp     ┆ 5.0   │\n",
       "│ CR4           ┆      ┆               ┆           ┆   ┆            ┆         ┆            ┆       │\n",
       "└───────────────┴──────┴───────────────┴───────────┴───┴────────────┴─────────┴────────────┴───────┘"
      ]
     },
     "execution_count": 5,
     "metadata": {},
     "output_type": "execute_result"
    }
   ],
   "source": [
    "df = df.drop(\"torque\")\n",
    "\n",
    "df"
   ]
  },
  {
   "cell_type": "markdown",
   "id": "ec1b2125-def9-4bfb-84f0-1c1cebed24e6",
   "metadata": {},
   "source": [
    "**Методы `remove()` и `filter()` - удаление по условию**"
   ]
  },
  {
   "cell_type": "markdown",
   "id": "c777b547-14bc-4e73-970d-ad75fa3f81aa",
   "metadata": {},
   "source": [
    "Метод `remove()` помогает удалить только конкретные строки в *DataFrame*. Удалим строки, где расход (mileage) был \"0.0 kmpl\", т.к. это, скорее всего, ошибка в данных. Но прежде при помощи метода `filter()`, посмотрим сколько таких значений."
   ]
  },
  {
   "cell_type": "code",
   "execution_count": 6,
   "id": "23904652-0b46-4338-93bf-3312f37bdb9f",
   "metadata": {},
   "outputs": [
    {
     "data": {
      "text/plain": [
       "16"
      ]
     },
     "execution_count": 6,
     "metadata": {},
     "output_type": "execute_result"
    }
   ],
   "source": [
    "df.filter(pl.col(\"mileage\") == \"0.0 kmpl\").shape[0]"
   ]
  },
  {
   "cell_type": "markdown",
   "id": "19c5d4d2-df41-486c-8800-44c7262d8edb",
   "metadata": {},
   "source": [
    "Всего 16 записей, удаляем."
   ]
  },
  {
   "cell_type": "code",
   "execution_count": 7,
   "id": "9de48429-4c0f-418d-9ef9-49d2527d4c54",
   "metadata": {},
   "outputs": [
    {
     "data": {
      "text/html": [
       "<div><style>\n",
       ".dataframe > thead > tr,\n",
       ".dataframe > tbody > tr {\n",
       "  text-align: right;\n",
       "  white-space: pre-wrap;\n",
       "}\n",
       "</style>\n",
       "<small>shape: (6_983, 12)</small><table border=\"1\" class=\"dataframe\"><thead><tr><th>name</th><th>year</th><th>selling_price</th><th>km_driven</th><th>fuel</th><th>seller_type</th><th>transmission</th><th>owner</th><th>mileage</th><th>engine</th><th>max_power</th><th>seats</th></tr><tr><td>str</td><td>i64</td><td>i64</td><td>i64</td><td>str</td><td>str</td><td>str</td><td>str</td><td>str</td><td>str</td><td>str</td><td>f64</td></tr></thead><tbody><tr><td>&quot;Maruti Swift Dzire VDI&quot;</td><td>2014</td><td>450000</td><td>145500</td><td>&quot;Diesel&quot;</td><td>&quot;Individual&quot;</td><td>&quot;Manual&quot;</td><td>&quot;First Owner&quot;</td><td>&quot;23.4 kmpl&quot;</td><td>&quot;1248 CC&quot;</td><td>&quot;74 bhp&quot;</td><td>5.0</td></tr><tr><td>&quot;Skoda Rapid 1.5 TDI Ambition&quot;</td><td>2014</td><td>370000</td><td>120000</td><td>&quot;Diesel&quot;</td><td>&quot;Individual&quot;</td><td>&quot;Manual&quot;</td><td>&quot;Second Owner&quot;</td><td>&quot;21.14 kmpl&quot;</td><td>&quot;1498 CC&quot;</td><td>&quot;103.52 bhp&quot;</td><td>5.0</td></tr><tr><td>&quot;Hyundai i20 Sportz Diesel&quot;</td><td>2010</td><td>225000</td><td>127000</td><td>&quot;Diesel&quot;</td><td>&quot;Individual&quot;</td><td>&quot;Manual&quot;</td><td>&quot;First Owner&quot;</td><td>&quot;23.0 kmpl&quot;</td><td>&quot;1396 CC&quot;</td><td>&quot;90 bhp&quot;</td><td>5.0</td></tr><tr><td>&quot;Maruti Swift VXI BSIII&quot;</td><td>2007</td><td>130000</td><td>120000</td><td>&quot;Petrol&quot;</td><td>&quot;Individual&quot;</td><td>&quot;Manual&quot;</td><td>&quot;First Owner&quot;</td><td>&quot;16.1 kmpl&quot;</td><td>&quot;1298 CC&quot;</td><td>&quot;88.2 bhp&quot;</td><td>5.0</td></tr><tr><td>&quot;Hyundai Xcent 1.2 VTVT E Plus&quot;</td><td>2017</td><td>440000</td><td>45000</td><td>&quot;Petrol&quot;</td><td>&quot;Individual&quot;</td><td>&quot;Manual&quot;</td><td>&quot;First Owner&quot;</td><td>&quot;20.14 kmpl&quot;</td><td>&quot;1197 CC&quot;</td><td>&quot;81.86 bhp&quot;</td><td>5.0</td></tr><tr><td>&hellip;</td><td>&hellip;</td><td>&hellip;</td><td>&hellip;</td><td>&hellip;</td><td>&hellip;</td><td>&hellip;</td><td>&hellip;</td><td>&hellip;</td><td>&hellip;</td><td>&hellip;</td><td>&hellip;</td></tr><tr><td>&quot;Hyundai i20 Magna&quot;</td><td>2013</td><td>320000</td><td>110000</td><td>&quot;Petrol&quot;</td><td>&quot;Individual&quot;</td><td>&quot;Manual&quot;</td><td>&quot;First Owner&quot;</td><td>&quot;18.5 kmpl&quot;</td><td>&quot;1197 CC&quot;</td><td>&quot;82.85 bhp&quot;</td><td>5.0</td></tr><tr><td>&quot;Hyundai Verna CRDi SX&quot;</td><td>2007</td><td>135000</td><td>119000</td><td>&quot;Diesel&quot;</td><td>&quot;Individual&quot;</td><td>&quot;Manual&quot;</td><td>&quot;Fourth &amp; Above Owner&quot;</td><td>&quot;16.8 kmpl&quot;</td><td>&quot;1493 CC&quot;</td><td>&quot;110 bhp&quot;</td><td>5.0</td></tr><tr><td>&quot;Maruti Swift Dzire ZDi&quot;</td><td>2009</td><td>382000</td><td>120000</td><td>&quot;Diesel&quot;</td><td>&quot;Individual&quot;</td><td>&quot;Manual&quot;</td><td>&quot;First Owner&quot;</td><td>&quot;19.3 kmpl&quot;</td><td>&quot;1248 CC&quot;</td><td>&quot;73.9 bhp&quot;</td><td>5.0</td></tr><tr><td>&quot;Tata Indigo CR4&quot;</td><td>2013</td><td>290000</td><td>25000</td><td>&quot;Diesel&quot;</td><td>&quot;Individual&quot;</td><td>&quot;Manual&quot;</td><td>&quot;First Owner&quot;</td><td>&quot;23.57 kmpl&quot;</td><td>&quot;1396 CC&quot;</td><td>&quot;70 bhp&quot;</td><td>5.0</td></tr><tr><td>&quot;Tata Indigo CR4&quot;</td><td>2013</td><td>290000</td><td>25000</td><td>&quot;Diesel&quot;</td><td>&quot;Individual&quot;</td><td>&quot;Manual&quot;</td><td>&quot;First Owner&quot;</td><td>&quot;23.57 kmpl&quot;</td><td>&quot;1396 CC&quot;</td><td>&quot;70 bhp&quot;</td><td>5.0</td></tr></tbody></table></div>"
      ],
      "text/plain": [
       "shape: (6_983, 12)\n",
       "┌───────────────┬──────┬───────────────┬───────────┬───┬────────────┬─────────┬────────────┬───────┐\n",
       "│ name          ┆ year ┆ selling_price ┆ km_driven ┆ … ┆ mileage    ┆ engine  ┆ max_power  ┆ seats │\n",
       "│ ---           ┆ ---  ┆ ---           ┆ ---       ┆   ┆ ---        ┆ ---     ┆ ---        ┆ ---   │\n",
       "│ str           ┆ i64  ┆ i64           ┆ i64       ┆   ┆ str        ┆ str     ┆ str        ┆ f64   │\n",
       "╞═══════════════╪══════╪═══════════════╪═══════════╪═══╪════════════╪═════════╪════════════╪═══════╡\n",
       "│ Maruti Swift  ┆ 2014 ┆ 450000        ┆ 145500    ┆ … ┆ 23.4 kmpl  ┆ 1248 CC ┆ 74 bhp     ┆ 5.0   │\n",
       "│ Dzire VDI     ┆      ┆               ┆           ┆   ┆            ┆         ┆            ┆       │\n",
       "│ Skoda Rapid   ┆ 2014 ┆ 370000        ┆ 120000    ┆ … ┆ 21.14 kmpl ┆ 1498 CC ┆ 103.52 bhp ┆ 5.0   │\n",
       "│ 1.5 TDI       ┆      ┆               ┆           ┆   ┆            ┆         ┆            ┆       │\n",
       "│ Ambition      ┆      ┆               ┆           ┆   ┆            ┆         ┆            ┆       │\n",
       "│ Hyundai i20   ┆ 2010 ┆ 225000        ┆ 127000    ┆ … ┆ 23.0 kmpl  ┆ 1396 CC ┆ 90 bhp     ┆ 5.0   │\n",
       "│ Sportz Diesel ┆      ┆               ┆           ┆   ┆            ┆         ┆            ┆       │\n",
       "│ Maruti Swift  ┆ 2007 ┆ 130000        ┆ 120000    ┆ … ┆ 16.1 kmpl  ┆ 1298 CC ┆ 88.2 bhp   ┆ 5.0   │\n",
       "│ VXI BSIII     ┆      ┆               ┆           ┆   ┆            ┆         ┆            ┆       │\n",
       "│ Hyundai Xcent ┆ 2017 ┆ 440000        ┆ 45000     ┆ … ┆ 20.14 kmpl ┆ 1197 CC ┆ 81.86 bhp  ┆ 5.0   │\n",
       "│ 1.2 VTVT E    ┆      ┆               ┆           ┆   ┆            ┆         ┆            ┆       │\n",
       "│ Plus          ┆      ┆               ┆           ┆   ┆            ┆         ┆            ┆       │\n",
       "│ …             ┆ …    ┆ …             ┆ …         ┆ … ┆ …          ┆ …       ┆ …          ┆ …     │\n",
       "│ Hyundai i20   ┆ 2013 ┆ 320000        ┆ 110000    ┆ … ┆ 18.5 kmpl  ┆ 1197 CC ┆ 82.85 bhp  ┆ 5.0   │\n",
       "│ Magna         ┆      ┆               ┆           ┆   ┆            ┆         ┆            ┆       │\n",
       "│ Hyundai Verna ┆ 2007 ┆ 135000        ┆ 119000    ┆ … ┆ 16.8 kmpl  ┆ 1493 CC ┆ 110 bhp    ┆ 5.0   │\n",
       "│ CRDi SX       ┆      ┆               ┆           ┆   ┆            ┆         ┆            ┆       │\n",
       "│ Maruti Swift  ┆ 2009 ┆ 382000        ┆ 120000    ┆ … ┆ 19.3 kmpl  ┆ 1248 CC ┆ 73.9 bhp   ┆ 5.0   │\n",
       "│ Dzire ZDi     ┆      ┆               ┆           ┆   ┆            ┆         ┆            ┆       │\n",
       "│ Tata Indigo   ┆ 2013 ┆ 290000        ┆ 25000     ┆ … ┆ 23.57 kmpl ┆ 1396 CC ┆ 70 bhp     ┆ 5.0   │\n",
       "│ CR4           ┆      ┆               ┆           ┆   ┆            ┆         ┆            ┆       │\n",
       "│ Tata Indigo   ┆ 2013 ┆ 290000        ┆ 25000     ┆ … ┆ 23.57 kmpl ┆ 1396 CC ┆ 70 bhp     ┆ 5.0   │\n",
       "│ CR4           ┆      ┆               ┆           ┆   ┆            ┆         ┆            ┆       │\n",
       "└───────────────┴──────┴───────────────┴───────────┴───┴────────────┴─────────┴────────────┴───────┘"
      ]
     },
     "execution_count": 7,
     "metadata": {},
     "output_type": "execute_result"
    }
   ],
   "source": [
    "df = df.remove(pl.col(\"mileage\") == \"0.0 kmpl\")\n",
    "\n",
    "df"
   ]
  },
  {
   "cell_type": "markdown",
   "id": "49c8e176-5c3e-40b9-85df-36ae4996a780",
   "metadata": {},
   "source": [
    "Видим, что количество машин сократилось - удалили 16 строк"
   ]
  },
  {
   "cell_type": "markdown",
   "id": "939daa2e-4686-43ca-a42b-0dc058fa3500",
   "metadata": {},
   "source": [
    "В данные методы необходимы  передавать наименование колонки/колонок с условием. Метод `remove()` напрямую удаляет строки, которые отвечает заданному условию (True), но можно удалять и при помощи `filter()`, если задать условие противоположное условию из `remove()`."
   ]
  },
  {
   "cell_type": "markdown",
   "id": "3721d1f2-1eaa-4bc5-9a61-085764d15650",
   "metadata": {},
   "source": [
    "**Метод `clear()`**"
   ]
  },
  {
   "cell_type": "markdown",
   "id": "ec145d10-2d80-415c-8bd6-b9e0b4e2ca84",
   "metadata": {},
   "source": [
    "По сути данный метод удаляет все строки из *DataFrame*, но оставляет структуру: у нас есть стаблица, где у каждого столбца установлен свой тип данных."
   ]
  },
  {
   "cell_type": "code",
   "execution_count": 8,
   "id": "f1f067fd-2f29-408e-90db-cac4227fd6f4",
   "metadata": {},
   "outputs": [
    {
     "data": {
      "text/html": [
       "<div><style>\n",
       ".dataframe > thead > tr,\n",
       ".dataframe > tbody > tr {\n",
       "  text-align: right;\n",
       "  white-space: pre-wrap;\n",
       "}\n",
       "</style>\n",
       "<small>shape: (0, 12)</small><table border=\"1\" class=\"dataframe\"><thead><tr><th>name</th><th>year</th><th>selling_price</th><th>km_driven</th><th>fuel</th><th>seller_type</th><th>transmission</th><th>owner</th><th>mileage</th><th>engine</th><th>max_power</th><th>seats</th></tr><tr><td>str</td><td>i64</td><td>i64</td><td>i64</td><td>str</td><td>str</td><td>str</td><td>str</td><td>str</td><td>str</td><td>str</td><td>f64</td></tr></thead><tbody></tbody></table></div>"
      ],
      "text/plain": [
       "shape: (0, 12)\n",
       "┌──────┬──────┬───────────────┬───────────┬───┬─────────┬────────┬───────────┬───────┐\n",
       "│ name ┆ year ┆ selling_price ┆ km_driven ┆ … ┆ mileage ┆ engine ┆ max_power ┆ seats │\n",
       "│ ---  ┆ ---  ┆ ---           ┆ ---       ┆   ┆ ---     ┆ ---    ┆ ---       ┆ ---   │\n",
       "│ str  ┆ i64  ┆ i64           ┆ i64       ┆   ┆ str     ┆ str    ┆ str       ┆ f64   │\n",
       "╞══════╪══════╪═══════════════╪═══════════╪═══╪═════════╪════════╪═══════════╪═══════╡\n",
       "└──────┴──────┴───────────────┴───────────┴───┴─────────┴────────┴───────────┴───────┘"
      ]
     },
     "execution_count": 8,
     "metadata": {},
     "output_type": "execute_result"
    }
   ],
   "source": [
    "df.clear()"
   ]
  },
  {
   "cell_type": "markdown",
   "id": "626c197a-363d-40f1-bd2d-b9ca7332fe71",
   "metadata": {},
   "source": [
    "## Работа с пропусками и дубликатами"
   ]
  },
  {
   "cell_type": "markdown",
   "id": "a20a1793-3f14-4821-a1f9-e36f9b024e5c",
   "metadata": {},
   "source": [
    "### Работа с пропусками"
   ]
  },
  {
   "cell_type": "markdown",
   "id": "1a0581ef-2000-4a90-967a-766483df4254",
   "metadata": {},
   "source": [
    "Пропущенных значений в наборе данных - довольно частое явление. Библиотека *polars* предоставляет инструменты для:\n",
    "- нахождения пропусков,\n",
    "- заполнения их значениями,\n",
    "- удаления пропусков из набора данных"
   ]
  },
  {
   "cell_type": "markdown",
   "id": "89f59e58-939a-4f6a-89f5-6e0de47495dc",
   "metadata": {},
   "source": [
    "Выведем наименование столбцов, где есть пропуски"
   ]
  },
  {
   "cell_type": "code",
   "execution_count": 9,
   "id": "b4b2baf7-6928-46b6-8833-ac7f0682274a",
   "metadata": {},
   "outputs": [
    {
     "name": "stdout",
     "output_type": "stream",
     "text": [
      "mileage, engine, max_power, seats\n"
     ]
    }
   ],
   "source": [
    "# Выберем только те столбцы, в которых есть хотя бы один null\n",
    "print(\", \".join([col_name for col_name in df.columns if df[col_name].is_null().any()]))"
   ]
  },
  {
   "cell_type": "markdown",
   "id": "db1ed971-a84f-448e-8236-ab22391a05d1",
   "metadata": {},
   "source": [
    "Посчитаем долю пропусков в этих колонках. Для этого можно воспользоваться методом `is_null()` или `null_count()`. Разница этих двух методов заключается в том, что метод `is_null()` возращает по каждому пройденному значению 1 или 0, поэтому нам придется еще их суммировать (метод `sum()`). Методом `null_count()` сразу посчитает для столбца количество пропусков."
   ]
  },
  {
   "cell_type": "code",
   "execution_count": 10,
   "id": "84356810-81d3-4d41-9c79-eb7e689af8fa",
   "metadata": {},
   "outputs": [
    {
     "data": {
      "text/html": [
       "<div><style>\n",
       ".dataframe > thead > tr,\n",
       ".dataframe > tbody > tr {\n",
       "  text-align: right;\n",
       "  white-space: pre-wrap;\n",
       "}\n",
       "</style>\n",
       "<small>shape: (1, 4)</small><table border=\"1\" class=\"dataframe\"><thead><tr><th>mileage_null_share</th><th>engine_null_share</th><th>max_power_null_share</th><th>seats_null_share</th></tr><tr><td>f64</td><td>f64</td><td>f64</td><td>f64</td></tr></thead><tbody><tr><td>2.89</td><td>2.89</td><td>2.81</td><td>2.89</td></tr></tbody></table></div>"
      ],
      "text/plain": [
       "shape: (1, 4)\n",
       "┌────────────────────┬───────────────────┬──────────────────────┬──────────────────┐\n",
       "│ mileage_null_share ┆ engine_null_share ┆ max_power_null_share ┆ seats_null_share │\n",
       "│ ---                ┆ ---               ┆ ---                  ┆ ---              │\n",
       "│ f64                ┆ f64               ┆ f64                  ┆ f64              │\n",
       "╞════════════════════╪═══════════════════╪══════════════════════╪══════════════════╡\n",
       "│ 2.89               ┆ 2.89              ┆ 2.81                 ┆ 2.89             │\n",
       "└────────────────────┴───────────────────┴──────────────────────┴──────────────────┘"
      ]
     },
     "execution_count": 10,
     "metadata": {},
     "output_type": "execute_result"
    }
   ],
   "source": [
    "# Получим наименование колонок, где есть пропуски\n",
    "list_column = [col_name for col_name in df.columns if df[col_name].is_null().any()]\n",
    "\n",
    "# Выведем долю пропусков по каждому столбцу, где есть пропуски\n",
    "df.select([(100 * pl.col(x).is_null().sum() / pl.len()).round(2).alias(f\"{x}_null_share\") for x in list_column])\n",
    "\n"
   ]
  },
  {
   "cell_type": "markdown",
   "id": "70d867f9-2d44-43f9-88c4-50dfabba00c8",
   "metadata": {},
   "source": [
    "Или же методом `null_count()`"
   ]
  },
  {
   "cell_type": "code",
   "execution_count": 11,
   "id": "37fe2ce4-7253-4d7d-8a59-f5e7956bba1b",
   "metadata": {},
   "outputs": [
    {
     "data": {
      "text/html": [
       "<div><style>\n",
       ".dataframe > thead > tr,\n",
       ".dataframe > tbody > tr {\n",
       "  text-align: right;\n",
       "  white-space: pre-wrap;\n",
       "}\n",
       "</style>\n",
       "<small>shape: (1, 4)</small><table border=\"1\" class=\"dataframe\"><thead><tr><th>mileage_null_share</th><th>engine_null_share</th><th>max_power_null_share</th><th>seats_null_share</th></tr><tr><td>f64</td><td>f64</td><td>f64</td><td>f64</td></tr></thead><tbody><tr><td>2.89274</td><td>2.89274</td><td>2.806817</td><td>2.89274</td></tr></tbody></table></div>"
      ],
      "text/plain": [
       "shape: (1, 4)\n",
       "┌────────────────────┬───────────────────┬──────────────────────┬──────────────────┐\n",
       "│ mileage_null_share ┆ engine_null_share ┆ max_power_null_share ┆ seats_null_share │\n",
       "│ ---                ┆ ---               ┆ ---                  ┆ ---              │\n",
       "│ f64                ┆ f64               ┆ f64                  ┆ f64              │\n",
       "╞════════════════════╪═══════════════════╪══════════════════════╪══════════════════╡\n",
       "│ 2.89274            ┆ 2.89274           ┆ 2.806817             ┆ 2.89274          │\n",
       "└────────────────────┴───────────────────┴──────────────────────┴──────────────────┘"
      ]
     },
     "execution_count": 11,
     "metadata": {},
     "output_type": "execute_result"
    }
   ],
   "source": [
    "# Получим наименование колонок, где есть пропуски\n",
    "list_column = [col_name for col_name in df.columns if df[col_name].is_null().any()]\n",
    "\n",
    "# Выведем долю пропусков по каждому столбцу, где есть пропуски\n",
    "df.select([(100 * pl.col(x).null_count() / pl.len()).alias(f\"{x}_null_share\") for x in list_column])"
   ]
  },
  {
   "cell_type": "markdown",
   "id": "e54cc5c4-8023-4a76-86ec-30fa4d8e46fe",
   "metadata": {},
   "source": [
    "**Стратегии заполнения пропусков**:\n",
    "\n",
    "* если пропусков очень мало (~меньше процента) - строки с пропусками можно удалить или заполнить средним/медианой\n",
    "\n",
    "* если пропусков мало (~5-10%) - их можно заполнить (средним, медианой, уникальным значением, самым популярным значением, спрогнозировать)\n",
    "\n",
    "* если пропусков много - можно удалить столбец\n",
    "\n",
    "* можно пытаться предсказывать пропуски моделью (на практике так редко делают)"
   ]
  },
  {
   "cell_type": "markdown",
   "id": "18ee21b7-d518-4bc2-9f17-6d8aac834c74",
   "metadata": {},
   "source": [
    "Так как пропусков у нас мало, то заменим их медианой/средним. Для заполнение пропусков в *polars* используется метод `fill_null()`, который содержит в себе следующие параметры:\n",
    "- value - значение, которым заполнить пропуски\n",
    "- strategy - стратегия, которыми можно заполнить пропуски ({None, ‘forward’, ‘backward’, ‘min’, ‘max’, ‘mean’, ‘zero’, ‘one’})\n",
    "- limit - Количество последовательных \"нулевых\" значений для заполнения при использовании стратегии ‘backward’ или ‘forward’."
   ]
  },
  {
   "cell_type": "markdown",
   "id": "9220dd96-32ee-4cc6-846f-31b4a32a98bd",
   "metadata": {},
   "source": [
    "Заменим пропуски средним значением."
   ]
  },
  {
   "cell_type": "code",
   "execution_count": 12,
   "id": "0a464a14-44c4-4248-98cd-2ab88ed747eb",
   "metadata": {},
   "outputs": [
    {
     "name": "stdout",
     "output_type": "stream",
     "text": [
      "shape: (1, 12)\n",
      "┌──────┬──────┬───────────────┬───────────┬───┬─────────┬────────┬───────────┬───────┐\n",
      "│ name ┆ year ┆ selling_price ┆ km_driven ┆ … ┆ mileage ┆ engine ┆ max_power ┆ seats │\n",
      "│ ---  ┆ ---  ┆ ---           ┆ ---       ┆   ┆ ---     ┆ ---    ┆ ---       ┆ ---   │\n",
      "│ u32  ┆ u32  ┆ u32           ┆ u32       ┆   ┆ u32     ┆ u32    ┆ u32       ┆ u32   │\n",
      "╞══════╪══════╪═══════════════╪═══════════╪═══╪═════════╪════════╪═══════════╪═══════╡\n",
      "│ 0    ┆ 0    ┆ 0             ┆ 0         ┆ … ┆ 202     ┆ 202    ┆ 196       ┆ 0     │\n",
      "└──────┴──────┴───────────────┴───────────┴───┴─────────┴────────┴───────────┴───────┘\n"
     ]
    }
   ],
   "source": [
    "# Получим наименование колонок, где есть пропуски\n",
    "list_column = [col_name for col_name in df.columns if df[col_name].is_null().any()]\n",
    "\n",
    "# Заполняем \n",
    "df = df.with_columns([pl.col(x).fill_null(value=pl.col(x).mean()) for x in list_column])\n",
    "\n",
    "# Смотрим на пропуски\n",
    "print(df.null_count())"
   ]
  },
  {
   "cell_type": "markdown",
   "id": "be679892-6833-40d5-a446-baabccaec473",
   "metadata": {},
   "source": [
    "Пропуски у нас были в четырех столбцах (mileage, engine, max_power, seats), но смогли заменить только в признаке seats. Это связно с тем, что оставшиеся имеют текстовой формат данных, поэтому необходимо обработать данные столбцы. "
   ]
  },
  {
   "cell_type": "code",
   "execution_count": 13,
   "id": "f00397f3-c727-4b37-a27b-ca1f07136f9b",
   "metadata": {},
   "outputs": [
    {
     "data": {
      "text/html": [
       "<div><style>\n",
       ".dataframe > thead > tr,\n",
       ".dataframe > tbody > tr {\n",
       "  text-align: right;\n",
       "  white-space: pre-wrap;\n",
       "}\n",
       "</style>\n",
       "<small>shape: (6_983, 12)</small><table border=\"1\" class=\"dataframe\"><thead><tr><th>name</th><th>year</th><th>selling_price</th><th>km_driven</th><th>fuel</th><th>seller_type</th><th>transmission</th><th>owner</th><th>mileage</th><th>engine</th><th>max_power</th><th>seats</th></tr><tr><td>str</td><td>i64</td><td>i64</td><td>i64</td><td>str</td><td>str</td><td>str</td><td>str</td><td>f64</td><td>f64</td><td>f64</td><td>f64</td></tr></thead><tbody><tr><td>&quot;Maruti Swift Dzire VDI&quot;</td><td>2014</td><td>450000</td><td>145500</td><td>&quot;Diesel&quot;</td><td>&quot;Individual&quot;</td><td>&quot;Manual&quot;</td><td>&quot;First Owner&quot;</td><td>23.4</td><td>1248.0</td><td>74.0</td><td>5.0</td></tr><tr><td>&quot;Skoda Rapid 1.5 TDI Ambition&quot;</td><td>2014</td><td>370000</td><td>120000</td><td>&quot;Diesel&quot;</td><td>&quot;Individual&quot;</td><td>&quot;Manual&quot;</td><td>&quot;Second Owner&quot;</td><td>21.14</td><td>1498.0</td><td>103.52</td><td>5.0</td></tr><tr><td>&quot;Hyundai i20 Sportz Diesel&quot;</td><td>2010</td><td>225000</td><td>127000</td><td>&quot;Diesel&quot;</td><td>&quot;Individual&quot;</td><td>&quot;Manual&quot;</td><td>&quot;First Owner&quot;</td><td>23.0</td><td>1396.0</td><td>90.0</td><td>5.0</td></tr><tr><td>&quot;Maruti Swift VXI BSIII&quot;</td><td>2007</td><td>130000</td><td>120000</td><td>&quot;Petrol&quot;</td><td>&quot;Individual&quot;</td><td>&quot;Manual&quot;</td><td>&quot;First Owner&quot;</td><td>16.1</td><td>1298.0</td><td>88.2</td><td>5.0</td></tr><tr><td>&quot;Hyundai Xcent 1.2 VTVT E Plus&quot;</td><td>2017</td><td>440000</td><td>45000</td><td>&quot;Petrol&quot;</td><td>&quot;Individual&quot;</td><td>&quot;Manual&quot;</td><td>&quot;First Owner&quot;</td><td>20.14</td><td>1197.0</td><td>81.86</td><td>5.0</td></tr><tr><td>&hellip;</td><td>&hellip;</td><td>&hellip;</td><td>&hellip;</td><td>&hellip;</td><td>&hellip;</td><td>&hellip;</td><td>&hellip;</td><td>&hellip;</td><td>&hellip;</td><td>&hellip;</td><td>&hellip;</td></tr><tr><td>&quot;Hyundai i20 Magna&quot;</td><td>2013</td><td>320000</td><td>110000</td><td>&quot;Petrol&quot;</td><td>&quot;Individual&quot;</td><td>&quot;Manual&quot;</td><td>&quot;First Owner&quot;</td><td>18.5</td><td>1197.0</td><td>82.85</td><td>5.0</td></tr><tr><td>&quot;Hyundai Verna CRDi SX&quot;</td><td>2007</td><td>135000</td><td>119000</td><td>&quot;Diesel&quot;</td><td>&quot;Individual&quot;</td><td>&quot;Manual&quot;</td><td>&quot;Fourth &amp; Above Owner&quot;</td><td>16.8</td><td>1493.0</td><td>110.0</td><td>5.0</td></tr><tr><td>&quot;Maruti Swift Dzire ZDi&quot;</td><td>2009</td><td>382000</td><td>120000</td><td>&quot;Diesel&quot;</td><td>&quot;Individual&quot;</td><td>&quot;Manual&quot;</td><td>&quot;First Owner&quot;</td><td>19.3</td><td>1248.0</td><td>73.9</td><td>5.0</td></tr><tr><td>&quot;Tata Indigo CR4&quot;</td><td>2013</td><td>290000</td><td>25000</td><td>&quot;Diesel&quot;</td><td>&quot;Individual&quot;</td><td>&quot;Manual&quot;</td><td>&quot;First Owner&quot;</td><td>23.57</td><td>1396.0</td><td>70.0</td><td>5.0</td></tr><tr><td>&quot;Tata Indigo CR4&quot;</td><td>2013</td><td>290000</td><td>25000</td><td>&quot;Diesel&quot;</td><td>&quot;Individual&quot;</td><td>&quot;Manual&quot;</td><td>&quot;First Owner&quot;</td><td>23.57</td><td>1396.0</td><td>70.0</td><td>5.0</td></tr></tbody></table></div>"
      ],
      "text/plain": [
       "shape: (6_983, 12)\n",
       "┌────────────────────┬──────┬───────────────┬───────────┬───┬─────────┬────────┬───────────┬───────┐\n",
       "│ name               ┆ year ┆ selling_price ┆ km_driven ┆ … ┆ mileage ┆ engine ┆ max_power ┆ seats │\n",
       "│ ---                ┆ ---  ┆ ---           ┆ ---       ┆   ┆ ---     ┆ ---    ┆ ---       ┆ ---   │\n",
       "│ str                ┆ i64  ┆ i64           ┆ i64       ┆   ┆ f64     ┆ f64    ┆ f64       ┆ f64   │\n",
       "╞════════════════════╪══════╪═══════════════╪═══════════╪═══╪═════════╪════════╪═══════════╪═══════╡\n",
       "│ Maruti Swift Dzire ┆ 2014 ┆ 450000        ┆ 145500    ┆ … ┆ 23.4    ┆ 1248.0 ┆ 74.0      ┆ 5.0   │\n",
       "│ VDI                ┆      ┆               ┆           ┆   ┆         ┆        ┆           ┆       │\n",
       "│ Skoda Rapid 1.5    ┆ 2014 ┆ 370000        ┆ 120000    ┆ … ┆ 21.14   ┆ 1498.0 ┆ 103.52    ┆ 5.0   │\n",
       "│ TDI Ambition       ┆      ┆               ┆           ┆   ┆         ┆        ┆           ┆       │\n",
       "│ Hyundai i20 Sportz ┆ 2010 ┆ 225000        ┆ 127000    ┆ … ┆ 23.0    ┆ 1396.0 ┆ 90.0      ┆ 5.0   │\n",
       "│ Diesel             ┆      ┆               ┆           ┆   ┆         ┆        ┆           ┆       │\n",
       "│ Maruti Swift VXI   ┆ 2007 ┆ 130000        ┆ 120000    ┆ … ┆ 16.1    ┆ 1298.0 ┆ 88.2      ┆ 5.0   │\n",
       "│ BSIII              ┆      ┆               ┆           ┆   ┆         ┆        ┆           ┆       │\n",
       "│ Hyundai Xcent 1.2  ┆ 2017 ┆ 440000        ┆ 45000     ┆ … ┆ 20.14   ┆ 1197.0 ┆ 81.86     ┆ 5.0   │\n",
       "│ VTVT E Plus        ┆      ┆               ┆           ┆   ┆         ┆        ┆           ┆       │\n",
       "│ …                  ┆ …    ┆ …             ┆ …         ┆ … ┆ …       ┆ …      ┆ …         ┆ …     │\n",
       "│ Hyundai i20 Magna  ┆ 2013 ┆ 320000        ┆ 110000    ┆ … ┆ 18.5    ┆ 1197.0 ┆ 82.85     ┆ 5.0   │\n",
       "│ Hyundai Verna CRDi ┆ 2007 ┆ 135000        ┆ 119000    ┆ … ┆ 16.8    ┆ 1493.0 ┆ 110.0     ┆ 5.0   │\n",
       "│ SX                 ┆      ┆               ┆           ┆   ┆         ┆        ┆           ┆       │\n",
       "│ Maruti Swift Dzire ┆ 2009 ┆ 382000        ┆ 120000    ┆ … ┆ 19.3    ┆ 1248.0 ┆ 73.9      ┆ 5.0   │\n",
       "│ ZDi                ┆      ┆               ┆           ┆   ┆         ┆        ┆           ┆       │\n",
       "│ Tata Indigo CR4    ┆ 2013 ┆ 290000        ┆ 25000     ┆ … ┆ 23.57   ┆ 1396.0 ┆ 70.0      ┆ 5.0   │\n",
       "│ Tata Indigo CR4    ┆ 2013 ┆ 290000        ┆ 25000     ┆ … ┆ 23.57   ┆ 1396.0 ┆ 70.0      ┆ 5.0   │\n",
       "└────────────────────┴──────┴───────────────┴───────────┴───┴─────────┴────────┴───────────┴───────┘"
      ]
     },
     "execution_count": 13,
     "metadata": {},
     "output_type": "execute_result"
    }
   ],
   "source": [
    "# Обработка \n",
    "df = df.with_columns([\n",
    "    pl.col(x)\n",
    "    .str.replace_all(r\"[^\\d.]\", \"\")  # Удаляем всё, кроме цифр и точки\n",
    "    .str.strip_chars()               # Убираем лишние пробелы\n",
    "    .replace(\"\", None)               # Заменяем пустые строки на null\n",
    "    .cast(pl.Float64)                # Преобразуем в нужный тип данных\n",
    "for x in [\"mileage\", \"engine\", \"max_power\"]\n",
    "])\n",
    "\n",
    "df"
   ]
  },
  {
   "cell_type": "markdown",
   "id": "0dd534eb-34dd-4154-afea-d05cc60705d5",
   "metadata": {},
   "source": [
    "Видим, что наши колонки (mileage, engine, max_power) изменили тип данных. Теперь заменим пропуски в них на медианные значения."
   ]
  },
  {
   "cell_type": "code",
   "execution_count": 14,
   "id": "5e320027-bb0b-45a8-abee-c023b9a1039d",
   "metadata": {},
   "outputs": [
    {
     "data": {
      "text/html": [
       "<div><style>\n",
       ".dataframe > thead > tr,\n",
       ".dataframe > tbody > tr {\n",
       "  text-align: right;\n",
       "  white-space: pre-wrap;\n",
       "}\n",
       "</style>\n",
       "<small>shape: (1, 12)</small><table border=\"1\" class=\"dataframe\"><thead><tr><th>name</th><th>year</th><th>selling_price</th><th>km_driven</th><th>fuel</th><th>seller_type</th><th>transmission</th><th>owner</th><th>mileage</th><th>engine</th><th>max_power</th><th>seats</th></tr><tr><td>u32</td><td>u32</td><td>u32</td><td>u32</td><td>u32</td><td>u32</td><td>u32</td><td>u32</td><td>u32</td><td>u32</td><td>u32</td><td>u32</td></tr></thead><tbody><tr><td>0</td><td>0</td><td>0</td><td>0</td><td>0</td><td>0</td><td>0</td><td>0</td><td>0</td><td>0</td><td>0</td><td>0</td></tr></tbody></table></div>"
      ],
      "text/plain": [
       "shape: (1, 12)\n",
       "┌──────┬──────┬───────────────┬───────────┬───┬─────────┬────────┬───────────┬───────┐\n",
       "│ name ┆ year ┆ selling_price ┆ km_driven ┆ … ┆ mileage ┆ engine ┆ max_power ┆ seats │\n",
       "│ ---  ┆ ---  ┆ ---           ┆ ---       ┆   ┆ ---     ┆ ---    ┆ ---       ┆ ---   │\n",
       "│ u32  ┆ u32  ┆ u32           ┆ u32       ┆   ┆ u32     ┆ u32    ┆ u32       ┆ u32   │\n",
       "╞══════╪══════╪═══════════════╪═══════════╪═══╪═════════╪════════╪═══════════╪═══════╡\n",
       "│ 0    ┆ 0    ┆ 0             ┆ 0         ┆ … ┆ 0       ┆ 0      ┆ 0         ┆ 0     │\n",
       "└──────┴──────┴───────────────┴───────────┴───┴─────────┴────────┴───────────┴───────┘"
      ]
     },
     "execution_count": 14,
     "metadata": {},
     "output_type": "execute_result"
    }
   ],
   "source": [
    "# Заполняем \n",
    "df = df.with_columns([pl.col(x).fill_null(value=pl.col(x).median()) for x in [\"mileage\", \"engine\", \"max_power\"]])\n",
    "\n",
    "# Смотрим на пропуски\n",
    "df.null_count()"
   ]
  },
  {
   "cell_type": "markdown",
   "id": "6a474771-1c0f-48a8-a644-51f6737bc05a",
   "metadata": {},
   "source": [
    "Победа! Пропусков не осталось."
   ]
  },
  {
   "cell_type": "markdown",
   "id": "b04758ba-62e8-4e64-b133-f1e6e1f69f85",
   "metadata": {},
   "source": [
    "**Удаление пропущенных значений. Метод `drop_nulls()`**"
   ]
  },
  {
   "cell_type": "markdown",
   "id": "10e56ccb-6548-4ef2-b6c5-7601f79b763e",
   "metadata": {},
   "source": [
    "Метод `drop_nulls()` удаляет строки, в которых есть хотя бы одно значение null (пропуск)."
   ]
  },
  {
   "cell_type": "code",
   "execution_count": 15,
   "id": "2c0a6c3a-6086-48ed-a7f7-d251db58e178",
   "metadata": {},
   "outputs": [
    {
     "name": "stdout",
     "output_type": "stream",
     "text": [
      "shape: (3, 3)\n",
      "┌──────┬──────┬─────┐\n",
      "│ a    ┆ b    ┆ c   │\n",
      "│ ---  ┆ ---  ┆ --- │\n",
      "│ i64  ┆ i64  ┆ i64 │\n",
      "╞══════╪══════╪═════╡\n",
      "│ 1    ┆ 4    ┆ 7   │\n",
      "│ 2    ┆ null ┆ 8   │\n",
      "│ null ┆ 6    ┆ 9   │\n",
      "└──────┴──────┴─────┘\n"
     ]
    }
   ],
   "source": [
    "df_drop = pl.DataFrame({\n",
    "    \"a\": [1, 2, None],\n",
    "    \"b\": [4, None, 6],\n",
    "    \"c\": [7, 8, 9]\n",
    "})\n",
    "\n",
    "print(df_drop)"
   ]
  },
  {
   "cell_type": "code",
   "execution_count": 16,
   "id": "18ddf53f-951e-4dc4-94ed-f0c50fb3e5d3",
   "metadata": {},
   "outputs": [
    {
     "name": "stdout",
     "output_type": "stream",
     "text": [
      "shape: (1, 3)\n",
      "┌─────┬─────┬─────┐\n",
      "│ a   ┆ b   ┆ c   │\n",
      "│ --- ┆ --- ┆ --- │\n",
      "│ i64 ┆ i64 ┆ i64 │\n",
      "╞═════╪═════╪═════╡\n",
      "│ 1   ┆ 4   ┆ 7   │\n",
      "└─────┴─────┴─────┘\n"
     ]
    }
   ],
   "source": [
    "# Удаляем строки с null\n",
    "df_cleaned = df_drop.drop_nulls()\n",
    "\n",
    "print(df_cleaned)"
   ]
  },
  {
   "cell_type": "markdown",
   "id": "a8512abc-9346-4c80-8bb7-cfc8f36f1241",
   "metadata": {},
   "source": [
    "### Работа с дубликатами"
   ]
  },
  {
   "cell_type": "markdown",
   "id": "630f5983-efed-4347-bc78-a627bd87c5c9",
   "metadata": {},
   "source": [
    "Один из важнейших этапов предобработки данных перед их анализом - работа с дубликатами: выявления и их удаления. Чтобы найти дубликаты в *polars* есть метод `is_duplicated()`, который возвращает булевую серию: True для строк, которые уже встречались ранее."
   ]
  },
  {
   "cell_type": "markdown",
   "id": "1c02cbb3-5ad4-4de7-b4d0-58345da9ec89",
   "metadata": {},
   "source": [
    "Вот строки, которые дублируются (т.е. 2 или более одинаковых строк)"
   ]
  },
  {
   "cell_type": "code",
   "execution_count": 17,
   "id": "64854aa8-bc97-49ba-b768-f9d23b10b131",
   "metadata": {},
   "outputs": [
    {
     "data": {
      "text/html": [
       "<div><style>\n",
       ".dataframe > thead > tr,\n",
       ".dataframe > tbody > tr {\n",
       "  text-align: right;\n",
       "  white-space: pre-wrap;\n",
       "}\n",
       "</style>\n",
       "<small>shape: (1_474, 12)</small><table border=\"1\" class=\"dataframe\"><thead><tr><th>name</th><th>year</th><th>selling_price</th><th>km_driven</th><th>fuel</th><th>seller_type</th><th>transmission</th><th>owner</th><th>mileage</th><th>engine</th><th>max_power</th><th>seats</th></tr><tr><td>str</td><td>i64</td><td>i64</td><td>i64</td><td>str</td><td>str</td><td>str</td><td>str</td><td>f64</td><td>f64</td><td>f64</td><td>f64</td></tr></thead><tbody><tr><td>&quot;Fiat Palio 1.2 ELX&quot;</td><td>2003</td><td>70000</td><td>50000</td><td>&quot;Petrol&quot;</td><td>&quot;Individual&quot;</td><td>&quot;Manual&quot;</td><td>&quot;Second Owner&quot;</td><td>19.3</td><td>1248.0</td><td>82.0</td><td>5.420882</td></tr><tr><td>&quot;Maruti Omni 8 Seater BSIV&quot;</td><td>2012</td><td>150000</td><td>35000</td><td>&quot;Petrol&quot;</td><td>&quot;Individual&quot;</td><td>&quot;Manual&quot;</td><td>&quot;Second Owner&quot;</td><td>14.0</td><td>796.0</td><td>35.0</td><td>5.0</td></tr><tr><td>&quot;Maruti Alto 800 CNG LXI Option…</td><td>2019</td><td>330000</td><td>10000</td><td>&quot;CNG&quot;</td><td>&quot;Individual&quot;</td><td>&quot;Manual&quot;</td><td>&quot;Second Owner&quot;</td><td>33.44</td><td>796.0</td><td>40.3</td><td>4.0</td></tr><tr><td>&quot;Maruti Alto K10 VXI Airbag&quot;</td><td>2019</td><td>366000</td><td>15000</td><td>&quot;Petrol&quot;</td><td>&quot;Individual&quot;</td><td>&quot;Manual&quot;</td><td>&quot;First Owner&quot;</td><td>23.95</td><td>998.0</td><td>67.1</td><td>5.0</td></tr><tr><td>&quot;Hyundai Verna VTVT 1.6 SX Opti…</td><td>2019</td><td>1149000</td><td>5000</td><td>&quot;Petrol&quot;</td><td>&quot;Individual&quot;</td><td>&quot;Manual&quot;</td><td>&quot;First Owner&quot;</td><td>17.0</td><td>1591.0</td><td>121.3</td><td>5.0</td></tr><tr><td>&hellip;</td><td>&hellip;</td><td>&hellip;</td><td>&hellip;</td><td>&hellip;</td><td>&hellip;</td><td>&hellip;</td><td>&hellip;</td><td>&hellip;</td><td>&hellip;</td><td>&hellip;</td><td>&hellip;</td></tr><tr><td>&quot;Renault Captur 1.5 Diesel RXT&quot;</td><td>2018</td><td>1265000</td><td>12000</td><td>&quot;Diesel&quot;</td><td>&quot;Individual&quot;</td><td>&quot;Manual&quot;</td><td>&quot;First Owner&quot;</td><td>20.37</td><td>1461.0</td><td>108.45</td><td>5.0</td></tr><tr><td>&quot;Maruti Ciaz Alpha Diesel&quot;</td><td>2019</td><td>1025000</td><td>32000</td><td>&quot;Diesel&quot;</td><td>&quot;Individual&quot;</td><td>&quot;Manual&quot;</td><td>&quot;First Owner&quot;</td><td>28.09</td><td>1248.0</td><td>88.5</td><td>5.0</td></tr><tr><td>&quot;Maruti Swift Dzire VDI&quot;</td><td>2015</td><td>625000</td><td>50000</td><td>&quot;Diesel&quot;</td><td>&quot;Individual&quot;</td><td>&quot;Manual&quot;</td><td>&quot;First Owner&quot;</td><td>26.59</td><td>1248.0</td><td>74.0</td><td>5.0</td></tr><tr><td>&quot;Tata Indigo CR4&quot;</td><td>2013</td><td>290000</td><td>25000</td><td>&quot;Diesel&quot;</td><td>&quot;Individual&quot;</td><td>&quot;Manual&quot;</td><td>&quot;First Owner&quot;</td><td>23.57</td><td>1396.0</td><td>70.0</td><td>5.0</td></tr><tr><td>&quot;Tata Indigo CR4&quot;</td><td>2013</td><td>290000</td><td>25000</td><td>&quot;Diesel&quot;</td><td>&quot;Individual&quot;</td><td>&quot;Manual&quot;</td><td>&quot;First Owner&quot;</td><td>23.57</td><td>1396.0</td><td>70.0</td><td>5.0</td></tr></tbody></table></div>"
      ],
      "text/plain": [
       "shape: (1_474, 12)\n",
       "┌─────────────────┬──────┬───────────────┬───────────┬───┬─────────┬────────┬───────────┬──────────┐\n",
       "│ name            ┆ year ┆ selling_price ┆ km_driven ┆ … ┆ mileage ┆ engine ┆ max_power ┆ seats    │\n",
       "│ ---             ┆ ---  ┆ ---           ┆ ---       ┆   ┆ ---     ┆ ---    ┆ ---       ┆ ---      │\n",
       "│ str             ┆ i64  ┆ i64           ┆ i64       ┆   ┆ f64     ┆ f64    ┆ f64       ┆ f64      │\n",
       "╞═════════════════╪══════╪═══════════════╪═══════════╪═══╪═════════╪════════╪═══════════╪══════════╡\n",
       "│ Fiat Palio 1.2  ┆ 2003 ┆ 70000         ┆ 50000     ┆ … ┆ 19.3    ┆ 1248.0 ┆ 82.0      ┆ 5.420882 │\n",
       "│ ELX             ┆      ┆               ┆           ┆   ┆         ┆        ┆           ┆          │\n",
       "│ Maruti Omni 8   ┆ 2012 ┆ 150000        ┆ 35000     ┆ … ┆ 14.0    ┆ 796.0  ┆ 35.0      ┆ 5.0      │\n",
       "│ Seater BSIV     ┆      ┆               ┆           ┆   ┆         ┆        ┆           ┆          │\n",
       "│ Maruti Alto 800 ┆ 2019 ┆ 330000        ┆ 10000     ┆ … ┆ 33.44   ┆ 796.0  ┆ 40.3      ┆ 4.0      │\n",
       "│ CNG LXI Option… ┆      ┆               ┆           ┆   ┆         ┆        ┆           ┆          │\n",
       "│ Maruti Alto K10 ┆ 2019 ┆ 366000        ┆ 15000     ┆ … ┆ 23.95   ┆ 998.0  ┆ 67.1      ┆ 5.0      │\n",
       "│ VXI Airbag      ┆      ┆               ┆           ┆   ┆         ┆        ┆           ┆          │\n",
       "│ Hyundai Verna   ┆ 2019 ┆ 1149000       ┆ 5000      ┆ … ┆ 17.0    ┆ 1591.0 ┆ 121.3     ┆ 5.0      │\n",
       "│ VTVT 1.6 SX     ┆      ┆               ┆           ┆   ┆         ┆        ┆           ┆          │\n",
       "│ Opti…           ┆      ┆               ┆           ┆   ┆         ┆        ┆           ┆          │\n",
       "│ …               ┆ …    ┆ …             ┆ …         ┆ … ┆ …       ┆ …      ┆ …         ┆ …        │\n",
       "│ Renault Captur  ┆ 2018 ┆ 1265000       ┆ 12000     ┆ … ┆ 20.37   ┆ 1461.0 ┆ 108.45    ┆ 5.0      │\n",
       "│ 1.5 Diesel RXT  ┆      ┆               ┆           ┆   ┆         ┆        ┆           ┆          │\n",
       "│ Maruti Ciaz     ┆ 2019 ┆ 1025000       ┆ 32000     ┆ … ┆ 28.09   ┆ 1248.0 ┆ 88.5      ┆ 5.0      │\n",
       "│ Alpha Diesel    ┆      ┆               ┆           ┆   ┆         ┆        ┆           ┆          │\n",
       "│ Maruti Swift    ┆ 2015 ┆ 625000        ┆ 50000     ┆ … ┆ 26.59   ┆ 1248.0 ┆ 74.0      ┆ 5.0      │\n",
       "│ Dzire VDI       ┆      ┆               ┆           ┆   ┆         ┆        ┆           ┆          │\n",
       "│ Tata Indigo CR4 ┆ 2013 ┆ 290000        ┆ 25000     ┆ … ┆ 23.57   ┆ 1396.0 ┆ 70.0      ┆ 5.0      │\n",
       "│ Tata Indigo CR4 ┆ 2013 ┆ 290000        ┆ 25000     ┆ … ┆ 23.57   ┆ 1396.0 ┆ 70.0      ┆ 5.0      │\n",
       "└─────────────────┴──────┴───────────────┴───────────┴───┴─────────┴────────┴───────────┴──────────┘"
      ]
     },
     "execution_count": 17,
     "metadata": {},
     "output_type": "execute_result"
    }
   ],
   "source": [
    "df.filter(df.is_duplicated())"
   ]
  },
  {
   "cell_type": "code",
   "execution_count": 18,
   "id": "e83c6a03-7ce3-4818-8249-8f1f9243c3d1",
   "metadata": {},
   "outputs": [
    {
     "name": "stdout",
     "output_type": "stream",
     "text": [
      "1474\n"
     ]
    }
   ],
   "source": [
    "print(df.is_duplicated().sum())"
   ]
  },
  {
   "cell_type": "markdown",
   "id": "8be3e9c3-ba1f-4b85-947c-f355eac9afce",
   "metadata": {},
   "source": [
    "Имеем 1474 не уникальных строк. Удалим дубликаты. Сейчас у нас 6 983 записи."
   ]
  },
  {
   "cell_type": "code",
   "execution_count": 19,
   "id": "d9c50ab7-0f80-4c1b-9870-e009fef5fd66",
   "metadata": {},
   "outputs": [
    {
     "data": {
      "text/plain": [
       "6983"
      ]
     },
     "execution_count": 19,
     "metadata": {},
     "output_type": "execute_result"
    }
   ],
   "source": [
    "df.shape[0]"
   ]
  },
  {
   "cell_type": "markdown",
   "id": "ab9fda4d-2cba-4e71-871a-8507ef50ab9d",
   "metadata": {},
   "source": [
    "**Удаление дубликтов. Метод `unique()`**"
   ]
  },
  {
   "cell_type": "markdown",
   "id": "0a11bbf3-1357-47c1-a89b-a92f05c5a700",
   "metadata": {},
   "source": [
    "Для удаления дубликатов используется метод `unique()`, который имеет следующий синтаксис:\n",
    "\n",
    "`DataFrame.unique(subset=None, *, keep='any', maintain_order=False)`\n",
    "\n",
    "Параметры:\n",
    "- subset - параметр принимает наименование столбцов по которым искать дубли, и при нахождении - удалять строки, содержащие совпадения. По умолчанию ищет по всем столбцам.\n",
    "- keep - параметр определяет, какие из совпадающих строк сохранить. Принимает значения:\n",
    "  - any - не даёт никаких горантий, какая именно повторяющая строка будет сохранена (по умолчанию)\n",
    "  - first - сохранит первую повторяющую строку\n",
    "  - last - сохранит последнюю повторяющую строку\n",
    "  - none - не сохранит повторяющие строки\n",
    "- maintain_order - сохранения порядка строк (по умолчанию False)"
   ]
  },
  {
   "cell_type": "code",
   "execution_count": 20,
   "id": "38adb97c-6228-4c40-bb12-016d4804d06e",
   "metadata": {},
   "outputs": [],
   "source": [
    "# Удаляем дубликаты\n",
    "df = df.unique()"
   ]
  },
  {
   "cell_type": "markdown",
   "id": "f534583a-43bf-417a-9bd9-b470323fb30e",
   "metadata": {},
   "source": [
    "После удаления дубликатов у нас осталось 6 000 различных машин"
   ]
  },
  {
   "cell_type": "code",
   "execution_count": 21,
   "id": "22b14e5c-a342-4d85-b97c-e110e57fd1aa",
   "metadata": {},
   "outputs": [
    {
     "data": {
      "text/plain": [
       "6000"
      ]
     },
     "execution_count": 21,
     "metadata": {},
     "output_type": "execute_result"
    }
   ],
   "source": [
    "df.shape[0]"
   ]
  }
 ],
 "metadata": {
  "kernelspec": {
   "display_name": "Python 3 (ipykernel)",
   "language": "python",
   "name": "python3"
  },
  "language_info": {
   "codemirror_mode": {
    "name": "ipython",
    "version": 3
   },
   "file_extension": ".py",
   "mimetype": "text/x-python",
   "name": "python",
   "nbconvert_exporter": "python",
   "pygments_lexer": "ipython3",
   "version": "3.12.7"
  }
 },
 "nbformat": 4,
 "nbformat_minor": 5
}
