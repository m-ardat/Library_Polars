{
 "cells": [
  {
   "cell_type": "markdown",
   "id": "22bed9bc-7e9a-4390-a81b-6fe5fac11434",
   "metadata": {},
   "source": [
    "# Доступ к данным"
   ]
  },
  {
   "cell_type": "markdown",
   "id": "051899cd-3c08-4bd9-8470-e13e4fbc8e06",
   "metadata": {},
   "source": [
    "Импорт библиотек"
   ]
  },
  {
   "cell_type": "code",
   "execution_count": 1,
   "id": "11e80e68-4414-4dd0-9d55-d0d1ae781991",
   "metadata": {},
   "outputs": [],
   "source": [
    "import polars as pl"
   ]
  },
  {
   "cell_type": "markdown",
   "id": "80cd8d29-bfb9-4ea4-a31e-f048a37e2e0e",
   "metadata": {},
   "source": [
    "Создадим *DataFrame* на основе словаря. Имеем усредненные данные по результатам ЕГЭ с 2014 по 2024 год по следующим предметам:\n",
    "- русский язык;\n",
    "- математика;\n",
    "- обществознание;\n",
    "- физика;\n",
    "- инорматика."
   ]
  },
  {
   "cell_type": "code",
   "execution_count": 2,
   "id": "6846f890-e9c5-42dd-9986-00b8cc6b3c7b",
   "metadata": {},
   "outputs": [
    {
     "name": "stdout",
     "output_type": "stream",
     "text": [
      "shape: (11, 6)\n",
      "┌──────┬──────────────────┬─────────────┬────────────────┬─────────┬─────────────┐\n",
      "│ year ┆ russian_language ┆ mathematics ┆ social science ┆ physics ┆ informatics │\n",
      "│ ---  ┆ ---              ┆ ---         ┆ ---            ┆ ---     ┆ ---         │\n",
      "│ i64  ┆ f64              ┆ f64         ┆ f64            ┆ f64     ┆ f64         │\n",
      "╞══════╪══════════════════╪═════════════╪════════════════╪═════════╪═════════════╡\n",
      "│ 2014 ┆ 62.5             ┆ 46.4        ┆ 53.1           ┆ 45.7    ┆ 57.2        │\n",
      "│ 2015 ┆ 65.8             ┆ 45.5        ┆ 58.6           ┆ 51.4    ┆ 54.0        │\n",
      "│ 2016 ┆ 68.0             ┆ 46.2        ┆ 53.1           ┆ 50.0    ┆ 56.6        │\n",
      "│ 2017 ┆ 69.1             ┆ 47.1        ┆ 55.4           ┆ 53.2    ┆ 59.2        │\n",
      "│ 2018 ┆ 70.93            ┆ 49.8        ┆ 55.7           ┆ 53.2    ┆ 58.4        │\n",
      "│ …    ┆ …                ┆ …           ┆ …              ┆ …       ┆ …           │\n",
      "│ 2020 ┆ 71.6             ┆ 54.2        ┆ 56.3           ┆ 54.5    ┆ 61.19       │\n",
      "│ 2021 ┆ 71.4             ┆ 55.1        ┆ 56.4           ┆ 55.1    ┆ 62.8        │\n",
      "│ 2022 ┆ 68.3             ┆ 56.9        ┆ 59.9           ┆ 54.1    ┆ 59.5        │\n",
      "│ 2023 ┆ 66.4             ┆ 55.6        ┆ 56.4           ┆ 54.8    ┆ 58.4        │\n",
      "│ 2024 ┆ 63.9             ┆ 62.5        ┆ 55.0           ┆ 63.2    ┆ 54.5        │\n",
      "└──────┴──────────────────┴─────────────┴────────────────┴─────────┴─────────────┘\n"
     ]
    }
   ],
   "source": [
    "dict_USE = {\n",
    "    \"year\": [x for x in range(2014, 2025)],\n",
    "    \"russian_language\": [62.5, 65.8, 68, 69.1, 70.93, 69.5, 71.6, 71.4, 68.3, 66.4, 63.9],\n",
    "    \"mathematics\": [46.4, 45.5, 46.2, 47.1, 49.8, 56.5, 54.2, 55.1, 56.9, 55.6, 62.5],\n",
    "    \"social science\": [53.1, 58.6, 53.1, 55.4, 55.7, 54.9, 56.3, 56.4, 59.9, 56.4, 55],\n",
    "    \"physics\": [45.7, 51.4, 50, 53.2, 53.2, 54.4, 54.5, 55.1, 54.1, 54.8, 63.2],\n",
    "    \"informatics\": [57.2, 54, 56.6, 59.2, 58.4, 62.4, 61.19, 62.8, 59.5, 58.4, 54.5]\n",
    "}\n",
    "\n",
    "df = pl.DataFrame(data=dict_USE)\n",
    "\n",
    "print(df)"
   ]
  },
  {
   "cell_type": "markdown",
   "id": "ca7603c5-ad52-49de-87a6-d0b7f544d06d",
   "metadata": {},
   "source": [
    "## Доступ к столбцам"
   ]
  },
  {
   "cell_type": "markdown",
   "id": "4d2e8404-c0e8-426f-b604-707a0fa232b5",
   "metadata": {},
   "source": [
    "Выведем столбец с результатами ЕГЭ по физике:"
   ]
  },
  {
   "cell_type": "code",
   "execution_count": 3,
   "id": "62d8dded-3fa6-4313-9b74-0d7f7b53892e",
   "metadata": {},
   "outputs": [
    {
     "data": {
      "text/html": [
       "<div><style>\n",
       ".dataframe > thead > tr,\n",
       ".dataframe > tbody > tr {\n",
       "  text-align: right;\n",
       "  white-space: pre-wrap;\n",
       "}\n",
       "</style>\n",
       "<small>shape: (11,)</small><table border=\"1\" class=\"dataframe\"><thead><tr><th>physics</th></tr><tr><td>f64</td></tr></thead><tbody><tr><td>45.7</td></tr><tr><td>51.4</td></tr><tr><td>50.0</td></tr><tr><td>53.2</td></tr><tr><td>53.2</td></tr><tr><td>&hellip;</td></tr><tr><td>54.5</td></tr><tr><td>55.1</td></tr><tr><td>54.1</td></tr><tr><td>54.8</td></tr><tr><td>63.2</td></tr></tbody></table></div>"
      ],
      "text/plain": [
       "shape: (11,)\n",
       "Series: 'physics' [f64]\n",
       "[\n",
       "\t45.7\n",
       "\t51.4\n",
       "\t50.0\n",
       "\t53.2\n",
       "\t53.2\n",
       "\t…\n",
       "\t54.5\n",
       "\t55.1\n",
       "\t54.1\n",
       "\t54.8\n",
       "\t63.2\n",
       "]"
      ]
     },
     "execution_count": 3,
     "metadata": {},
     "output_type": "execute_result"
    }
   ],
   "source": [
    "df['physics']"
   ]
  },
  {
   "cell_type": "code",
   "execution_count": 4,
   "id": "0c816463-30f7-4f76-8902-13e39ea66a74",
   "metadata": {},
   "outputs": [
    {
     "name": "stdout",
     "output_type": "stream",
     "text": [
      "<class 'polars.series.series.Series'>\n"
     ]
    }
   ],
   "source": [
    "print(type(df['physics']))"
   ]
  },
  {
   "cell_type": "markdown",
   "id": "6b58b374-5d0f-480d-9962-1727e796dc40",
   "metadata": {},
   "source": [
    "На выходе получили данные колонки `'physics'` в виде объекта **Series**."
   ]
  },
  {
   "cell_type": "markdown",
   "id": "cb40d5b7-105f-4bc4-b77f-a386cadcfaad",
   "metadata": {},
   "source": [
    "Если нам нужно получить столбец в виде объекта **DataFrame**, то наименование получаемого столбца указываем в дополнительных квадратных скобках:"
   ]
  },
  {
   "cell_type": "code",
   "execution_count": 5,
   "id": "10c061c7-95fd-4f28-b48a-0e1cd41b3f73",
   "metadata": {},
   "outputs": [
    {
     "data": {
      "text/html": [
       "<div><style>\n",
       ".dataframe > thead > tr,\n",
       ".dataframe > tbody > tr {\n",
       "  text-align: right;\n",
       "  white-space: pre-wrap;\n",
       "}\n",
       "</style>\n",
       "<small>shape: (11, 1)</small><table border=\"1\" class=\"dataframe\"><thead><tr><th>physics</th></tr><tr><td>f64</td></tr></thead><tbody><tr><td>45.7</td></tr><tr><td>51.4</td></tr><tr><td>50.0</td></tr><tr><td>53.2</td></tr><tr><td>53.2</td></tr><tr><td>&hellip;</td></tr><tr><td>54.5</td></tr><tr><td>55.1</td></tr><tr><td>54.1</td></tr><tr><td>54.8</td></tr><tr><td>63.2</td></tr></tbody></table></div>"
      ],
      "text/plain": [
       "shape: (11, 1)\n",
       "┌─────────┐\n",
       "│ physics │\n",
       "│ ---     │\n",
       "│ f64     │\n",
       "╞═════════╡\n",
       "│ 45.7    │\n",
       "│ 51.4    │\n",
       "│ 50.0    │\n",
       "│ 53.2    │\n",
       "│ 53.2    │\n",
       "│ …       │\n",
       "│ 54.5    │\n",
       "│ 55.1    │\n",
       "│ 54.1    │\n",
       "│ 54.8    │\n",
       "│ 63.2    │\n",
       "└─────────┘"
      ]
     },
     "execution_count": 5,
     "metadata": {},
     "output_type": "execute_result"
    }
   ],
   "source": [
    "df[['physics']]"
   ]
  },
  {
   "cell_type": "code",
   "execution_count": 6,
   "id": "34660ac9-0107-4235-9c28-1188ec04931d",
   "metadata": {},
   "outputs": [
    {
     "name": "stdout",
     "output_type": "stream",
     "text": [
      "<class 'polars.dataframe.frame.DataFrame'>\n"
     ]
    }
   ],
   "source": [
    "print(type(df[['physics']]))"
   ]
  },
  {
   "cell_type": "markdown",
   "id": "598f310f-337d-4aad-8466-34c0e91b668f",
   "metadata": {},
   "source": [
    "Для того, чтобы получить данные из нескольких колонок, нужно в конструкцию `DataFrame[ ]` передать список нужных столбцов. Например:"
   ]
  },
  {
   "cell_type": "code",
   "execution_count": 7,
   "id": "1cf6391d-0630-4888-9746-78f8ad2eafbd",
   "metadata": {},
   "outputs": [
    {
     "data": {
      "text/html": [
       "<div><style>\n",
       ".dataframe > thead > tr,\n",
       ".dataframe > tbody > tr {\n",
       "  text-align: right;\n",
       "  white-space: pre-wrap;\n",
       "}\n",
       "</style>\n",
       "<small>shape: (11, 2)</small><table border=\"1\" class=\"dataframe\"><thead><tr><th>russian_language</th><th>informatics</th></tr><tr><td>f64</td><td>f64</td></tr></thead><tbody><tr><td>62.5</td><td>57.2</td></tr><tr><td>65.8</td><td>54.0</td></tr><tr><td>68.0</td><td>56.6</td></tr><tr><td>69.1</td><td>59.2</td></tr><tr><td>70.93</td><td>58.4</td></tr><tr><td>&hellip;</td><td>&hellip;</td></tr><tr><td>71.6</td><td>61.19</td></tr><tr><td>71.4</td><td>62.8</td></tr><tr><td>68.3</td><td>59.5</td></tr><tr><td>66.4</td><td>58.4</td></tr><tr><td>63.9</td><td>54.5</td></tr></tbody></table></div>"
      ],
      "text/plain": [
       "shape: (11, 2)\n",
       "┌──────────────────┬─────────────┐\n",
       "│ russian_language ┆ informatics │\n",
       "│ ---              ┆ ---         │\n",
       "│ f64              ┆ f64         │\n",
       "╞══════════════════╪═════════════╡\n",
       "│ 62.5             ┆ 57.2        │\n",
       "│ 65.8             ┆ 54.0        │\n",
       "│ 68.0             ┆ 56.6        │\n",
       "│ 69.1             ┆ 59.2        │\n",
       "│ 70.93            ┆ 58.4        │\n",
       "│ …                ┆ …           │\n",
       "│ 71.6             ┆ 61.19       │\n",
       "│ 71.4             ┆ 62.8        │\n",
       "│ 68.3             ┆ 59.5        │\n",
       "│ 66.4             ┆ 58.4        │\n",
       "│ 63.9             ┆ 54.5        │\n",
       "└──────────────────┴─────────────┘"
      ]
     },
     "execution_count": 7,
     "metadata": {},
     "output_type": "execute_result"
    }
   ],
   "source": [
    "df[['russian_language', 'informatics']]"
   ]
  },
  {
   "cell_type": "markdown",
   "id": "079aa2cd-a016-4550-80dd-90f4c92e9d51",
   "metadata": {},
   "source": [
    "Доброе напоимнание: если имена столбцов мы не заключим в дополнительные квадратные скобки, то получим ошибку."
   ]
  },
  {
   "cell_type": "markdown",
   "id": "2f39287f-6fc5-4c4b-994b-7a2860050a68",
   "metadata": {},
   "source": [
    "## Доступ к строкам"
   ]
  },
  {
   "cell_type": "markdown",
   "id": "6d7c0525-cf59-4518-a38c-0fbe00591a82",
   "metadata": {},
   "source": [
    "В *polars* получить доступ к строкам можно следующими путями:\n",
    "- прямая индексация;\n",
    "- метод `row()`;\n",
    "- метод `slise()`."
   ]
  },
  {
   "cell_type": "markdown",
   "id": "d0e0085f-c995-42c8-ba60-14b52f4e55d5",
   "metadata": {},
   "source": [
    "Ещё раз посмотрим на наши данные"
   ]
  },
  {
   "cell_type": "code",
   "execution_count": 8,
   "id": "c21e7ff7-5d50-4c2c-852f-0694d426d8a4",
   "metadata": {},
   "outputs": [
    {
     "name": "stdout",
     "output_type": "stream",
     "text": [
      "shape: (11, 6)\n",
      "┌──────┬──────────────────┬─────────────┬────────────────┬─────────┬─────────────┐\n",
      "│ year ┆ russian_language ┆ mathematics ┆ social science ┆ physics ┆ informatics │\n",
      "│ ---  ┆ ---              ┆ ---         ┆ ---            ┆ ---     ┆ ---         │\n",
      "│ i64  ┆ f64              ┆ f64         ┆ f64            ┆ f64     ┆ f64         │\n",
      "╞══════╪══════════════════╪═════════════╪════════════════╪═════════╪═════════════╡\n",
      "│ 2014 ┆ 62.5             ┆ 46.4        ┆ 53.1           ┆ 45.7    ┆ 57.2        │\n",
      "│ 2015 ┆ 65.8             ┆ 45.5        ┆ 58.6           ┆ 51.4    ┆ 54.0        │\n",
      "│ 2016 ┆ 68.0             ┆ 46.2        ┆ 53.1           ┆ 50.0    ┆ 56.6        │\n",
      "│ 2017 ┆ 69.1             ┆ 47.1        ┆ 55.4           ┆ 53.2    ┆ 59.2        │\n",
      "│ 2018 ┆ 70.93            ┆ 49.8        ┆ 55.7           ┆ 53.2    ┆ 58.4        │\n",
      "│ …    ┆ …                ┆ …           ┆ …              ┆ …       ┆ …           │\n",
      "│ 2020 ┆ 71.6             ┆ 54.2        ┆ 56.3           ┆ 54.5    ┆ 61.19       │\n",
      "│ 2021 ┆ 71.4             ┆ 55.1        ┆ 56.4           ┆ 55.1    ┆ 62.8        │\n",
      "│ 2022 ┆ 68.3             ┆ 56.9        ┆ 59.9           ┆ 54.1    ┆ 59.5        │\n",
      "│ 2023 ┆ 66.4             ┆ 55.6        ┆ 56.4           ┆ 54.8    ┆ 58.4        │\n",
      "│ 2024 ┆ 63.9             ┆ 62.5        ┆ 55.0           ┆ 63.2    ┆ 54.5        │\n",
      "└──────┴──────────────────┴─────────────┴────────────────┴─────────┴─────────────┘\n"
     ]
    }
   ],
   "source": [
    "print(df)"
   ]
  },
  {
   "cell_type": "markdown",
   "id": "b0bf1756-3aa5-4493-9be2-f6bf71d40667",
   "metadata": {},
   "source": [
    "**Прямая индексация**"
   ]
  },
  {
   "cell_type": "markdown",
   "id": "ae197afa-9aaa-4457-9408-2af97f579686",
   "metadata": {},
   "source": [
    "Получаем первую строку"
   ]
  },
  {
   "cell_type": "code",
   "execution_count": 9,
   "id": "0218e371-0d9a-4806-9b8e-932fb1f5afb3",
   "metadata": {},
   "outputs": [
    {
     "data": {
      "text/html": [
       "<div><style>\n",
       ".dataframe > thead > tr,\n",
       ".dataframe > tbody > tr {\n",
       "  text-align: right;\n",
       "  white-space: pre-wrap;\n",
       "}\n",
       "</style>\n",
       "<small>shape: (1, 6)</small><table border=\"1\" class=\"dataframe\"><thead><tr><th>year</th><th>russian_language</th><th>mathematics</th><th>social science</th><th>physics</th><th>informatics</th></tr><tr><td>i64</td><td>f64</td><td>f64</td><td>f64</td><td>f64</td><td>f64</td></tr></thead><tbody><tr><td>2014</td><td>62.5</td><td>46.4</td><td>53.1</td><td>45.7</td><td>57.2</td></tr></tbody></table></div>"
      ],
      "text/plain": [
       "shape: (1, 6)\n",
       "┌──────┬──────────────────┬─────────────┬────────────────┬─────────┬─────────────┐\n",
       "│ year ┆ russian_language ┆ mathematics ┆ social science ┆ physics ┆ informatics │\n",
       "│ ---  ┆ ---              ┆ ---         ┆ ---            ┆ ---     ┆ ---         │\n",
       "│ i64  ┆ f64              ┆ f64         ┆ f64            ┆ f64     ┆ f64         │\n",
       "╞══════╪══════════════════╪═════════════╪════════════════╪═════════╪═════════════╡\n",
       "│ 2014 ┆ 62.5             ┆ 46.4        ┆ 53.1           ┆ 45.7    ┆ 57.2        │\n",
       "└──────┴──────────────────┴─────────────┴────────────────┴─────────┴─────────────┘"
      ]
     },
     "execution_count": 9,
     "metadata": {},
     "output_type": "execute_result"
    }
   ],
   "source": [
    "df[0]"
   ]
  },
  {
   "cell_type": "markdown",
   "id": "7f7d8758-c05b-4241-b5b6-8d31f979c1e0",
   "metadata": {},
   "source": [
    "Получим первые 4 строки"
   ]
  },
  {
   "cell_type": "code",
   "execution_count": 10,
   "id": "003a7f00-dc72-4692-a4a9-7c9fcc1eae5e",
   "metadata": {},
   "outputs": [
    {
     "data": {
      "text/html": [
       "<div><style>\n",
       ".dataframe > thead > tr,\n",
       ".dataframe > tbody > tr {\n",
       "  text-align: right;\n",
       "  white-space: pre-wrap;\n",
       "}\n",
       "</style>\n",
       "<small>shape: (4, 6)</small><table border=\"1\" class=\"dataframe\"><thead><tr><th>year</th><th>russian_language</th><th>mathematics</th><th>social science</th><th>physics</th><th>informatics</th></tr><tr><td>i64</td><td>f64</td><td>f64</td><td>f64</td><td>f64</td><td>f64</td></tr></thead><tbody><tr><td>2014</td><td>62.5</td><td>46.4</td><td>53.1</td><td>45.7</td><td>57.2</td></tr><tr><td>2015</td><td>65.8</td><td>45.5</td><td>58.6</td><td>51.4</td><td>54.0</td></tr><tr><td>2016</td><td>68.0</td><td>46.2</td><td>53.1</td><td>50.0</td><td>56.6</td></tr><tr><td>2017</td><td>69.1</td><td>47.1</td><td>55.4</td><td>53.2</td><td>59.2</td></tr></tbody></table></div>"
      ],
      "text/plain": [
       "shape: (4, 6)\n",
       "┌──────┬──────────────────┬─────────────┬────────────────┬─────────┬─────────────┐\n",
       "│ year ┆ russian_language ┆ mathematics ┆ social science ┆ physics ┆ informatics │\n",
       "│ ---  ┆ ---              ┆ ---         ┆ ---            ┆ ---     ┆ ---         │\n",
       "│ i64  ┆ f64              ┆ f64         ┆ f64            ┆ f64     ┆ f64         │\n",
       "╞══════╪══════════════════╪═════════════╪════════════════╪═════════╪═════════════╡\n",
       "│ 2014 ┆ 62.5             ┆ 46.4        ┆ 53.1           ┆ 45.7    ┆ 57.2        │\n",
       "│ 2015 ┆ 65.8             ┆ 45.5        ┆ 58.6           ┆ 51.4    ┆ 54.0        │\n",
       "│ 2016 ┆ 68.0             ┆ 46.2        ┆ 53.1           ┆ 50.0    ┆ 56.6        │\n",
       "│ 2017 ┆ 69.1             ┆ 47.1        ┆ 55.4           ┆ 53.2    ┆ 59.2        │\n",
       "└──────┴──────────────────┴─────────────┴────────────────┴─────────┴─────────────┘"
      ]
     },
     "execution_count": 10,
     "metadata": {},
     "output_type": "execute_result"
    }
   ],
   "source": [
    "df[0:4]"
   ]
  },
  {
   "cell_type": "markdown",
   "id": "5cd2f664-6fba-4851-8110-15c93cf907d3",
   "metadata": {},
   "source": [
    "Получим каждую вторую строку:"
   ]
  },
  {
   "cell_type": "code",
   "execution_count": 11,
   "id": "1cd6ccbc-8c16-4476-ab12-4244deabf896",
   "metadata": {},
   "outputs": [
    {
     "data": {
      "text/html": [
       "<div><style>\n",
       ".dataframe > thead > tr,\n",
       ".dataframe > tbody > tr {\n",
       "  text-align: right;\n",
       "  white-space: pre-wrap;\n",
       "}\n",
       "</style>\n",
       "<small>shape: (6, 6)</small><table border=\"1\" class=\"dataframe\"><thead><tr><th>year</th><th>russian_language</th><th>mathematics</th><th>social science</th><th>physics</th><th>informatics</th></tr><tr><td>i64</td><td>f64</td><td>f64</td><td>f64</td><td>f64</td><td>f64</td></tr></thead><tbody><tr><td>2014</td><td>62.5</td><td>46.4</td><td>53.1</td><td>45.7</td><td>57.2</td></tr><tr><td>2016</td><td>68.0</td><td>46.2</td><td>53.1</td><td>50.0</td><td>56.6</td></tr><tr><td>2018</td><td>70.93</td><td>49.8</td><td>55.7</td><td>53.2</td><td>58.4</td></tr><tr><td>2020</td><td>71.6</td><td>54.2</td><td>56.3</td><td>54.5</td><td>61.19</td></tr><tr><td>2022</td><td>68.3</td><td>56.9</td><td>59.9</td><td>54.1</td><td>59.5</td></tr><tr><td>2024</td><td>63.9</td><td>62.5</td><td>55.0</td><td>63.2</td><td>54.5</td></tr></tbody></table></div>"
      ],
      "text/plain": [
       "shape: (6, 6)\n",
       "┌──────┬──────────────────┬─────────────┬────────────────┬─────────┬─────────────┐\n",
       "│ year ┆ russian_language ┆ mathematics ┆ social science ┆ physics ┆ informatics │\n",
       "│ ---  ┆ ---              ┆ ---         ┆ ---            ┆ ---     ┆ ---         │\n",
       "│ i64  ┆ f64              ┆ f64         ┆ f64            ┆ f64     ┆ f64         │\n",
       "╞══════╪══════════════════╪═════════════╪════════════════╪═════════╪═════════════╡\n",
       "│ 2014 ┆ 62.5             ┆ 46.4        ┆ 53.1           ┆ 45.7    ┆ 57.2        │\n",
       "│ 2016 ┆ 68.0             ┆ 46.2        ┆ 53.1           ┆ 50.0    ┆ 56.6        │\n",
       "│ 2018 ┆ 70.93            ┆ 49.8        ┆ 55.7           ┆ 53.2    ┆ 58.4        │\n",
       "│ 2020 ┆ 71.6             ┆ 54.2        ┆ 56.3           ┆ 54.5    ┆ 61.19       │\n",
       "│ 2022 ┆ 68.3             ┆ 56.9        ┆ 59.9           ┆ 54.1    ┆ 59.5        │\n",
       "│ 2024 ┆ 63.9             ┆ 62.5        ┆ 55.0           ┆ 63.2    ┆ 54.5        │\n",
       "└──────┴──────────────────┴─────────────┴────────────────┴─────────┴─────────────┘"
      ]
     },
     "execution_count": 11,
     "metadata": {},
     "output_type": "execute_result"
    }
   ],
   "source": [
    "df[::2]"
   ]
  },
  {
   "cell_type": "markdown",
   "id": "0ca122a5-000c-4061-a310-6c36b1539a2f",
   "metadata": {},
   "source": [
    "**Метод `row()`**"
   ]
  },
  {
   "cell_type": "markdown",
   "id": "46603615-a732-4363-a370-457cfc7cd7fd",
   "metadata": {},
   "source": [
    "Получаем строку с индексом 5 (шестая строка, т.к. индексация с нуля) при помощи метода `row()`"
   ]
  },
  {
   "cell_type": "code",
   "execution_count": 12,
   "id": "a45cb18b-70c6-44e1-9f08-f59eac216384",
   "metadata": {},
   "outputs": [
    {
     "name": "stdout",
     "output_type": "stream",
     "text": [
      "(2019, 69.5, 56.5, 54.9, 54.4, 62.4)\n"
     ]
    }
   ],
   "source": [
    "print(df.row(5))"
   ]
  },
  {
   "cell_type": "markdown",
   "id": "b3b9b258-42c2-49dd-9e2a-64ae0d9346dd",
   "metadata": {},
   "source": [
    "В таком случае на выходе имеем кортеж"
   ]
  },
  {
   "cell_type": "code",
   "execution_count": 13,
   "id": "51c48240-41ff-4e06-8582-49e60a5f181b",
   "metadata": {},
   "outputs": [
    {
     "data": {
      "text/html": [
       "<div><style>\n",
       ".dataframe > thead > tr,\n",
       ".dataframe > tbody > tr {\n",
       "  text-align: right;\n",
       "  white-space: pre-wrap;\n",
       "}\n",
       "</style>\n",
       "<small>shape: (3, 6)</small><table border=\"1\" class=\"dataframe\"><thead><tr><th>year</th><th>russian_language</th><th>mathematics</th><th>social science</th><th>physics</th><th>informatics</th></tr><tr><td>i64</td><td>f64</td><td>f64</td><td>f64</td><td>f64</td><td>f64</td></tr></thead><tbody><tr><td>2016</td><td>68.0</td><td>46.2</td><td>53.1</td><td>50.0</td><td>56.6</td></tr><tr><td>2017</td><td>69.1</td><td>47.1</td><td>55.4</td><td>53.2</td><td>59.2</td></tr><tr><td>2018</td><td>70.93</td><td>49.8</td><td>55.7</td><td>53.2</td><td>58.4</td></tr></tbody></table></div>"
      ],
      "text/plain": [
       "shape: (3, 6)\n",
       "┌──────┬──────────────────┬─────────────┬────────────────┬─────────┬─────────────┐\n",
       "│ year ┆ russian_language ┆ mathematics ┆ social science ┆ physics ┆ informatics │\n",
       "│ ---  ┆ ---              ┆ ---         ┆ ---            ┆ ---     ┆ ---         │\n",
       "│ i64  ┆ f64              ┆ f64         ┆ f64            ┆ f64     ┆ f64         │\n",
       "╞══════╪══════════════════╪═════════════╪════════════════╪═════════╪═════════════╡\n",
       "│ 2016 ┆ 68.0             ┆ 46.2        ┆ 53.1           ┆ 50.0    ┆ 56.6        │\n",
       "│ 2017 ┆ 69.1             ┆ 47.1        ┆ 55.4           ┆ 53.2    ┆ 59.2        │\n",
       "│ 2018 ┆ 70.93            ┆ 49.8        ┆ 55.7           ┆ 53.2    ┆ 58.4        │\n",
       "└──────┴──────────────────┴─────────────┴────────────────┴─────────┴─────────────┘"
      ]
     },
     "execution_count": 13,
     "metadata": {},
     "output_type": "execute_result"
    }
   ],
   "source": [
    "df.slice(2, 3)"
   ]
  },
  {
   "cell_type": "markdown",
   "id": "ccf1e27e-ea75-40c6-a87a-1ab48499616c",
   "metadata": {},
   "source": [
    "**Метод `slice()`**"
   ]
  },
  {
   "cell_type": "markdown",
   "id": "df92335f-95ef-4754-ba45-37ce2fae9f0a",
   "metadata": {},
   "source": [
    "Если хотим несколько строк, то методом `slice()` можем получить срез:"
   ]
  },
  {
   "cell_type": "code",
   "execution_count": 14,
   "id": "4ffc84e3-1109-4560-b3f9-e33ef5fa89c2",
   "metadata": {},
   "outputs": [
    {
     "data": {
      "text/html": [
       "<div><style>\n",
       ".dataframe > thead > tr,\n",
       ".dataframe > tbody > tr {\n",
       "  text-align: right;\n",
       "  white-space: pre-wrap;\n",
       "}\n",
       "</style>\n",
       "<small>shape: (3, 6)</small><table border=\"1\" class=\"dataframe\"><thead><tr><th>year</th><th>russian_language</th><th>mathematics</th><th>social science</th><th>physics</th><th>informatics</th></tr><tr><td>i64</td><td>f64</td><td>f64</td><td>f64</td><td>f64</td><td>f64</td></tr></thead><tbody><tr><td>2016</td><td>68.0</td><td>46.2</td><td>53.1</td><td>50.0</td><td>56.6</td></tr><tr><td>2017</td><td>69.1</td><td>47.1</td><td>55.4</td><td>53.2</td><td>59.2</td></tr><tr><td>2018</td><td>70.93</td><td>49.8</td><td>55.7</td><td>53.2</td><td>58.4</td></tr></tbody></table></div>"
      ],
      "text/plain": [
       "shape: (3, 6)\n",
       "┌──────┬──────────────────┬─────────────┬────────────────┬─────────┬─────────────┐\n",
       "│ year ┆ russian_language ┆ mathematics ┆ social science ┆ physics ┆ informatics │\n",
       "│ ---  ┆ ---              ┆ ---         ┆ ---            ┆ ---     ┆ ---         │\n",
       "│ i64  ┆ f64              ┆ f64         ┆ f64            ┆ f64     ┆ f64         │\n",
       "╞══════╪══════════════════╪═════════════╪════════════════╪═════════╪═════════════╡\n",
       "│ 2016 ┆ 68.0             ┆ 46.2        ┆ 53.1           ┆ 50.0    ┆ 56.6        │\n",
       "│ 2017 ┆ 69.1             ┆ 47.1        ┆ 55.4           ┆ 53.2    ┆ 59.2        │\n",
       "│ 2018 ┆ 70.93            ┆ 49.8        ┆ 55.7           ┆ 53.2    ┆ 58.4        │\n",
       "└──────┴──────────────────┴─────────────┴────────────────┴─────────┴─────────────┘"
      ]
     },
     "execution_count": 14,
     "metadata": {},
     "output_type": "execute_result"
    }
   ],
   "source": [
    "# Получаем строки со 2-й по 4-ю (индексы 2, 3, 4)\n",
    "df.slice(2, 3)"
   ]
  },
  {
   "cell_type": "markdown",
   "id": "62a97f26-b87a-49b6-8b42-e32a439d5430",
   "metadata": {},
   "source": [
    "В таком случае, мы стартуем с индекса 2 (2016 год) и берём 3 значения (года - 2016, 2017, 2018)"
   ]
  },
  {
   "cell_type": "markdown",
   "id": "9c821a7a-4fd2-469d-84e0-4337cd8098a4",
   "metadata": {},
   "source": [
    "## Доступ к данным по условию"
   ]
  },
  {
   "cell_type": "markdown",
   "id": "702f907a-70cc-45c8-a277-608794ac35a9",
   "metadata": {},
   "source": [
    "Также получать доступ к данным можно с использованием логических выражений и метода `filter()`. В этом случае применяются операторы сравнения и побитовые операторы.\n",
    "\n",
    "Операторы сравнения:\n",
    "- `==` - равно;\n",
    "- `!=` - не равно;\n",
    "- `>` - больше;\n",
    "- `<` - меньше;\n",
    "- `>=` - больше или равно;\n",
    "- `<=`  - меньше или равно.\n",
    "\n",
    "Побитовые операторы:\n",
    "- `~` - отрицание;\n",
    "- `&` - \"И\";\n",
    "- `|` - \"ИЛИ\";\n",
    "- `^` - исключающее \"ИЛИ\"."
   ]
  },
  {
   "cell_type": "markdown",
   "id": "2c5dce4a-ef32-46d1-b4fc-e8934edb34cd",
   "metadata": {},
   "source": [
    "Посмотрим на наши данные"
   ]
  },
  {
   "cell_type": "code",
   "execution_count": 15,
   "id": "1446898e-464f-49a6-8398-e6e5eb26fd31",
   "metadata": {},
   "outputs": [
    {
     "name": "stdout",
     "output_type": "stream",
     "text": [
      "shape: (11, 6)\n",
      "┌──────┬──────────────────┬─────────────┬────────────────┬─────────┬─────────────┐\n",
      "│ year ┆ russian_language ┆ mathematics ┆ social science ┆ physics ┆ informatics │\n",
      "│ ---  ┆ ---              ┆ ---         ┆ ---            ┆ ---     ┆ ---         │\n",
      "│ i64  ┆ f64              ┆ f64         ┆ f64            ┆ f64     ┆ f64         │\n",
      "╞══════╪══════════════════╪═════════════╪════════════════╪═════════╪═════════════╡\n",
      "│ 2014 ┆ 62.5             ┆ 46.4        ┆ 53.1           ┆ 45.7    ┆ 57.2        │\n",
      "│ 2015 ┆ 65.8             ┆ 45.5        ┆ 58.6           ┆ 51.4    ┆ 54.0        │\n",
      "│ 2016 ┆ 68.0             ┆ 46.2        ┆ 53.1           ┆ 50.0    ┆ 56.6        │\n",
      "│ 2017 ┆ 69.1             ┆ 47.1        ┆ 55.4           ┆ 53.2    ┆ 59.2        │\n",
      "│ 2018 ┆ 70.93            ┆ 49.8        ┆ 55.7           ┆ 53.2    ┆ 58.4        │\n",
      "│ …    ┆ …                ┆ …           ┆ …              ┆ …       ┆ …           │\n",
      "│ 2020 ┆ 71.6             ┆ 54.2        ┆ 56.3           ┆ 54.5    ┆ 61.19       │\n",
      "│ 2021 ┆ 71.4             ┆ 55.1        ┆ 56.4           ┆ 55.1    ┆ 62.8        │\n",
      "│ 2022 ┆ 68.3             ┆ 56.9        ┆ 59.9           ┆ 54.1    ┆ 59.5        │\n",
      "│ 2023 ┆ 66.4             ┆ 55.6        ┆ 56.4           ┆ 54.8    ┆ 58.4        │\n",
      "│ 2024 ┆ 63.9             ┆ 62.5        ┆ 55.0           ┆ 63.2    ┆ 54.5        │\n",
      "└──────┴──────────────────┴─────────────┴────────────────┴─────────┴─────────────┘\n"
     ]
    }
   ],
   "source": [
    "print(df)"
   ]
  },
  {
   "cell_type": "markdown",
   "id": "6685d3d0-2106-4536-9804-e5186f349324",
   "metadata": {},
   "source": [
    "Выведем строки, где средний балл по математике был выше 55.5:"
   ]
  },
  {
   "cell_type": "code",
   "execution_count": 16,
   "id": "831af25c-8795-4821-a910-2442d85fd648",
   "metadata": {},
   "outputs": [
    {
     "data": {
      "text/html": [
       "<div><style>\n",
       ".dataframe > thead > tr,\n",
       ".dataframe > tbody > tr {\n",
       "  text-align: right;\n",
       "  white-space: pre-wrap;\n",
       "}\n",
       "</style>\n",
       "<small>shape: (4, 6)</small><table border=\"1\" class=\"dataframe\"><thead><tr><th>year</th><th>russian_language</th><th>mathematics</th><th>social science</th><th>physics</th><th>informatics</th></tr><tr><td>i64</td><td>f64</td><td>f64</td><td>f64</td><td>f64</td><td>f64</td></tr></thead><tbody><tr><td>2019</td><td>69.5</td><td>56.5</td><td>54.9</td><td>54.4</td><td>62.4</td></tr><tr><td>2022</td><td>68.3</td><td>56.9</td><td>59.9</td><td>54.1</td><td>59.5</td></tr><tr><td>2023</td><td>66.4</td><td>55.6</td><td>56.4</td><td>54.8</td><td>58.4</td></tr><tr><td>2024</td><td>63.9</td><td>62.5</td><td>55.0</td><td>63.2</td><td>54.5</td></tr></tbody></table></div>"
      ],
      "text/plain": [
       "shape: (4, 6)\n",
       "┌──────┬──────────────────┬─────────────┬────────────────┬─────────┬─────────────┐\n",
       "│ year ┆ russian_language ┆ mathematics ┆ social science ┆ physics ┆ informatics │\n",
       "│ ---  ┆ ---              ┆ ---         ┆ ---            ┆ ---     ┆ ---         │\n",
       "│ i64  ┆ f64              ┆ f64         ┆ f64            ┆ f64     ┆ f64         │\n",
       "╞══════╪══════════════════╪═════════════╪════════════════╪═════════╪═════════════╡\n",
       "│ 2019 ┆ 69.5             ┆ 56.5        ┆ 54.9           ┆ 54.4    ┆ 62.4        │\n",
       "│ 2022 ┆ 68.3             ┆ 56.9        ┆ 59.9           ┆ 54.1    ┆ 59.5        │\n",
       "│ 2023 ┆ 66.4             ┆ 55.6        ┆ 56.4           ┆ 54.8    ┆ 58.4        │\n",
       "│ 2024 ┆ 63.9             ┆ 62.5        ┆ 55.0           ┆ 63.2    ┆ 54.5        │\n",
       "└──────┴──────────────────┴─────────────┴────────────────┴─────────┴─────────────┘"
      ]
     },
     "execution_count": 16,
     "metadata": {},
     "output_type": "execute_result"
    }
   ],
   "source": [
    "df.filter(pl.col(\"mathematics\") > 55.5)"
   ]
  },
  {
   "cell_type": "markdown",
   "id": "cfc05812-d62e-4eca-9e56-84cd5fc77427",
   "metadata": {},
   "source": [
    "Или, например, получим все строки, в которых за последние 5 лет средний балл по русскому языку не ниже 68 или по математике выше 55.5 и по физике не ниже 60."
   ]
  },
  {
   "cell_type": "code",
   "execution_count": 17,
   "id": "4034c7e8-7e19-414f-a597-c14245f37e82",
   "metadata": {},
   "outputs": [
    {
     "data": {
      "text/html": [
       "<div><style>\n",
       ".dataframe > thead > tr,\n",
       ".dataframe > tbody > tr {\n",
       "  text-align: right;\n",
       "  white-space: pre-wrap;\n",
       "}\n",
       "</style>\n",
       "<small>shape: (4, 6)</small><table border=\"1\" class=\"dataframe\"><thead><tr><th>year</th><th>russian_language</th><th>mathematics</th><th>social science</th><th>physics</th><th>informatics</th></tr><tr><td>i64</td><td>f64</td><td>f64</td><td>f64</td><td>f64</td><td>f64</td></tr></thead><tbody><tr><td>2020</td><td>71.6</td><td>54.2</td><td>56.3</td><td>54.5</td><td>61.19</td></tr><tr><td>2021</td><td>71.4</td><td>55.1</td><td>56.4</td><td>55.1</td><td>62.8</td></tr><tr><td>2022</td><td>68.3</td><td>56.9</td><td>59.9</td><td>54.1</td><td>59.5</td></tr><tr><td>2024</td><td>63.9</td><td>62.5</td><td>55.0</td><td>63.2</td><td>54.5</td></tr></tbody></table></div>"
      ],
      "text/plain": [
       "shape: (4, 6)\n",
       "┌──────┬──────────────────┬─────────────┬────────────────┬─────────┬─────────────┐\n",
       "│ year ┆ russian_language ┆ mathematics ┆ social science ┆ physics ┆ informatics │\n",
       "│ ---  ┆ ---              ┆ ---         ┆ ---            ┆ ---     ┆ ---         │\n",
       "│ i64  ┆ f64              ┆ f64         ┆ f64            ┆ f64     ┆ f64         │\n",
       "╞══════╪══════════════════╪═════════════╪════════════════╪═════════╪═════════════╡\n",
       "│ 2020 ┆ 71.6             ┆ 54.2        ┆ 56.3           ┆ 54.5    ┆ 61.19       │\n",
       "│ 2021 ┆ 71.4             ┆ 55.1        ┆ 56.4           ┆ 55.1    ┆ 62.8        │\n",
       "│ 2022 ┆ 68.3             ┆ 56.9        ┆ 59.9           ┆ 54.1    ┆ 59.5        │\n",
       "│ 2024 ┆ 63.9             ┆ 62.5        ┆ 55.0           ┆ 63.2    ┆ 54.5        │\n",
       "└──────┴──────────────────┴─────────────┴────────────────┴─────────┴─────────────┘"
      ]
     },
     "execution_count": 17,
     "metadata": {},
     "output_type": "execute_result"
    }
   ],
   "source": [
    "df.filter((((pl.col(\"mathematics\") > 55.5) & (pl.col(\"physics\") >= 60)) | (pl.col(\"russian_language\") >= 68)) & (pl.col(\"year\") > max(df[\"year\"])-5))"
   ]
  }
 ],
 "metadata": {
  "kernelspec": {
   "display_name": "Python 3 (ipykernel)",
   "language": "python",
   "name": "python3"
  },
  "language_info": {
   "codemirror_mode": {
    "name": "ipython",
    "version": 3
   },
   "file_extension": ".py",
   "mimetype": "text/x-python",
   "name": "python",
   "nbconvert_exporter": "python",
   "pygments_lexer": "ipython3",
   "version": "3.12.7"
  }
 },
 "nbformat": 4,
 "nbformat_minor": 5
}
